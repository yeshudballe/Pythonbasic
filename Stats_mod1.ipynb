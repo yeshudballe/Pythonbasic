{
 "cells": [
  {
   "cell_type": "markdown",
   "id": "17fddab4",
   "metadata": {},
   "source": [
    "# Statistics Assignment\n",
    "## Theoretical and Practical Questions"
   ]
  },
  {
   "cell_type": "markdown",
   "id": "7292af12",
   "metadata": {},
   "source": [
    "### Question 1: Difference between Descriptive and Inferential Statistics\n",
    "Descriptive statistics summarize, organize, and present data in a meaningful way using tables, graphs, or measures like mean, median, mode, and standard deviation. Example: calculating average marks of students. Inferential statistics use a sample to make predictions or generalizations about a population, e.g., predicting election results from a survey. Descriptive tells 'what is,' inferential tells 'what could be.' Both are essential for understanding data and making informed decisions."
   ]
  },
  {
   "cell_type": "markdown",
   "id": "814e21b3",
   "metadata": {},
   "source": [
    "### Question 2: Sampling and Random vs Stratified Sampling\n",
    "Sampling is selecting a subset of a population to estimate characteristics of the whole population. Random sampling gives every individual equal chance (e.g., 50 students picked randomly). Stratified sampling divides the population into subgroups (strata) and samples proportionally from each group to ensure representation. Random may overlook minorities; stratified maintains their presence. Sampling reduces time and cost while providing reliable data for statistical inference."
   ]
  },
  {
   "cell_type": "markdown",
   "id": "bb109f9e",
   "metadata": {},
   "source": [
    "### Question 3: Mean, Median, and Mode\n",
    "Mean is arithmetic average, median is the middle value, and mode is the most frequent value. Mean shows overall trend but is sensitive to outliers. Median is robust against outliers, mode identifies common observations, especially in categorical data. Using all three together summarizes central tendency, helps detect anomalies, understand distribution, and guides decision-making in data analysis."
   ]
  },
  {
   "cell_type": "markdown",
   "id": "0133d543",
   "metadata": {},
   "source": [
    "### Question 4: Skewness and Kurtosis\n",
    "Skewness measures asymmetry; positive skew has a long right tail. Kurtosis measures peakedness; high kurtosis shows sharp peak and heavy tails, low kurtosis is flatter. Positive skew implies extreme high values pull mean right (mean > median > mode). Skewness and kurtosis help detect outliers, understand distribution shape, and guide appropriate statistical methods for analysis and forecasting."
   ]
  },
  {
   "cell_type": "code",
   "execution_count": 2,
   "id": "b7e03c0e",
   "metadata": {},
   "outputs": [
    {
     "name": "stdout",
     "output_type": "stream",
     "text": [
      "Mean: 19.6\n",
      "Median: 19\n",
      "Mode: 12\n"
     ]
    }
   ],
   "source": [
    "# Question 5: Compute Mean, Median, Mode\n",
    "from statistics import mean, median, mode\n",
    "\n",
    "numbers = [12, 15, 12, 18, 19, 12, 20, 22, 19, 19, 24, 24, 24, 26, 28]\n",
    "\n",
    "print('Mean:', mean(numbers))\n",
    "print('Median:', median(numbers))\n",
    "print('Mode:', mode(numbers))"
   ]
  },
  {
   "cell_type": "code",
   "execution_count": 4,
   "id": "921fa6c3-2a29-4d2f-af2a-e13dc0427311",
   "metadata": {
    "collapsed": true,
    "jupyter": {
     "outputs_hidden": true,
     "source_hidden": true
    }
   },
   "outputs": [
    {
     "name": "stdout",
     "output_type": "stream",
     "text": [
      "Collecting numpy\n",
      "  Downloading numpy-2.3.2-cp313-cp313-win_amd64.whl.metadata (60 kB)\n",
      "Downloading numpy-2.3.2-cp313-cp313-win_amd64.whl (12.8 MB)\n",
      "   ---------------------------------------- 0.0/12.8 MB ? eta -:--:--\n",
      "   - -------------------------------------- 0.5/12.8 MB 3.3 MB/s eta 0:00:04\n",
      "   --- ------------------------------------ 1.0/12.8 MB 2.9 MB/s eta 0:00:05\n",
      "   ---- ----------------------------------- 1.6/12.8 MB 2.8 MB/s eta 0:00:05\n",
      "   ------- -------------------------------- 2.4/12.8 MB 2.8 MB/s eta 0:00:04\n",
      "   --------- ------------------------------ 2.9/12.8 MB 2.8 MB/s eta 0:00:04\n",
      "   ---------- ----------------------------- 3.4/12.8 MB 2.8 MB/s eta 0:00:04\n",
      "   ------------ --------------------------- 3.9/12.8 MB 2.8 MB/s eta 0:00:04\n",
      "   ------------- -------------------------- 4.2/12.8 MB 2.8 MB/s eta 0:00:04\n",
      "   ------------- -------------------------- 4.5/12.8 MB 2.4 MB/s eta 0:00:04\n",
      "   -------------- ------------------------- 4.7/12.8 MB 2.3 MB/s eta 0:00:04\n",
      "   ----------------- ---------------------- 5.5/12.8 MB 2.4 MB/s eta 0:00:04\n",
      "   ------------------ --------------------- 6.0/12.8 MB 2.4 MB/s eta 0:00:03\n",
      "   -------------------- ------------------- 6.6/12.8 MB 2.5 MB/s eta 0:00:03\n",
      "   ---------------------- ----------------- 7.3/12.8 MB 2.5 MB/s eta 0:00:03\n",
      "   ------------------------ --------------- 7.9/12.8 MB 2.5 MB/s eta 0:00:02\n",
      "   -------------------------- ------------- 8.4/12.8 MB 2.6 MB/s eta 0:00:02\n",
      "   ---------------------------- ----------- 9.2/12.8 MB 2.6 MB/s eta 0:00:02\n",
      "   ------------------------------ --------- 9.7/12.8 MB 2.6 MB/s eta 0:00:02\n",
      "   ------------------------------- -------- 10.2/12.8 MB 2.6 MB/s eta 0:00:01\n",
      "   ---------------------------------- ----- 11.0/12.8 MB 2.6 MB/s eta 0:00:01\n",
      "   ------------------------------------ --- 11.5/12.8 MB 2.6 MB/s eta 0:00:01\n",
      "   ------------------------------------- -- 12.1/12.8 MB 2.6 MB/s eta 0:00:01\n",
      "   ---------------------------------------  12.6/12.8 MB 2.6 MB/s eta 0:00:01\n",
      "   ---------------------------------------- 12.8/12.8 MB 2.6 MB/s  0:00:04\n",
      "Installing collected packages: numpy\n",
      "Successfully installed numpy-2.3.2\n"
     ]
    }
   ],
   "source": [
    "!pip install numpy\n"
   ]
  },
  {
   "cell_type": "code",
   "execution_count": 5,
   "id": "9f617122",
   "metadata": {},
   "outputs": [
    {
     "name": "stdout",
     "output_type": "stream",
     "text": [
      "Covariance: 275.0\n",
      "Correlation coefficient: 0.995893206467704\n"
     ]
    }
   ],
   "source": [
    "# Question 6: Covariance and Correlation\n",
    "import numpy as np\n",
    "\n",
    "list_x = [10, 20, 30, 40, 50]\n",
    "list_y = [15, 25, 35, 45, 60]\n",
    "\n",
    "covariance = np.cov(list_x, list_y)[0,1]\n",
    "correlation = np.corrcoef(list_x, list_y)[0,1]\n",
    "\n",
    "print('Covariance:', covariance)\n",
    "print('Correlation coefficient:', correlation)"
   ]
  },
  {
   "cell_type": "code",
   "execution_count": 7,
   "id": "ab16f3aa-59b0-4205-924f-34fbc71719a3",
   "metadata": {
    "collapsed": true,
    "jupyter": {
     "outputs_hidden": true
    }
   },
   "outputs": [
    {
     "name": "stdout",
     "output_type": "stream",
     "text": [
      "Collecting matplotlib\n",
      "  Downloading matplotlib-3.10.6-cp313-cp313-win_amd64.whl.metadata (11 kB)\n",
      "Collecting contourpy>=1.0.1 (from matplotlib)\n",
      "  Downloading contourpy-1.3.3-cp313-cp313-win_amd64.whl.metadata (5.5 kB)\n",
      "Collecting cycler>=0.10 (from matplotlib)\n",
      "  Downloading cycler-0.12.1-py3-none-any.whl.metadata (3.8 kB)\n",
      "Collecting fonttools>=4.22.0 (from matplotlib)\n",
      "  Downloading fonttools-4.59.2-cp313-cp313-win_amd64.whl.metadata (111 kB)\n",
      "Collecting kiwisolver>=1.3.1 (from matplotlib)\n",
      "  Downloading kiwisolver-1.4.9-cp313-cp313-win_amd64.whl.metadata (6.4 kB)\n",
      "Requirement already satisfied: numpy>=1.23 in c:\\users\\thinkpad\\appdata\\local\\programs\\python\\python313\\lib\\site-packages (from matplotlib) (2.3.2)\n",
      "Requirement already satisfied: packaging>=20.0 in c:\\users\\thinkpad\\appdata\\local\\programs\\python\\python313\\lib\\site-packages (from matplotlib) (25.0)\n",
      "Collecting pillow>=8 (from matplotlib)\n",
      "  Downloading pillow-11.3.0-cp313-cp313-win_amd64.whl.metadata (9.2 kB)\n",
      "Collecting pyparsing>=2.3.1 (from matplotlib)\n",
      "  Downloading pyparsing-3.2.3-py3-none-any.whl.metadata (5.0 kB)\n",
      "Requirement already satisfied: python-dateutil>=2.7 in c:\\users\\thinkpad\\appdata\\local\\programs\\python\\python313\\lib\\site-packages (from matplotlib) (2.9.0.post0)\n",
      "Requirement already satisfied: six>=1.5 in c:\\users\\thinkpad\\appdata\\local\\programs\\python\\python313\\lib\\site-packages (from python-dateutil>=2.7->matplotlib) (1.17.0)\n",
      "Downloading matplotlib-3.10.6-cp313-cp313-win_amd64.whl (8.1 MB)\n",
      "   ---------------------------------------- 0.0/8.1 MB ? eta -:--:--\n",
      "   -- ------------------------------------- 0.5/8.1 MB 2.3 MB/s eta 0:00:04\n",
      "   --- ------------------------------------ 0.8/8.1 MB 2.4 MB/s eta 0:00:04\n",
      "   ----- ---------------------------------- 1.0/8.1 MB 2.3 MB/s eta 0:00:04\n",
      "   ----- ---------------------------------- 1.0/8.1 MB 2.3 MB/s eta 0:00:04\n",
      "   ------ --------------------------------- 1.3/8.1 MB 1.2 MB/s eta 0:00:06\n",
      "   ------ --------------------------------- 1.3/8.1 MB 1.2 MB/s eta 0:00:06\n",
      "   ------- -------------------------------- 1.6/8.1 MB 974.0 kB/s eta 0:00:07\n",
      "   ------- -------------------------------- 1.6/8.1 MB 974.0 kB/s eta 0:00:07\n",
      "   ------- -------------------------------- 1.6/8.1 MB 974.0 kB/s eta 0:00:07\n",
      "   ---------- ----------------------------- 2.1/8.1 MB 943.8 kB/s eta 0:00:07\n",
      "   ------------ --------------------------- 2.6/8.1 MB 1.1 MB/s eta 0:00:05\n",
      "   --------------- ------------------------ 3.1/8.1 MB 1.2 MB/s eta 0:00:05\n",
      "   ------------------ --------------------- 3.7/8.1 MB 1.3 MB/s eta 0:00:04\n",
      "   -------------------- ------------------- 4.2/8.1 MB 1.4 MB/s eta 0:00:03\n",
      "   ----------------------- ---------------- 4.7/8.1 MB 1.5 MB/s eta 0:00:03\n",
      "   ------------------------- -------------- 5.2/8.1 MB 1.6 MB/s eta 0:00:02\n",
      "   ---------------------------- ----------- 5.8/8.1 MB 1.7 MB/s eta 0:00:02\n",
      "   ------------------------------ --------- 6.3/8.1 MB 1.7 MB/s eta 0:00:02\n",
      "   ---------------------------------- ----- 7.1/8.1 MB 1.8 MB/s eta 0:00:01\n",
      "   ------------------------------------- -- 7.6/8.1 MB 1.8 MB/s eta 0:00:01\n",
      "   -------------------------------------- - 7.9/8.1 MB 1.9 MB/s eta 0:00:01\n",
      "   ---------------------------------------- 8.1/8.1 MB 1.9 MB/s  0:00:04\n",
      "Downloading contourpy-1.3.3-cp313-cp313-win_amd64.whl (226 kB)\n",
      "Downloading cycler-0.12.1-py3-none-any.whl (8.3 kB)\n",
      "Downloading fonttools-4.59.2-cp313-cp313-win_amd64.whl (2.3 MB)\n",
      "   ---------------------------------------- 0.0/2.3 MB ? eta -:--:--\n",
      "   --------- ------------------------------ 0.5/2.3 MB 2.1 MB/s eta 0:00:01\n",
      "   ------------------ --------------------- 1.0/2.3 MB 2.4 MB/s eta 0:00:01\n",
      "   --------------------------- ------------ 1.6/2.3 MB 2.6 MB/s eta 0:00:01\n",
      "   ------------------------------------- -- 2.1/2.3 MB 2.6 MB/s eta 0:00:01\n",
      "   ---------------------------------------- 2.3/2.3 MB 2.5 MB/s  0:00:00\n",
      "Downloading kiwisolver-1.4.9-cp313-cp313-win_amd64.whl (73 kB)\n",
      "Downloading pillow-11.3.0-cp313-cp313-win_amd64.whl (7.0 MB)\n",
      "   ---------------------------------------- 0.0/7.0 MB ? eta -:--:--\n",
      "   --- ------------------------------------ 0.5/7.0 MB 3.0 MB/s eta 0:00:03\n",
      "   ------ --------------------------------- 1.0/7.0 MB 2.8 MB/s eta 0:00:03\n",
      "   --------- ------------------------------ 1.6/7.0 MB 2.7 MB/s eta 0:00:02\n",
      "   ------------ --------------------------- 2.1/7.0 MB 2.7 MB/s eta 0:00:02\n",
      "   --------------- ------------------------ 2.6/7.0 MB 2.6 MB/s eta 0:00:02\n",
      "   ------------------ --------------------- 3.1/7.0 MB 2.6 MB/s eta 0:00:02\n",
      "   --------------------- ------------------ 3.7/7.0 MB 2.6 MB/s eta 0:00:02\n",
      "   ------------------------- -------------- 4.5/7.0 MB 2.7 MB/s eta 0:00:01\n",
      "   ---------------------------- ----------- 5.0/7.0 MB 2.7 MB/s eta 0:00:01\n",
      "   ------------------------------- -------- 5.5/7.0 MB 2.7 MB/s eta 0:00:01\n",
      "   ---------------------------------- ----- 6.0/7.0 MB 2.7 MB/s eta 0:00:01\n",
      "   ---------------------------------------  6.8/7.0 MB 2.7 MB/s eta 0:00:01\n",
      "   ---------------------------------------- 7.0/7.0 MB 2.7 MB/s  0:00:02\n",
      "Downloading pyparsing-3.2.3-py3-none-any.whl (111 kB)\n",
      "Installing collected packages: pyparsing, pillow, kiwisolver, fonttools, cycler, contourpy, matplotlib\n",
      "\n",
      "   ---------------------------------------- 0/7 [pyparsing]\n",
      "   ----- ---------------------------------- 1/7 [pillow]\n",
      "   ----- ---------------------------------- 1/7 [pillow]\n",
      "   ----- ---------------------------------- 1/7 [pillow]\n",
      "   ----- ---------------------------------- 1/7 [pillow]\n",
      "   ----- ---------------------------------- 1/7 [pillow]\n",
      "   ----------------- ---------------------- 3/7 [fonttools]\n",
      "   ----------------- ---------------------- 3/7 [fonttools]\n",
      "   ----------------- ---------------------- 3/7 [fonttools]\n",
      "   ----------------- ---------------------- 3/7 [fonttools]\n",
      "   ----------------- ---------------------- 3/7 [fonttools]\n",
      "   ----------------- ---------------------- 3/7 [fonttools]\n",
      "   ----------------- ---------------------- 3/7 [fonttools]\n",
      "   ----------------- ---------------------- 3/7 [fonttools]\n",
      "   ----------------- ---------------------- 3/7 [fonttools]\n",
      "   ----------------- ---------------------- 3/7 [fonttools]\n",
      "   ----------------- ---------------------- 3/7 [fonttools]\n",
      "   ----------------- ---------------------- 3/7 [fonttools]\n",
      "   ----------------- ---------------------- 3/7 [fonttools]\n",
      "   ----------------- ---------------------- 3/7 [fonttools]\n",
      "   ----------------- ---------------------- 3/7 [fonttools]\n",
      "   ---------------------------------- ----- 6/7 [matplotlib]\n",
      "   ---------------------------------- ----- 6/7 [matplotlib]\n",
      "   ---------------------------------- ----- 6/7 [matplotlib]\n",
      "   ---------------------------------- ----- 6/7 [matplotlib]\n",
      "   ---------------------------------- ----- 6/7 [matplotlib]\n",
      "   ---------------------------------- ----- 6/7 [matplotlib]\n",
      "   ---------------------------------- ----- 6/7 [matplotlib]\n",
      "   ---------------------------------- ----- 6/7 [matplotlib]\n",
      "   ---------------------------------- ----- 6/7 [matplotlib]\n",
      "   ---------------------------------- ----- 6/7 [matplotlib]\n",
      "   ---------------------------------- ----- 6/7 [matplotlib]\n",
      "   ---------------------------------- ----- 6/7 [matplotlib]\n",
      "   ---------------------------------- ----- 6/7 [matplotlib]\n",
      "   ---------------------------------- ----- 6/7 [matplotlib]\n",
      "   ---------------------------------- ----- 6/7 [matplotlib]\n",
      "   ---------------------------------- ----- 6/7 [matplotlib]\n",
      "   ---------------------------------- ----- 6/7 [matplotlib]\n",
      "   ---------------------------------- ----- 6/7 [matplotlib]\n",
      "   ---------------------------------- ----- 6/7 [matplotlib]\n",
      "   ---------------------------------- ----- 6/7 [matplotlib]\n",
      "   ---------------------------------- ----- 6/7 [matplotlib]\n",
      "   ---------------------------------- ----- 6/7 [matplotlib]\n",
      "   ---------------------------------------- 7/7 [matplotlib]\n",
      "\n",
      "Successfully installed contourpy-1.3.3 cycler-0.12.1 fonttools-4.59.2 kiwisolver-1.4.9 matplotlib-3.10.6 pillow-11.3.0 pyparsing-3.2.3\n"
     ]
    }
   ],
   "source": [
    "!pip install matplotlib\n"
   ]
  },
  {
   "cell_type": "code",
   "execution_count": 8,
   "id": "fb754953",
   "metadata": {},
   "outputs": [
    {
     "data": {
      "image/png": "[encoded data removed]",
      "text/plain": [
       "<Figure size 640x480 with 1 Axes>"
      ]
     },
     "metadata": {},
     "output_type": "display_data"
    }
   ],
   "source": [
    "# Question 7: Boxplot and Outliers\n",
    "import matplotlib.pyplot as plt\n",
    "\n",
    "data = [12, 14, 14, 15, 18, 19, 19, 21, 22, 22, 23, 23, 24, 26, 29, 35]\n",
    "\n",
    "plt.boxplot(data)\n",
    "plt.title('Boxplot of Data')\n",
    "plt.show()\n",
    "\n",
    "# Outliers are points outside whiskers (Q1-1.5*IQR or Q3+1.5*IQR)"
   ]
  },
  {
   "cell_type": "markdown",
   "id": "f0f48c19-3a84-40c9-8798-2f6171d61885",
   "metadata": {},
   "source": [
    "Question 8: Covariance and Correlation in E-commerce Analysis\n",
    "Covariance measures directional relationship between variables: positive moves together, negative moves inversely. Correlation standardizes this to -1 to +1, showing strength and direction. A correlation near +1 is strong positive. Analysts use these metrics to understand how advertising spend affects sales, guide budget decisions, forecast performance, and evaluate trends in e-commerce data. Covariance shows direction; correlation allows comparison across datasets."
   ]
  },
  {
   "cell_type": "code",
   "execution_count": 9,
   "id": "ebf716b2",
   "metadata": {},
   "outputs": [
    {
     "name": "stdout",
     "output_type": "stream",
     "text": [
      "Correlation coefficient: 0.9935824101653329\n"
     ]
    }
   ],
   "source": [
    "# Question 8: Correlation between Advertising Spend and Daily Sales\n",
    "advertising_spend = [200, 250, 300, 400, 500]\n",
    "daily_sales = [2200, 2450, 2750, 3200, 4000]\n",
    "\n",
    "correlation = np.corrcoef(advertising_spend, daily_sales)[0,1]\n",
    "print('Correlation coefficient:', correlation)"
   ]
  },
  {
   "cell_type": "markdown",
   "id": "1bbb0a5e-e2c5-45e0-ad3c-d00499a6f786",
   "metadata": {},
   "source": [
    "Question 9: Customer Satisfaction Data Analysis\n",
    "Summary statistics like mean, median, mode, and standard deviation describe central tendency and dispersion. Mean shows average satisfaction; standard deviation shows variability. Visualizations like histograms and boxplots reveal distribution shape, skewness, and outliers. Histograms display common score ranges; boxplots detect extremes. Combining these insights helps businesses understand customer sentiment, plan product launches, identify improvement areas, and make informed decisions based on data distribution."
   ]
  },
  {
   "cell_type": "code",
   "execution_count": 10,
   "id": "48c0591a",
   "metadata": {},
   "outputs": [
    {
     "data": {
      "image/png": "[encoded data removed]",
      "text/plain": [
       "<Figure size 640x480 with 1 Axes>"
      ]
     },
     "metadata": {},
     "output_type": "display_data"
    }
   ],
   "source": [
    "# Question 9: Histogram of Survey Scores\n",
    "survey_scores = [7, 8, 5, 9, 6, 7, 8, 9, 10, 4, 7, 6, 9, 8, 7]\n",
    "\n",
    "plt.hist(survey_scores, bins=range(4,12), edgecolor='black')\n",
    "plt.title('Histogram of Customer Survey Scores')\n",
    "plt.xlabel('Scores')\n",
    "plt.ylabel('Frequency')\n",
    "plt.show()"
   ]
  },
  {
   "cell_type": "code",
   "execution_count": null,
   "id": "d91a9929-84d7-4765-9bec-7881efed6b18",
   "metadata": {},
   "outputs": [],
   "source": []
  }
 ],
 "metadata": {
  "kernelspec": {
   "display_name": "Python 3 (ipykernel)",
   "language": "python",
   "name": "python3"
  },
  "language_info": {
   "codemirror_mode": {
    "name": "ipython",
    "version": 3
   },
   "file_extension": ".py",
   "mimetype": "text/x-python",
   "name": "python",
   "nbconvert_exporter": "python",
   "pygments_lexer": "ipython3",
   "version": "3.13.7"
  }
 },
 "nbformat": 4,
 "nbformat_minor": 5
}
