{
  "nbformat": 4,
  "nbformat_minor": 0,
  "metadata": {
    "colab": {
      "provenance": []
    },
    "kernelspec": {
      "name": "python3",
      "display_name": "Python 3"
    },
    "language_info": {
      "name": "python"
    }
  },
  "cells": [
    {
      "cell_type": "markdown",
      "source": [
        "1. What is the difference between interpreted and compiled languages?\n",
        "  - Compiled languages (C, C++) convert the entire program into machine code before execution, making them faster but requiring recompilation after changes. Interpreted languages (Python, JavaScript) execute code line by line using an interpreter, which is slower but allows flexibility and easier debugging. Compiled programs are standalone executables, while interpreted ones need the interpreter to run. Some languages like Java use a hybrid approach—compiling to bytecode and then interpreting or just-in-time compiling. In short, compiled languages prioritize performance, while interpreted languages focus on ease of use and development speed, making them ideal for rapid application and scripting.\n",
        "\n",
        "2. What is exception handling in Python?\n",
        "  - Exception handling in Python prevents programs from crashing when errors occur. It uses try, except, else, and finally blocks to catch and handle errors gracefully. The try block holds code that might cause an error. If an error occurs, the except block runs to handle it. The else block runs if no error happens, while the finally block always runs for cleanup tasks like closing files. This approach allows a program to manage errors without stopping execution, ensuring smooth performance. It improves user experience and makes the program more reliable and maintainable in real-world situations.\n",
        "\n",
        "3. What is the purpose of the finally block in exception handling?\n",
        "  - The finally block in Python runs code regardless of whether an exception occurs. It is often used for cleanup actions like closing files, releasing resources, or disconnecting from databases. The finally block executes after try and except blocks, even if a return statement is used or an error occurs. This ensures that important tasks are always completed. For example, when a file is opened in try, finally guarantees it will be closed properly. It helps prevent resource leaks, making programs safer and more reliable in handling both expected and unexpected situations.\n",
        "\n",
        "4. What is logging in Python?\n",
        "  - Logging in Python is used to record events, errors, and information about a program’s execution. It’s more advanced than print() because it supports different severity levels: DEBUG, INFO, WARNING, ERROR, and CRITICAL. The logging module allows developers to store messages in files or display them in the console. Logging helps in debugging, performance monitoring, and keeping long-term records without interrupting program execution. It’s especially useful for large applications where tracking errors or analyzing past events is important. This makes troubleshooting easier and ensures that important details about a program’s behavior are preserved for later analysis.\n",
        "\n",
        "5. What is the significance of the del method in Python?\n",
        "  - The __del__ method in Python is a special destructor method automatically called when an object is about to be deleted from memory. It is mainly used for cleanup tasks such as closing files, releasing resources, or disconnecting from networks. While it can ensure resource release, it’s not always predictable when it will run, since garbage collection timing varies. Therefore, context managers (with statement) are usually preferred. However, in certain cases where automatic cleanup is required, __del__ is helpful. It plays an important role in memory management by freeing resources when objects are no longer needed.\n",
        "\n",
        "6. What is the difference between import and from ... import in Python?\n",
        "  - import brings an entire module into your program, and you access its functions or variables using the module name as a prefix (e.g., math.sqrt(4)). from ... import allows you to import specific functions, classes, or variables directly, so you can use them without the module prefix (e.g., from math import sqrt, then sqrt(4)). The first method is better for avoiding name conflicts and keeping code clear, while the second offers convenience for frequent use of specific items. Choosing between them depends on readability, performance impact (minimal), and whether you need multiple features from a module or just a few.\n",
        "\n",
        "7. How can you handle multiple exceptions in Python?\n",
        "  - In Python, multiple exceptions can be handled by using multiple except blocks after a single try block, each targeting a specific error type. For example, except ValueError: handles invalid values, while except ZeroDivisionError: catches division by zero. You can also handle several exceptions in one block using a tuple, like except (ValueError, TypeError):. This ensures the program reacts appropriately to different errors without stopping. Handling exceptions separately helps in giving more precise error messages and solutions. It also improves program reliability, making it robust against various possible runtime problems in user input or system operations.\n",
        "\n",
        "8. What is the purpose of the with statement when handling files in Python?\n",
        "  - The with statement in Python is used to simplify file handling by automatically managing resource cleanup. When you open a file using with open(\"file.txt\") as f:, the file is automatically closed when the block ends, even if an error occurs. This eliminates the need for explicitly calling close(). The with statement is based on context managers, which ensure proper setup and teardown of resources. It makes code cleaner, more readable, and less prone to file handling mistakes. This is the recommended way to handle files in Python because it reduces the risk of resource leaks.\n",
        "\n",
        "9. What is the difference between multithreading and multiprocessing?\n",
        "  - Multithreading allows multiple threads within the same process to run concurrently, sharing memory and resources. It’s useful for I/O-bound tasks like reading files or network requests. Multiprocessing uses separate processes with independent memory, making it better for CPU-bound tasks like heavy calculations. While multithreading can be limited by Python’s Global Interpreter Lock (GIL), multiprocessing bypasses it, allowing true parallel execution. However, multiprocessing uses more memory since each process has its own memory space. Choosing between them depends on whether the task is limited by CPU speed or waiting for external resources.\n",
        "\n",
        "10. What are the advantages of using logging in a program?\n",
        "  - Logging provides a systematic way to record a program’s events, errors, and execution flow without interrupting its operation. Advantages include easier debugging, performance tracking, and long-term monitoring. Unlike print() statements, logging supports multiple levels (DEBUG, INFO, WARNING, ERROR, CRITICAL), allowing better organization. It can save output to files for later review, which is especially useful in production environments. Logging also allows filtering messages, adding timestamps, and keeping a consistent format. This makes troubleshooting and maintenance easier, especially in large applications where tracking every step manually would be difficult and time-consuming.\n",
        "\n",
        "11. What is memory management in Python?\n",
        "  - Memory management in Python involves the allocation, tracking, and freeing of memory during a program’s execution. Python uses a private heap for storing objects and variables, managed automatically by the Python memory manager. It also uses reference counting and a garbage collector to remove unused objects. Developers can influence memory usage by deleting unnecessary variables, using generators, or optimizing data structures. Proper memory management ensures efficient performance, prevents memory leaks, and reduces crashes. While Python automates most memory handling, understanding how it works helps in writing more optimized and stable programs.\n",
        "\n",
        "12. What are the basic steps involved in exception handling in Python?\n",
        "  - Exception handling in Python generally follows these steps:\n",
        "\n",
        "      - Identify risky code that may produce errors.\n",
        "\n",
        "      - Wrap it in a try block to monitor execution.\n",
        "\n",
        "      - Use except blocks to catch specific or general exceptions.\n",
        "\n",
        "      - Optionally use else to run code if no errors occur.\n",
        "\n",
        "      - Use finally to perform cleanup tasks like closing files.\n",
        "        This structured approach prevents abrupt program termination, allows for meaningful error messages, and ensures important actions are executed regardless of errors. It makes programs more robust and user-friendly in real-world applications.\n",
        "\n",
        "13. Why is memory management important in Python?\n",
        "  - Memory management is important because it ensures efficient use of system resources and prevents memory leaks that can slow down or crash programs. Although Python’s garbage collector and reference counting handle most memory tasks automatically, poor coding practices like keeping unnecessary references or using large unused data structures can waste memory. Optimizing memory usage leads to faster performance and better scalability, especially in resource-intensive applications. Developers should be mindful of object lifecycles, use generators for large datasets, and close unused resources promptly. Good memory management improves both efficiency and program stability.\n",
        "\n",
        "14. What is the role of try and except in exception handling?\n",
        "  - The try and except blocks are the core of Python’s exception handling system. The try block contains code that might cause an error, while the except block defines what to do if an error occurs. This prevents programs from stopping unexpectedly. Multiple except blocks can handle different error types separately. If no exception occurs, the except block is skipped. This approach allows developers to provide meaningful error messages or alternative solutions instead of letting the program crash. It improves user experience and makes applications more resilient against common runtime problems.\n",
        "\n",
        "15. How does Python's garbage collection system work?\n",
        "  - Python’s garbage collection automatically frees memory by removing objects that are no longer in use. It primarily uses reference counting—tracking how many references point to an object. When the count reaches zero, the memory is freed. However, reference counting alone can’t handle circular references, so Python also uses a cyclic garbage collector to detect and remove such objects. Garbage collection runs automatically, but developers can trigger it manually using the gc module. This system helps prevent memory leaks and ensures programs run efficiently without developers needing to manage memory manually.\n",
        "\n",
        "16. What is the purpose of the else block in exception handling?\n",
        "  - The else block in Python’s exception handling runs only if the try block executes successfully without raising an exception. It is placed after all except blocks and before finally. This is useful for code that should execute only when no error occurs, keeping it separate from the try block for clarity. For example, reading a file might be done in try, error handling in except, and processing the data in else if no errors happened. This improves readability and makes the program’s error flow more organized.\n",
        "\n",
        "17. What are the common logging levels in Python?\n",
        "  - Python’s logging module uses five main logging levels:\n",
        "\n",
        "      - DEBUG: Detailed information, mainly for development.\n",
        "\n",
        "      - INFO: General events confirming things are working.\n",
        "\n",
        "      - WARNING: Something unexpected happened but program still runs.\n",
        "\n",
        "      - ERROR: A serious problem that affects functionality.\n",
        "\n",
        "      - CRITICAL: Severe errors causing possible program shutdown.\n",
        "These levels help filter and organize log messages, so developers can focus on relevant issues depending on the situation. By choosing appropriate levels, logs remain useful and easy to analyze without being cluttered with unnecessary information.\n",
        "\n",
        "18. What is the difference between os.fork() and multiprocessing in Python?\n",
        "  - os.fork() creates a new process by duplicating the current one, but it’s available only on Unix-like systems (Linux, macOS). It requires manual handling of inter-process communication and is more low-level. The multiprocessing module, on the other hand, works across platforms, provides easier process creation, and includes built-in support for communication, synchronization, and data sharing. multiprocessing also allows running code in separate Python processes, bypassing the Global Interpreter Lock (GIL) for true parallelism. For portability and ease, multiprocessing is preferred; os.fork() is used mainly for system-level or performance-specific cases.\n",
        "\n",
        "19. What is the importance of closing a file in Python?\n",
        "  - Closing a file in Python releases the system resources associated with it and ensures that all buffered data is written to disk. If a file remains open, it can lead to memory leaks, locked resources, or incomplete writes. While Python may close files automatically when the program ends, relying on this is risky. The safest way is to explicitly call close() or use a with statement, which closes the file automatically. Properly closing files is essential in larger programs or when handling many files, as it prevents resource exhaustion and ensures data integrity.\n",
        "\n",
        "20. What is the difference between file.read() and file.readline() in Python?\n",
        "  - file.read() reads the entire file (or a specified number of characters/bytes) into a single string. It’s useful when the whole file needs to be processed at once but can be memory-heavy for large files. file.readline() reads only one line from the file, returning it as a string ending with a newline character. It’s better for reading files line-by-line, saving memory and allowing easier processing of large files. Both are part of Python’s file-handling methods, and choosing one depends on whether you need the whole file at once or incremental reading.\n",
        "\n",
        "21. What is the logging module in Python used for?\n",
        "  - The logging module in Python provides a flexible framework for recording log messages from programs. It allows setting different log levels, formatting messages, and directing output to files, the console, or other destinations. Unlike print(), logging can be enabled or disabled without changing the code logic and can store time-stamped records for debugging or auditing. It’s widely used for tracking application behavior, diagnosing problems, and maintaining logs for future analysis. Its ability to filter logs based on severity makes it a powerful tool for both development and production environments.\n",
        "\n",
        "22. What is the os module in Python used for in file handling?\n",
        "  - The os module in Python provides functions for interacting with the operating system, including file and directory operations. It allows you to create, delete, rename, and check the existence of files or folders. You can also navigate directories, change file permissions, and retrieve system information. In file handling, os is useful for tasks like checking if a file exists before opening it, joining file paths, or listing directory contents. Using the os module makes programs more portable because it automatically adapts to different operating systems’ file path formats and rules.\n",
        "\n",
        "23. What are the challenges associated with memory management in Python?\n",
        "  - Although Python automates memory management using reference counting and garbage collection, challenges remain. Circular references can delay memory release, and large datasets may consume excessive memory if not handled carefully. Long-running programs can suffer from memory fragmentation or leaks caused by holding unnecessary references. Developers must also consider performance trade-offs when using certain data structures. Additionally, since garbage collection timing is unpredictable, resources may not be released immediately. Efficient coding practices like using generators, deleting unused variables, and avoiding deep object nesting help address these challenges and keep applications responsive.\n",
        "\n",
        "24. How do you raise an exception manually in Python?\n",
        "  - In Python, exceptions can be raised manually using the raise statement. This is useful for enforcing rules, validating data, or stopping execution when something unexpected happens. For example, raise ValueError(\"Invalid input\") creates and throws a ValueError with a custom message. Manually raising exceptions helps make programs more predictable by catching issues early rather than letting errors occur later. It’s often used inside functions to signal that something went wrong, allowing the calling code to handle the situation gracefully through try-except blocks.\n",
        "\n",
        "25. Why is it important to use multithreading in certain applications?\n",
        "  - Multithreading is important for applications that need to perform multiple tasks at once, especially I/O-bound tasks like network requests, file downloads, or database queries. While one thread waits for input/output operations to complete, other threads can continue running, improving responsiveness and efficiency. This is essential for programs like web servers, chat applications, or real-time data processing. Even though Python’s Global Interpreter Lock (GIL) limits CPU-bound parallelism, multithreading still benefits many applications by reducing idle time and ensuring smoother performance for tasks that involve waiting on external resources."
      ],
      "metadata": {
        "id": "mhXC9sV-U6NL"
      }
    },
    {
      "cell_type": "code",
      "source": [
        "#PRACTICAL QUESTION\n",
        "# 1\n",
        "file = open(\"example.txt\", \"w\")\n",
        "file.write(\"Hello, this is a sample text.\")\n",
        "file.close()\n",
        "\n",
        "file = open(\"example.txt\", \"r\")\n",
        "print(file.read())\n",
        "file.close()\n"
      ],
      "metadata": {
        "colab": {
          "base_uri": "https://localhost:8080/"
        },
        "id": "mNflhdgpWXUL",
        "outputId": "dd35a1b0-f498-472b-ccc9-0a74229a4f48"
      },
      "execution_count": 3,
      "outputs": [
        {
          "output_type": "stream",
          "name": "stdout",
          "text": [
            "Hello, this is a sample text.\n"
          ]
        }
      ]
    },
    {
      "cell_type": "code",
      "source": [
        "# 2\n",
        "# Reading file and printing line by line\n",
        "file = open(\"example.txt\", \"r\")\n",
        "for line in file:\n",
        "    print(line.strip())\n",
        "file.close()\n"
      ],
      "metadata": {
        "colab": {
          "base_uri": "https://localhost:8080/"
        },
        "id": "b7K431uiW5wQ",
        "outputId": "e8fb866c-5354-4d36-e7b9-ca2272fe7af0"
      },
      "execution_count": 2,
      "outputs": [
        {
          "output_type": "stream",
          "name": "stdout",
          "text": [
            "Hello, this is a sample text.\n"
          ]
        }
      ]
    },
    {
      "cell_type": "code",
      "source": [
        "# 3\n",
        "try:\n",
        "    file = open(\"nofile.txt\", \"r\")\n",
        "    print(file.read())\n",
        "    file.close()\n",
        "except FileNotFoundError:\n",
        "    print(\"File does not exist.\")\n"
      ],
      "metadata": {
        "colab": {
          "base_uri": "https://localhost:8080/"
        },
        "id": "eo413LP7Xu6t",
        "outputId": "8cfdd569-27b3-40e8-fdae-a57219f23584"
      },
      "execution_count": 4,
      "outputs": [
        {
          "output_type": "stream",
          "name": "stdout",
          "text": [
            "File does not exist.\n"
          ]
        }
      ]
    },
    {
      "cell_type": "code",
      "source": [
        "# 4\n",
        "# Create a source file so the code has data to copy\n",
        "with open(\"example.txt\", \"w\") as f:\n",
        "    f.write(\"This is the original file content.\")\n",
        "\n",
        "# Copy content from example.txt to copy.txt\n",
        "source = open(\"example.txt\", \"r\")\n",
        "target = open(\"copy.txt\", \"w\")\n",
        "\n",
        "for line in source:\n",
        "    target.write(line)\n",
        "\n",
        "source.close()\n",
        "target.close()\n",
        "\n",
        "# Show copied content\n",
        "print(\"Content copied to copy.txt:\")\n",
        "with open(\"copy.txt\", \"r\") as f:\n",
        "    print(f.read())\n"
      ],
      "metadata": {
        "colab": {
          "base_uri": "https://localhost:8080/"
        },
        "id": "NCO-25sJYPG7",
        "outputId": "aef72d1c-fe42-4ccf-b27b-b7cc51e4ef65"
      },
      "execution_count": 7,
      "outputs": [
        {
          "output_type": "stream",
          "name": "stdout",
          "text": [
            "Content copied to copy.txt:\n",
            "This is the original file content.\n"
          ]
        }
      ]
    },
    {
      "cell_type": "code",
      "source": [
        "# 5\n",
        "try:\n",
        "    a = int(input(\"Enter number: \"))\n",
        "    b = int(input(\"Enter another number: \"))\n",
        "    print(\"Result:\", a / b)\n",
        "except ZeroDivisionError:\n",
        "    print(\"You cannot divide by zero.\")\n"
      ],
      "metadata": {
        "colab": {
          "base_uri": "https://localhost:8080/"
        },
        "id": "0UrhqCGmYTK0",
        "outputId": "858062e4-e59f-4b38-c96e-995ea204376d"
      },
      "execution_count": 9,
      "outputs": [
        {
          "output_type": "stream",
          "name": "stdout",
          "text": [
            "Enter number: 6\n",
            "Enter another number: 0\n",
            "You cannot divide by zero.\n"
          ]
        }
      ]
    },
    {
      "cell_type": "code",
      "source": [
        "# 6\n",
        "import logging\n",
        "\n",
        "logging.basicConfig(filename=\"error.log\", level=logging.ERROR)\n",
        "\n",
        "try:\n",
        "    num1 = 5\n",
        "    num2 = 0\n",
        "    result = num1 / num2\n",
        "    print(\"Result:\", result)\n",
        "except ZeroDivisionError:\n",
        "    print(\"Error: Division by zero.\")\n",
        "    logging.error(\"Tried to divide by zero.\")\n"
      ],
      "metadata": {
        "colab": {
          "base_uri": "https://localhost:8080/"
        },
        "id": "6swpsa0WY02W",
        "outputId": "7ff20096-98c9-410f-a3ef-ac69460f7059"
      },
      "execution_count": 10,
      "outputs": [
        {
          "output_type": "stream",
          "name": "stderr",
          "text": [
            "ERROR:root:Tried to divide by zero.\n"
          ]
        },
        {
          "output_type": "stream",
          "name": "stdout",
          "text": [
            "Error: Division by zero.\n"
          ]
        }
      ]
    },
    {
      "cell_type": "code",
      "source": [
        "# 7\n",
        "import logging\n",
        "\n",
        "logging.basicConfig(filename=\"app.log\", level=logging.DEBUG)\n",
        "\n",
        "logging.info(\"This is an info message.\")\n",
        "logging.warning(\"This is a warning message.\")\n",
        "logging.error(\"This is an error message.\")\n",
        "\n",
        "print(\"Logs written to app.log file.\")\n"
      ],
      "metadata": {
        "colab": {
          "base_uri": "https://localhost:8080/"
        },
        "id": "eo0tm6DRZCwS",
        "outputId": "df30f233-c3f1-4d61-afa2-df857a580b10"
      },
      "execution_count": 11,
      "outputs": [
        {
          "output_type": "stream",
          "name": "stderr",
          "text": [
            "WARNING:root:This is a warning message.\n",
            "ERROR:root:This is an error message.\n"
          ]
        },
        {
          "output_type": "stream",
          "name": "stdout",
          "text": [
            "Logs written to app.log file.\n"
          ]
        }
      ]
    },
    {
      "cell_type": "code",
      "source": [
        "# 8\n",
        "try:\n",
        "    f = open(\"data.txt\", \"r\")\n",
        "    print(f.read())\n",
        "    f.close()\n",
        "except FileNotFoundError:\n",
        "    print(\"File could not be opened.\")\n"
      ],
      "metadata": {
        "colab": {
          "base_uri": "https://localhost:8080/"
        },
        "id": "qzUhJ2zzZIkM",
        "outputId": "f8b604cc-c4b7-4d23-be3d-3fad0a559e15"
      },
      "execution_count": 12,
      "outputs": [
        {
          "output_type": "stream",
          "name": "stdout",
          "text": [
            "File could not be opened.\n"
          ]
        }
      ]
    },
    {
      "cell_type": "code",
      "source": [
        "# 9\n",
        "with open(\"example.txt\", \"w\") as f:\n",
        "    f.write(\"Apple\\nBanana\\nCherry\")\n",
        "\n",
        "lines = []\n",
        "file = open(\"example.txt\", \"r\")\n",
        "for line in file:\n",
        "    lines.append(line.strip())\n",
        "file.close()\n",
        "\n",
        "print(\"List from file:\", lines)\n"
      ],
      "metadata": {
        "colab": {
          "base_uri": "https://localhost:8080/"
        },
        "id": "Jm5Y5_HhZM_5",
        "outputId": "60a77909-deed-4ffa-ddd3-f4c90209a00a"
      },
      "execution_count": 13,
      "outputs": [
        {
          "output_type": "stream",
          "name": "stdout",
          "text": [
            "List from file: ['Apple', 'Banana', 'Cherry']\n"
          ]
        }
      ]
    },
    {
      "cell_type": "code",
      "source": [
        "# 10\n",
        "file = open(\"example.txt\", \"a\")\n",
        "file.write(\"\\nThis is new text.\")\n",
        "file.close()\n",
        "\n",
        "with open(\"example.txt\", \"r\") as f:\n",
        "    print(\"Updated file content:\\n\", f.read())\n"
      ],
      "metadata": {
        "colab": {
          "base_uri": "https://localhost:8080/"
        },
        "id": "myv0YMf1ZRqZ",
        "outputId": "cdc5dd38-3a95-4076-a12b-5e9e475e65a6"
      },
      "execution_count": 14,
      "outputs": [
        {
          "output_type": "stream",
          "name": "stdout",
          "text": [
            "Updated file content:\n",
            " Apple\n",
            "Banana\n",
            "Cherry\n",
            "This is new text.\n"
          ]
        }
      ]
    },
    {
      "cell_type": "code",
      "source": [
        "# 11\n",
        "data = {\"name\": \"John\", \"age\": 25}\n",
        "\n",
        "try:\n",
        "    print(data[\"city\"])\n",
        "except KeyError:\n",
        "    print(\"Key not found in dictionary.\")\n"
      ],
      "metadata": {
        "colab": {
          "base_uri": "https://localhost:8080/"
        },
        "id": "k4lXzEwSZVhy",
        "outputId": "b1d73074-8409-436f-ab26-1725cae485ec"
      },
      "execution_count": 15,
      "outputs": [
        {
          "output_type": "stream",
          "name": "stdout",
          "text": [
            "Key not found in dictionary.\n"
          ]
        }
      ]
    },
    {
      "cell_type": "code",
      "source": [
        "# 12\n",
        "try:\n",
        "    num = int(input(\"Enter a number: \"))\n",
        "    print(10 / num)\n",
        "except ValueError:\n",
        "    print(\"Invalid input, enter a number.\")\n",
        "except ZeroDivisionError:\n",
        "    print(\"Cannot divide by zero.\")\n"
      ],
      "metadata": {
        "colab": {
          "base_uri": "https://localhost:8080/"
        },
        "id": "y7jd9IiiZ2Ui",
        "outputId": "5e427778-5742-40e4-cc16-f4b725e39701"
      },
      "execution_count": 17,
      "outputs": [
        {
          "output_type": "stream",
          "name": "stdout",
          "text": [
            "Enter a number: 0\n",
            "Cannot divide by zero.\n"
          ]
        }
      ]
    },
    {
      "cell_type": "code",
      "source": [
        "# 13\n",
        "import os\n",
        "\n",
        "if os.path.exists(\"example.txt\"):\n",
        "    with open(\"example.txt\", \"r\") as f:\n",
        "        print(\"File content:\\n\", f.read())\n",
        "else:\n",
        "    print(\"File does not exist.\")\n"
      ],
      "metadata": {
        "colab": {
          "base_uri": "https://localhost:8080/"
        },
        "id": "Csjc0217Z7Cx",
        "outputId": "3a2677dc-ee42-4ac4-a8bf-f6333d576e28"
      },
      "execution_count": 18,
      "outputs": [
        {
          "output_type": "stream",
          "name": "stdout",
          "text": [
            "File content:\n",
            " Apple\n",
            "Banana\n",
            "Cherry\n",
            "This is new text.\n"
          ]
        }
      ]
    },
    {
      "cell_type": "code",
      "source": [
        "# 14\n",
        "import logging\n",
        "\n",
        "logging.basicConfig(filename=\"mylog.log\", level=logging.DEBUG)\n",
        "\n",
        "logging.info(\"Program started.\")\n",
        "try:\n",
        "    x = 5 / 0\n",
        "except ZeroDivisionError:\n",
        "    logging.error(\"Division by zero occurred.\")\n",
        "    print(\"Error logged to file.\")\n"
      ],
      "metadata": {
        "colab": {
          "base_uri": "https://localhost:8080/"
        },
        "id": "YZuttQlaaMI4",
        "outputId": "68275d33-28e4-4742-aaf4-28c2e3bb0f72"
      },
      "execution_count": 19,
      "outputs": [
        {
          "output_type": "stream",
          "name": "stderr",
          "text": [
            "ERROR:root:Division by zero occurred.\n"
          ]
        },
        {
          "output_type": "stream",
          "name": "stdout",
          "text": [
            "Error logged to file.\n"
          ]
        }
      ]
    },
    {
      "cell_type": "code",
      "source": [
        "# 15\n",
        "with open(\"example.txt\", \"w\") as f:\n",
        "    f.write(\"\")\n",
        "\n",
        "with open(\"example.txt\", \"r\") as f:\n",
        "    content = f.read()\n",
        "\n",
        "if content.strip() == \"\":\n",
        "    print(\"File is empty.\")\n",
        "else:\n",
        "    print(content)\n"
      ],
      "metadata": {
        "colab": {
          "base_uri": "https://localhost:8080/"
        },
        "id": "JiznDFjQaQHS",
        "outputId": "a1578049-8c68-4fe7-c386-e658de5cc30a"
      },
      "execution_count": 20,
      "outputs": [
        {
          "output_type": "stream",
          "name": "stdout",
          "text": [
            "File is empty.\n"
          ]
        }
      ]
    },
    {
      "cell_type": "code",
      "source": [
        "# 16\n",
        "import tracemalloc\n",
        "\n",
        "# Start tracking memory\n",
        "tracemalloc.start()\n",
        "\n",
        "# Example small program\n",
        "data = [i for i in range(1000)]\n",
        "print(\"Data created with\", len(data), \"items.\")\n",
        "\n",
        "# Show memory usage\n",
        "current, peak = tracemalloc.get_traced_memory()\n",
        "print(f\"Current memory usage: {current} bytes\")\n",
        "print(f\"Peak memory usage: {peak} bytes\")\n",
        "\n",
        "tracemalloc.stop()\n",
        "\n"
      ],
      "metadata": {
        "colab": {
          "base_uri": "https://localhost:8080/"
        },
        "id": "8OyrvJdtaUpY",
        "outputId": "ff0f367a-f7de-4611-d43b-92d4d33a59bb"
      },
      "execution_count": 29,
      "outputs": [
        {
          "output_type": "stream",
          "name": "stdout",
          "text": [
            "Data created with 1000 items.\n",
            "Current memory usage: 34261 bytes\n",
            "Peak memory usage: 45444 bytes\n"
          ]
        }
      ]
    },
    {
      "cell_type": "code",
      "source": [
        "# 17\n",
        "numbers = [1, 2, 3, 4, 5]\n",
        "f = open(\"numbers.txt\", \"w\")\n",
        "for num in numbers:\n",
        "    f.write(str(num) + \"\\n\")\n",
        "f.close()\n",
        "\n",
        "print(\"Numbers written to numbers.txt\")\n"
      ],
      "metadata": {
        "colab": {
          "base_uri": "https://localhost:8080/"
        },
        "id": "kF1qztzoaZOl",
        "outputId": "02a7b831-babc-44d7-d278-f31477bc3dbf"
      },
      "execution_count": 22,
      "outputs": [
        {
          "output_type": "stream",
          "name": "stdout",
          "text": [
            "Numbers written to numbers.txt\n"
          ]
        }
      ]
    },
    {
      "cell_type": "code",
      "source": [
        "# 18\n",
        "import logging\n",
        "from logging.handlers import RotatingFileHandler\n",
        "\n",
        "handler = RotatingFileHandler(\"rotated.log\", maxBytes=1048576, backupCount=3)\n",
        "logging.basicConfig(handlers=[handler], level=logging.INFO)\n",
        "\n",
        "logging.info(\"This is a log message.\")\n",
        "print(\"Log written with rotation setup.\")\n"
      ],
      "metadata": {
        "colab": {
          "base_uri": "https://localhost:8080/"
        },
        "id": "RzUaeloMagir",
        "outputId": "0865f27f-379c-493f-8d03-8b13cfae0396"
      },
      "execution_count": 23,
      "outputs": [
        {
          "output_type": "stream",
          "name": "stdout",
          "text": [
            "Log written with rotation setup.\n"
          ]
        }
      ]
    },
    {
      "cell_type": "code",
      "source": [
        "# 19\n",
        "data = [1, 2, 3]\n",
        "dict_data = {\"name\": \"Alice\"}\n",
        "\n",
        "try:\n",
        "    print(data[5])\n",
        "    print(dict_data[\"age\"])\n",
        "except IndexError:\n",
        "    print(\"List index out of range.\")\n",
        "except KeyError:\n",
        "    print(\"Key not found in dictionary.\")\n"
      ],
      "metadata": {
        "colab": {
          "base_uri": "https://localhost:8080/"
        },
        "id": "w0_tx6GOalDp",
        "outputId": "740b2dbf-6d68-4be3-9782-eb929121fc83"
      },
      "execution_count": 24,
      "outputs": [
        {
          "output_type": "stream",
          "name": "stdout",
          "text": [
            "List index out of range.\n"
          ]
        }
      ]
    },
    {
      "cell_type": "code",
      "source": [
        "# 20\n",
        "with open(\"example.txt\", \"w\") as f:\n",
        "    f.write(\"Hello from context manager!\")\n",
        "\n",
        "with open(\"example.txt\", \"r\") as f:\n",
        "    print(f.read())\n"
      ],
      "metadata": {
        "colab": {
          "base_uri": "https://localhost:8080/"
        },
        "id": "tu-RESLsapvp",
        "outputId": "3e1de32c-03ac-4415-af6c-2f6c9bd956b5"
      },
      "execution_count": 25,
      "outputs": [
        {
          "output_type": "stream",
          "name": "stdout",
          "text": [
            "Hello from context manager!\n"
          ]
        }
      ]
    },
    {
      "cell_type": "code",
      "source": [
        "# 21\n",
        "with open(\"example.txt\", \"w\") as f:\n",
        "    f.write(\"hello world\\nhello python\\nhi hello\")\n",
        "\n",
        "word = \"hello\"\n",
        "count = 0\n",
        "\n",
        "with open(\"example.txt\", \"r\") as f:\n",
        "    for line in f:\n",
        "        count += line.lower().split().count(word)\n",
        "\n",
        "print(\"Word found\", count, \"times.\")\n"
      ],
      "metadata": {
        "colab": {
          "base_uri": "https://localhost:8080/"
        },
        "id": "N8e1QQgWauKD",
        "outputId": "6046cc8f-5913-4c47-c775-237ca4f7e1a5"
      },
      "execution_count": 26,
      "outputs": [
        {
          "output_type": "stream",
          "name": "stdout",
          "text": [
            "Word found 3 times.\n"
          ]
        }
      ]
    },
    {
      "cell_type": "code",
      "source": [
        "# 22\n",
        "import os\n",
        "\n",
        "with open(\"example.txt\", \"w\") as f:\n",
        "    f.write(\"Some text here.\")\n",
        "\n",
        "if os.path.getsize(\"example.txt\") == 0:\n",
        "    print(\"File is empty.\")\n",
        "else:\n",
        "    with open(\"example.txt\", \"r\") as f:\n",
        "        print(\"File content:\", f.read())\n"
      ],
      "metadata": {
        "colab": {
          "base_uri": "https://localhost:8080/"
        },
        "id": "_LInvjJAaywR",
        "outputId": "06190130-fdc1-439e-ca0b-cf6284e11963"
      },
      "execution_count": 27,
      "outputs": [
        {
          "output_type": "stream",
          "name": "stdout",
          "text": [
            "File content: Some text here.\n"
          ]
        }
      ]
    },
    {
      "cell_type": "code",
      "source": [
        "# 23\n",
        "import logging\n",
        "\n",
        "logging.basicConfig(filename=\"file_error.log\", level=logging.ERROR)\n",
        "\n",
        "try:\n",
        "    with open(\"nofile.txt\", \"r\") as f:\n",
        "        print(f.read())\n",
        "except FileNotFoundError:\n",
        "    print(\"File not found, error logged.\")\n",
        "    logging.error(\"File not found error occurred.\")\n"
      ],
      "metadata": {
        "colab": {
          "base_uri": "https://localhost:8080/"
        },
        "id": "-GbbINiGa3Ry",
        "outputId": "294dac8b-1424-446e-ae00-afe5fa3610ba"
      },
      "execution_count": 28,
      "outputs": [
        {
          "output_type": "stream",
          "name": "stderr",
          "text": [
            "ERROR:root:File not found error occurred.\n"
          ]
        },
        {
          "output_type": "stream",
          "name": "stdout",
          "text": [
            "File not found, error logged.\n"
          ]
        }
      ]
    }
  ]
}