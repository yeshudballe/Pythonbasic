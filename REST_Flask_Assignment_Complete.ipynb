{
 "cells": [
  {
   "cell_type": "markdown",
   "id": "74fe1ae3",
   "metadata": {},
   "source": [
    "# RESTful API & Flask — Assignment (23 Theory + 15 Practical)"
   ]
  },
  {
   "cell_type": "markdown",
   "id": "d791bfae",
   "metadata": {},
   "source": [
    "## Section 1: Theoretical Questions (23)"
   ]
  },
  {
   "cell_type": "markdown",
   "id": "aee0b39b",
   "metadata": {},
   "source": [
    "### 1) What is a RESTful API?"
   ]
  },
  {
   "cell_type": "markdown",
   "id": "de29977b",
   "metadata": {},
   "source": [
    "A RESTful API is a web interface that follows the principles of Representational State Transfer (REST). \n",
    "It treats everything as resources identified by URLs and uses standard HTTP methods—GET, POST, PUT/PATCH, DELETE—to operate on them. \n",
    "REST encourages stateless communication: each request contains all needed information, so the server does not store client session state. \n",
    "Responses are usually JSON, making them easy to read and use in web or mobile apps. \n",
    "Key ideas include client–server separation, cacheability, layered systems, and uniform interfaces. \n",
    "RESTful APIs are popular because they are simple, scalable, and work well with existing web standards and tools."
   ]
  },
  {
   "cell_type": "markdown",
   "id": "ac245ca6",
   "metadata": {},
   "source": [
    "### 2) Explain the concept of API specification."
   ]
  },
  {
   "cell_type": "markdown",
   "id": "ee7f9cb4",
   "metadata": {},
   "source": [
    "An API specification is a precise, human‑ and machine‑readable document that describes how clients should interact with an API. \n",
    "It defines endpoints (URLs), request methods, parameters, headers, authentication schemes, expected responses, status codes, and error formats. \n",
    "Specifications remove guesswork, enabling consistent implementation and easier collaboration between backend and frontend teams. \n",
    "Popular formats include OpenAPI (formerly Swagger) and RAML. \n",
    "With OpenAPI, you can auto‑generate interactive documentation, client SDKs, and server stubs from one source of truth. \n",
    "A good spec also includes data models, examples, constraints, and versioning details. \n",
    "In short, an API spec is a contract that ensures reliability, clarity, and maintainability."
   ]
  },
  {
   "cell_type": "markdown",
   "id": "7aa14696",
   "metadata": {},
   "source": [
    "### 3) What is Flask, and why is it popular for building APIs?"
   ]
  },
  {
   "cell_type": "markdown",
   "id": "19fb8673",
   "metadata": {},
   "source": [
    "Flask is a lightweight, micro web framework for Python. \n",
    "It provides the essentials for building web applications and APIs—routing, request/response handling, and templating—without enforcing heavy structure. \n",
    "Developers add only the extensions they need, such as Flask‑SQLAlchemy for databases or Flask‑RESTful for API helpers. \n",
    "Its simplicity, excellent documentation, and large ecosystem make Flask beginner‑friendly yet powerful for production. \n",
    "Flask supports JSON responses out of the box, integrates easily with WSGI servers, and works well with popular tools like Jinja2, Click, and testing libraries. \n",
    "Because it is unopinionated, teams can design clean architectures while keeping code readable, modular, and easy to maintain."
   ]
  },
  {
   "cell_type": "markdown",
   "id": "0a1c35fe",
   "metadata": {},
   "source": [
    "### 4) What is routing in Flask?"
   ]
  },
  {
   "cell_type": "markdown",
   "id": "fc9438fe",
   "metadata": {},
   "source": [
    "Routing in Flask maps incoming URLs to specific Python functions called view functions. \n",
    "You define routes using the @app.route() decorator, which associates a path like '/' or '/users/<id>' with a handler function. \n",
    "When a request arrives, Flask matches the URL and HTTP method, then calls the corresponding view. \n",
    "Routes can capture variables from the URL, support different methods (GET, POST, etc.), and return strings, JSON, templates, or Response objects. \n",
    "Routing enables clean, meaningful URLs and separates concerns inside the application. \n",
    "Dynamic converters (e.g., int:, string:) validate parameters automatically. \n",
    "Good routing design improves readability, testability, and the overall structure of a web app or API."
   ]
  },
  {
   "cell_type": "markdown",
   "id": "3ca1282a",
   "metadata": {},
   "source": [
    "### 5) How do you create a simple Flask application?"
   ]
  },
  {
   "cell_type": "markdown",
   "id": "5d9a6e58",
   "metadata": {},
   "source": [
    "To create a simple Flask app, install Flask (pip install flask), then write a small script. \n",
    "Import Flask, instantiate app = Flask(__name__), define a route with @app.route('/'), and return a response from a view function. \n",
    "Finally, run app.run(debug=True) for development. \n",
    "For example: define home() returning 'Hello, World!'. \n",
    "Visiting http://127.0.0.1:5000/ in a browser will show the message. \n",
    "Use debug mode to auto‑reload on code changes and to display helpful error pages. \n",
    "As the app grows, add more routes, templates, static files, configuration, and extensions. \n",
    "Keep secrets out of code and use environment variables for production settings."
   ]
  },
  {
   "cell_type": "markdown",
   "id": "83d23892",
   "metadata": {},
   "source": [
    "### 6) What are HTTP methods used in RESTful APIs?"
   ]
  },
  {
   "cell_type": "markdown",
   "id": "7dddb235",
   "metadata": {},
   "source": [
    "Common HTTP methods map to CRUD operations. \n",
    "GET retrieves resources without changing server state. \n",
    "POST creates new resources and is used for submissions. \n",
    "PUT replaces a resource entirely, while PATCH updates it partially. \n",
    "DELETE removes a resource. \n",
    "OPTIONS describes communication options for a target resource, and HEAD is like GET without the response body, useful for metadata. \n",
    "Choosing the correct method improves clarity, caching, idempotency, and security semantics. \n",
    "For example, GET and HEAD should be safe and cacheable, PUT and DELETE are idempotent, and POST is not. \n",
    "Using methods consistently helps clients understand and interact with APIs predictably."
   ]
  },
  {
   "cell_type": "markdown",
   "id": "2f69751c",
   "metadata": {},
   "source": [
    "### 7) What is the purpose of the @app.route() decorator in Flask?"
   ]
  },
  {
   "cell_type": "markdown",
   "id": "5aa31e51",
   "metadata": {},
   "source": [
    "The @app.route() decorator registers a URL pattern with a view function so Flask knows which function to call for a given request. \n",
    "You can specify the path (e.g., '/users') and allowed HTTP methods (methods=['GET','POST']). \n",
    "The decorator enables clean, declarative mapping of routes to logic, keeping code readable. \n",
    "It also supports dynamic URL segments like '/users/<int:user_id>', passing captured values as function arguments. \n",
    "Multiple routes can point to the same view when needed. \n",
    "By centralizing route definitions near their handlers, @app.route() promotes maintainability and helps developers structure APIs and web pages clearly and consistently."
   ]
  },
  {
   "cell_type": "markdown",
   "id": "f0b4f815",
   "metadata": {},
   "source": [
    "### 8) What is the difference between GET and POST HTTP methods?"
   ]
  },
  {
   "cell_type": "markdown",
   "id": "feca2675",
   "metadata": {},
   "source": [
    "GET requests are used to retrieve data without changing server state. \n",
    "Parameters are usually sent in the URL query string, making them visible and length‑limited. \n",
    "GET is cacheable, bookmarkable, safe, and should not have side effects. \n",
    "POST requests send data in the request body to create or process resources. \n",
    "They are not cacheable by default, are not idempotent, and are suited for form submissions, uploads, and operations that modify state. \n",
    "Sensitive data should be sent via POST with HTTPS. \n",
    "In RESTful design, use GET for reads and POST for creations or actions, keeping semantics clear and predictable for clients and caches."
   ]
  },
  {
   "cell_type": "markdown",
   "id": "7d8e2127",
   "metadata": {},
   "source": [
    "### 9) How do you handle errors in Flask APIs?"
   ]
  },
  {
   "cell_type": "markdown",
   "id": "5164fc63",
   "metadata": {},
   "source": [
    "Handling errors in Flask APIs involves returning consistent, meaningful responses with correct HTTP status codes. \n",
    "Use error handlers via @app.errorhandler(code) to customize messages for 400, 404, 405, 500, and more. \n",
    "Return JSON bodies containing 'error', 'message', and possibly 'details' to help clients debug. \n",
    "Validate inputs early, handle exceptions with try/except or custom exceptions, and log errors for monitoring. \n",
    "Enable or disable debugging appropriately and avoid leaking stack traces in production. \n",
    "Consider using Marshmallow or Pydantic for validation. \n",
    "Consistent error handling improves developer experience, reliability, and makes integration with frontend or third‑party consumers smoother."
   ]
  },
  {
   "cell_type": "markdown",
   "id": "bf849c10",
   "metadata": {},
   "source": [
    "### 10) How do you connect Flask to a SQL database?"
   ]
  },
  {
   "cell_type": "markdown",
   "id": "073ce341",
   "metadata": {},
   "source": [
    "To connect Flask to a SQL database, configure a database URI and use an ORM or driver. \n",
    "Flask‑SQLAlchemy is a popular extension that integrates SQLAlchemy ORM with Flask. \n",
    "Install it, set SQLALCHEMY_DATABASE_URI (e.g., for SQLite or PostgreSQL), initialize db = SQLAlchemy(app), and define models as Python classes. \n",
    "Create tables with db.create_all() in development, then use sessions to query and commit. \n",
    "Alternatively, use raw drivers like psycopg2 or sqlite3 for direct SQL. \n",
    "For production, manage migrations with Flask‑Migrate (Alembic), keep credentials in environment variables, and pool connections through a WSGI server."
   ]
  },
  {
   "cell_type": "markdown",
   "id": "22d15427",
   "metadata": {},
   "source": [
    "### 11) What is the role of Flask‑SQLAlchemy?"
   ]
  },
  {
   "cell_type": "markdown",
   "id": "05f6d5a2",
   "metadata": {},
   "source": [
    "Flask‑SQLAlchemy provides convenient integration of the SQLAlchemy ORM with Flask applications. \n",
    "It simplifies configuration, session management, and model declarations while preserving SQLAlchemy’s power. \n",
    "You define models as Python classes with db.Model, columns with db.Column, and relationships using foreign keys and backrefs. \n",
    "It offers helpful defaults, context‑aware sessions, and easy access to queries via Model.query. \n",
    "In development, db.create_all() creates tables quickly; in production, combine with Flask‑Migrate for schema changes. \n",
    "Using Flask‑SQLAlchemy improves productivity, keeps code organized, and abstracts repetitive boilerplate when working with relational databases in Flask APIs or web apps."
   ]
  },
  {
   "cell_type": "markdown",
   "id": "344aed82",
   "metadata": {},
   "source": [
    "### 12) What are Flask blueprints, and how are they useful?"
   ]
  },
  {
   "cell_type": "markdown",
   "id": "3ed52386",
   "metadata": {},
   "source": [
    "Blueprints are modular components for organizing groups of related routes, templates, and static files in Flask. \n",
    "Instead of defining everything in a single app file, you define blueprints in separate modules and register them on the application. \n",
    "This promotes clean structure, reusability, and teamwork. \n",
    "For example, an 'auth' blueprint handles login, register, and logout routes, while an 'api' blueprint exposes JSON endpoints. \n",
    "Blueprints also support URL prefixes, error handlers, and template folders. \n",
    "They make large applications easier to navigate and test, and they enable packaging features for reuse across projects without coupling to a specific Flask instance."
   ]
  },
  {
   "cell_type": "markdown",
   "id": "d3918bae",
   "metadata": {},
   "source": [
    "### 13) What is the purpose of Flask’s request object?"
   ]
  },
  {
   "cell_type": "markdown",
   "id": "ce670962",
   "metadata": {},
   "source": [
    "Flask’s request object represents the incoming HTTP request and provides access to method, headers, URL, query parameters, form data, JSON body, files, and cookies. \n",
    "It is context‑local, meaning it refers to the current request being processed. \n",
    "Developers use request.args for query strings, request.form for form fields, request.get_json() for JSON payloads, and request.files for uploads. \n",
    "It also exposes path, remote address, and content type. \n",
    "By centralizing request data, Flask simplifies input handling and validation. \n",
    "Properly reading and sanitizing request content is essential for security, correctness, and building predictable API endpoints and web forms."
   ]
  },
  {
   "cell_type": "markdown",
   "id": "7e83b0b2",
   "metadata": {},
   "source": [
    "### 14) How do you create a RESTful API endpoint using Flask?"
   ]
  },
  {
   "cell_type": "markdown",
   "id": "6d0679cf",
   "metadata": {},
   "source": [
    "To create a RESTful API endpoint, define a route and return JSON with appropriate status codes. \n",
    "Use @app.route('/items', methods=['GET','POST']) and implement logic for each method. \n",
    "Serialize Python dictionaries with jsonify(), and validate inputs before processing. \n",
    "Return tuples like (json_body, status_code) for clarity, e.g., return jsonify(item), 201 when creating resources. \n",
    "Handle errors with try/except and custom error handlers. \n",
    "For structure, separate routes into blueprints and business logic into services. \n",
    "Optionally use Flask‑RESTful or Flask‑Smorest for resource classes, request parsing, and automatic documentation."
   ]
  },
  {
   "cell_type": "markdown",
   "id": "83b57c65",
   "metadata": {},
   "source": [
    "### 15) What is the purpose of Flask’s jsonify() function?"
   ]
  },
  {
   "cell_type": "markdown",
   "id": "5f8f813d",
   "metadata": {},
   "source": [
    "jsonify() converts Python data structures—dicts, lists, and primitives—into a JSON HTTP response with the correct application/json content type. \n",
    "It also handles UTF‑8 encoding and ensures keys and values are serializable. \n",
    "Using jsonify() is safer than manually dumping JSON because it integrates with Flask’s Response object, sets headers correctly, and can accept multiple arguments or keyword pairs. \n",
    "Combined with proper status codes, jsonify() helps build clear, client‑friendly REST endpoints. \n",
    "It improves consistency, reduces boilerplate, and avoids common serialization mistakes when returning structured data from Flask views."
   ]
  },
  {
   "cell_type": "markdown",
   "id": "c0cf8446",
   "metadata": {},
   "source": [
    "### 16) Explain Flask’s url_for() function."
   ]
  },
  {
   "cell_type": "markdown",
   "id": "30f3ad3e",
   "metadata": {},
   "source": [
    "url_for() generates URLs for routes using the endpoint (function name) and parameters rather than hard‑coding paths. \n",
    "This prevents broken links when routes change and supports URL building with dynamic arguments and blueprints. \n",
    "For example, url_for('user', id=5) might produce '/users/5'. \n",
    "It respects SCRIPT_NAME, application context, and can generate external absolute URLs with _external=True. \n",
    "Using url_for() in templates and views improves maintainability, supports localization or versioning, and helps avoid subtle bugs caused by manually concatenating strings to form URLs."
   ]
  },
  {
   "cell_type": "markdown",
   "id": "1c84fc66",
   "metadata": {},
   "source": [
    "### 17) How does Flask handle static files (CSS, JavaScript, etc.)?"
   ]
  },
  {
   "cell_type": "markdown",
   "id": "fc4b3283",
   "metadata": {},
   "source": [
    "Flask serves static assets from a folder named 'static' located beside your application module by default. \n",
    "Files in that directory are automatically available under the '/static/' URL path, e.g., '/static/style.css'. \n",
    "In templates, you should generate links using url_for('static', filename='style.css') to avoid hard‑coded paths. \n",
    "You can configure the static_folder or use blueprint‑specific static directories. \n",
    "For production, serve static files with a web server or CDN for better performance and caching. \n",
    "Flask’s built‑in static handling is convenient for development and small projects."
   ]
  },
  {
   "cell_type": "markdown",
   "id": "e0bd1c83",
   "metadata": {},
   "source": [
    "### 18) What is an API specification, and how does it help in building a Flask API?"
   ]
  },
  {
   "cell_type": "markdown",
   "id": "7eeef1c2",
   "metadata": {},
   "source": [
    "An API specification (like OpenAPI) describes endpoints, parameters, data models, auth, and responses in a single source of truth. \n",
    "For Flask projects, a spec guides design, ensures consistency, and enables automatic documentation (Swagger UI), client SDK generation, and mock servers. \n",
    "It reduces ambiguity between frontend and backend teams and simplifies onboarding. \n",
    "Versioning and deprecation policies can be documented clearly. \n",
    "By validating requests and responses against the spec, you catch errors early and maintain quality. \n",
    "Overall, an API spec accelerates development, improves reliability, and makes your Flask API understandable and maintainable for others."
   ]
  },
  {
   "cell_type": "markdown",
   "id": "afe7655e",
   "metadata": {},
   "source": [
    "### 19) What are HTTP status codes, and why are they important in a Flask API?"
   ]
  },
  {
   "cell_type": "markdown",
   "id": "d4d3bca6",
   "metadata": {},
   "source": [
    "HTTP status codes are standardized numbers indicating the result of a request. \n",
    "2xx means success (200 OK, 201 Created), 4xx indicates client errors (400 Bad Request, 401 Unauthorized, 404 Not Found), and 5xx signals server errors (500 Internal Server Error). \n",
    "Choosing correct codes communicates outcomes clearly to clients, enables proper error handling, and leverages browser or proxy behavior. \n",
    "In Flask, return (json, code) to set them explicitly. \n",
    "Good use of status codes improves API usability, debuggability, and contract clarity between services."
   ]
  },
  {
   "cell_type": "markdown",
   "id": "3b61e8e8",
   "metadata": {},
   "source": [
    "### 20) How do you handle POST requests in Flask?"
   ]
  },
  {
   "cell_type": "markdown",
   "id": "3a71a676",
   "metadata": {},
   "source": [
    "To handle POST requests, define a route with methods=['POST'] or include 'POST' in the list. \n",
    "Access data from request.form for HTML forms, request.get_json() for JSON bodies, and request.files for uploads. \n",
    "Validate inputs, apply business logic, and return a response with appropriate status codes (often 201 for creation). \n",
    "Use CSRF protection for forms, authentication for sensitive endpoints, and limit payload size. \n",
    "Return JSON via jsonify() describing the result or created resource location via the Location header. \n",
    "Testing with curl or Postman ensures your POST handler behaves correctly."
   ]
  },
  {
   "cell_type": "markdown",
   "id": "85cbabc1",
   "metadata": {},
   "source": [
    "### 21) How would you secure a Flask API?"
   ]
  },
  {
   "cell_type": "markdown",
   "id": "1e1560ae",
   "metadata": {},
   "source": [
    "Securing a Flask API involves authentication, authorization, validation, rate limiting, and transport security. \n",
    "Use HTTPS everywhere, store secrets safely, and implement token‑based auth (JWT or OAuth 2.0). \n",
    "Validate and sanitize inputs to prevent injection. \n",
    "Use Flask‑Limiter for rate limiting, CORS rules for browser clients, and secure cookies when sessions are used. \n",
    "Apply role‑based access control, log important events, and monitor errors. \n",
    "Keep dependencies updated, pin versions, and avoid exposing stack traces in production. \n",
    "Follow the principle of least privilege for databases and cloud resources."
   ]
  },
  {
   "cell_type": "markdown",
   "id": "f9610ae2",
   "metadata": {},
   "source": [
    "### 22) What is the significance of the Flask‑RESTful extension?"
   ]
  },
  {
   "cell_type": "markdown",
   "id": "1e6b3c5e",
   "metadata": {},
   "source": [
    "Flask‑RESTful simplifies building REST APIs by offering Resource classes, request parsing, and standardized response formatting. \n",
    "It organizes endpoints as Python classes with methods like get(), post(), put(), and delete(), reducing boilerplate. \n",
    "The reqparse utility validates and extracts inputs, while helpful error handling and output marshalling keep responses consistent. \n",
    "Although you can build APIs with pure Flask, Flask‑RESTful accelerates development and enforces cleaner structures. \n",
    "Many teams now also consider alternatives like Flask‑Smorest or FastAPI, but Flask‑RESTful remains a solid option for small to medium services."
   ]
  },
  {
   "cell_type": "markdown",
   "id": "43809883",
   "metadata": {},
   "source": [
    "### 23) What is the role of Flask’s session object?"
   ]
  },
  {
   "cell_type": "markdown",
   "id": "bf590a00",
   "metadata": {},
   "source": [
    "Flask’s session object stores small, per‑user data across requests, such as login status or preferences. \n",
    "It is implemented as a signed cookie, meaning data lives on the client but is cryptographically protected by the app’s secret_key to prevent tampering. \n",
    "You read and write session like a dict: session['user'] = 'alice'. \n",
    "Keep it lightweight; do not store sensitive or large data there. \n",
    "For server‑side storage or scalability, integrate Redis or database‑backed session extensions. \n",
    "Sessions simplify user experience while keeping Flask apps stateless on the server side."
   ]
  },
  {
   "cell_type": "markdown",
   "id": "ccf0f1c3",
   "metadata": {},
   "source": [
    "## Section 2: Practical Questions (15)"
   ]
  },
  {
   "cell_type": "markdown",
   "id": "a1ee63ff",
   "metadata": {},
   "source": [
    "### Q1. Create a basic Flask application"
   ]
  },
  {
   "cell_type": "code",
   "execution_count": null,
   "id": "e31ed562",
   "metadata": {},
   "outputs": [],
   "source": [
    "from flask import Flask\n",
    "\n",
    "app = Flask(__name__)\n",
    "\n",
    "@app.route('/')\n",
    "def home():\n",
    "    return \"Hello, this is my first Flask app!\"\n",
    "\n",
    "if __name__ == \"__main__\":\n",
    "    app.run(debug=True)"
   ]
  },
  {
   "cell_type": "markdown",
   "id": "8a2f3ac5",
   "metadata": {},
   "source": [
    "**Expected Output:**  \n",
    "When I open http://127.0.0.1:5000/ in the browser, it shows:  \n",
    "\"Hello, this is my first Flask app!\"\n"
   ]
  },
  {
   "cell_type": "markdown",
   "id": "e5b73d13",
   "metadata": {},
   "source": [
    "### Q2. Serve static files like images or CSS"
   ]
  },
  {
   "cell_type": "code",
   "execution_count": null,
   "id": "8be35082",
   "metadata": {},
   "outputs": [],
   "source": [
    "from flask import Flask, send_from_directory\n",
    "\n",
    "app = Flask(__name__)\n",
    "\n",
    "@app.route('/static-file')\n",
    "def static_file():\n",
    "    return send_from_directory('static', 'hello.txt')  # hello.txt must be inside static/\n",
    "\n",
    "if __name__ == \"__main__\":\n",
    "    app.run(debug=True)"
   ]
  },
  {
   "cell_type": "markdown",
   "id": "0e6dbc16",
   "metadata": {},
   "source": [
    "**Expected Output:**  \n",
    "When I open http://127.0.0.1:5000/static-file, the content of `hello.txt` from the static folder is shown:  \n",
    "\"This is a static text file served by Flask.\"\n",
    "\n",
    "Alternatively, I can open http://127.0.0.1:5000/static/hello.txt directly to see the same file.\n"
   ]
  },
  {
   "cell_type": "markdown",
   "id": "d1183d2f",
   "metadata": {},
   "source": [
    "### Q3. Define routes with different HTTP methods"
   ]
  },
  {
   "cell_type": "code",
   "execution_count": null,
   "id": "f65a1298",
   "metadata": {},
   "outputs": [],
   "source": [
    "from flask import Flask, request\n",
    "\n",
    "app = Flask(__name__)\n",
    "\n",
    "@app.route('/method', methods=['GET', 'POST'])\n",
    "def method_example():\n",
    "    if request.method == 'GET':\n",
    "        return \"You used GET method\"\n",
    "    else:\n",
    "        return \"You used POST method\"\n",
    "\n",
    "if __name__ == \"__main__\":\n",
    "    app.run(debug=True)"
   ]
  },
  {
   "cell_type": "markdown",
   "id": "e63966ff",
   "metadata": {},
   "source": [
    "**Expected Output:**  \n",
    "- If I open http://127.0.0.1:5000/method in the browser, it shows:  \n",
    "\"You used GET method\"  \n",
    "- If I send a POST request to the same route, it shows:  \n",
    "\"You used POST method\"\n"
   ]
  },
  {
   "cell_type": "markdown",
   "id": "e6b1941b",
   "metadata": {},
   "source": [
    "### Q4. Render HTML templates"
   ]
  },
  {
   "cell_type": "code",
   "execution_count": null,
   "id": "239788c3",
   "metadata": {},
   "outputs": [],
   "source": [
    "from flask import Flask, render_template\n",
    "\n",
    "app = Flask(__name__)\n",
    "\n",
    "@app.route('/')\n",
    "def home():\n",
    "    return render_template('index.html')\n",
    "\n",
    "if __name__ == \"__main__\":\n",
    "    app.run(debug=True)"
   ]
  },
  {
   "cell_type": "markdown",
   "id": "52386b12",
   "metadata": {},
   "source": [
    "**Expected Output:**  \n",
    "When I open http://127.0.0.1:5000/, it renders the `index.html` page and shows:  \n",
    "\"Welcome to Flask Template\" (inside an HTML page).\n"
   ]
  },
  {
   "cell_type": "markdown",
   "id": "c52e5863",
   "metadata": {},
   "source": [
    "### Q5. Generate URLs using url_for"
   ]
  },
  {
   "cell_type": "code",
   "execution_count": null,
   "id": "ac106fb4",
   "metadata": {},
   "outputs": [],
   "source": [
    "from flask import Flask, url_for\n",
    "\n",
    "app = Flask(__name__)\n",
    "\n",
    "@app.route('/')\n",
    "def home():\n",
    "    return f\"Go to {url_for('about')}\"\n",
    "\n",
    "@app.route('/about')\n",
    "def about():\n",
    "    return \"This is the About page\"\n",
    "\n",
    "if __name__ == \"__main__\":\n",
    "    app.run(debug=True)"
   ]
  },
  {
   "cell_type": "markdown",
   "id": "0e6c4e1e",
   "metadata": {},
   "source": [
    "**Expected Output:**  \n",
    "When I open http://127.0.0.1:5000/, it shows a link text like:  \n",
    "\"Go to /about\"  \n",
    "When I click it or open http://127.0.0.1:5000/about, it shows:  \n",
    "\"This is the About page\"\n"
   ]
  },
  {
   "cell_type": "markdown",
   "id": "cf58147a",
   "metadata": {},
   "source": [
    "### Q6. Handle forms"
   ]
  },
  {
   "cell_type": "code",
   "execution_count": null,
   "id": "bc4f2da0",
   "metadata": {},
   "outputs": [],
   "source": [
    "from flask import Flask, render_template, request\n",
    "\n",
    "app = Flask(__name__)\n",
    "\n",
    "@app.route('/form', methods=['GET', 'POST'])\n",
    "def form():\n",
    "    if request.method == 'POST':\n",
    "        return f\"Hello {request.form['name']}\"\n",
    "    return render_template('form.html')\n",
    "\n",
    "if __name__ == \"__main__\":\n",
    "    app.run(debug=True)"
   ]
  },
  {
   "cell_type": "markdown",
   "id": "42bad93a",
   "metadata": {},
   "source": [
    "**Expected Output:**  \n",
    "- When I open http://127.0.0.1:5000/form, a form is displayed asking for a name.  \n",
    "- If I type \"John\" and submit, the page shows:  \n",
    "\"Hello John\"\n"
   ]
  },
  {
   "cell_type": "markdown",
   "id": "40bbe7c6",
   "metadata": {},
   "source": [
    "### Q7. Validate form data"
   ]
  },
  {
   "cell_type": "code",
   "execution_count": null,
   "id": "03213755",
   "metadata": {},
   "outputs": [],
   "source": [
    "from flask import Flask, request\n",
    "\n",
    "app = Flask(__name__)\n",
    "\n",
    "@app.route('/validate', methods=['GET', 'POST'])\n",
    "def validate():\n",
    "    if request.method == 'POST':\n",
    "        name = request.form.get('name')\n",
    "        if not name:\n",
    "            return \"Name is required!\"\n",
    "        return f\"Hello {name}\"\n",
    "    return '''\n",
    "        <form method=\"POST\">\n",
    "            <input type=\"text\" name=\"name\" placeholder=\"Enter name\">\n",
    "            <input type=\"submit\">\n",
    "        </form>\n",
    "    '''\n",
    "\n",
    "if __name__ == \"__main__\":\n",
    "    app.run(debug=True)"
   ]
  },
  {
   "cell_type": "markdown",
   "id": "72766e29",
   "metadata": {},
   "source": [
    "**Expected Output:**  \n",
    "- When I open http://127.0.0.1:5000/validate, a form is shown.  \n",
    "- If I leave the field empty and submit, it shows:  \n",
    "\"Name is required!\"  \n",
    "- If I enter \"Alice\" and submit, it shows:  \n",
    "\"Hello Alice\"\n"
   ]
  },
  {
   "cell_type": "markdown",
   "id": "60c691b3",
   "metadata": {},
   "source": [
    "### Q8. Manage sessions"
   ]
  },
  {
   "cell_type": "code",
   "execution_count": null,
   "id": "c11755a8",
   "metadata": {},
   "outputs": [],
   "source": [
    "from flask import Flask, session, redirect, url_for, request\n",
    "\n",
    "app = Flask(__name__)\n",
    "app.secret_key = \"secret123\"  # required for sessions\n",
    "\n",
    "@app.route('/login', methods=['GET', 'POST'])\n",
    "def login():\n",
    "    if request.method == 'POST':\n",
    "        session['user'] = request.form['username']\n",
    "        return redirect(url_for('profile'))\n",
    "    return '''\n",
    "        <form method=\"POST\">\n",
    "            <input name=\"username\">\n",
    "            <input type=\"submit\">\n",
    "        </form>\n",
    "    '''\n",
    "\n",
    "@app.route('/profile')\n",
    "def profile():\n",
    "    if 'user' in session:\n",
    "        return f\"Logged in as {session['user']}\"\n",
    "    return \"Not logged in\"\n",
    "\n",
    "if __name__ == \"__main__\":\n",
    "    app.run(debug=True)"
   ]
  },
  {
   "cell_type": "markdown",
   "id": "ee8584c3",
   "metadata": {},
   "source": [
    "**Expected Output:**  \n",
    "- When I open http://127.0.0.1:5000/login, a form appears to enter a username.  \n",
    "- If I type \"Yogita\" and submit, it redirects to /profile.  \n",
    "- On /profile, it shows:  \n",
    "\"Logged in as Yogita\"\n"
   ]
  },
  {
   "cell_type": "markdown",
   "id": "30f488ab",
   "metadata": {},
   "source": [
    "### Q9. Redirect to a different route"
   ]
  },
  {
   "cell_type": "code",
   "execution_count": null,
   "id": "c04de780",
   "metadata": {},
   "outputs": [],
   "source": [
    "from flask import Flask, redirect, url_for\n",
    "\n",
    "app = Flask(__name__)\n",
    "\n",
    "@app.route('/')\n",
    "def home():\n",
    "    return redirect(url_for('hello'))\n",
    "\n",
    "@app.route('/hello')\n",
    "def hello():\n",
    "    return \"You were redirected here!\"\n",
    "\n",
    "if __name__ == \"__main__\":\n",
    "    app.run(debug=True)"
   ]
  },
  {
   "cell_type": "markdown",
   "id": "6a236523",
   "metadata": {},
   "source": [
    "**Expected Output:**  \n",
    "When I open http://127.0.0.1:5000/, it automatically redirects to /hello and shows:  \n",
    "\"You were redirected here!\"\n"
   ]
  },
  {
   "cell_type": "markdown",
   "id": "1daeae2d",
   "metadata": {},
   "source": [
    "### Q10. Handle errors (404)"
   ]
  },
  {
   "cell_type": "code",
   "execution_count": null,
   "id": "eec45a94",
   "metadata": {},
   "outputs": [],
   "source": [
    "from flask import Flask\n",
    "\n",
    "app = Flask(__name__)\n",
    "\n",
    "@app.errorhandler(404)\n",
    "def not_found(e):\n",
    "    return \"Oops! Page not found.\", 404\n",
    "\n",
    "if __name__ == \"__main__\":\n",
    "    app.run(debug=True)"
   ]
  },
  {
   "cell_type": "markdown",
   "id": "36668597",
   "metadata": {},
   "source": [
    "**Expected Output:**  \n",
    "- If I try to open a page that does not exist (e.g., http://127.0.0.1:5000/xyz),  \n",
    "it shows the custom error message:  \n",
    "\"Oops! Page not found.\"\n"
   ]
  },
  {
   "cell_type": "markdown",
   "id": "0b03f029",
   "metadata": {},
   "source": [
    "### Q11. Structure a Flask app using Blueprints"
   ]
  },
  {
   "cell_type": "code",
   "execution_count": null,
   "id": "616ce4f6",
   "metadata": {},
   "outputs": [],
   "source": [
    "# File: my_blueprint.py\n",
    "from flask import Blueprint\n",
    "\n",
    "bp = Blueprint('bp', __name__)\n",
    "\n",
    "@bp.route('/blue')\n",
    "def blue_page():\n",
    "    return \"This is from a Blueprint!\"\n",
    "\n",
    "# Main app\n",
    "from flask import Flask\n",
    "from my_blueprint import bp\n",
    "\n",
    "app = Flask(__name__)\n",
    "app.register_blueprint(bp)\n",
    "\n",
    "if __name__ == \"__main__\":\n",
    "    app.run(debug=True)"
   ]
  },
  {
   "cell_type": "markdown",
   "id": "ce774931",
   "metadata": {},
   "source": [
    "**Expected Output:**  \n",
    "When I open http://127.0.0.1:5000/blue, it shows:  \n",
    "\"This is from a Blueprint!\"\n"
   ]
  },
  {
   "cell_type": "markdown",
   "id": "c042d7f2",
   "metadata": {},
   "source": [
    "### Q12. Define a custom Jinja filter"
   ]
  },
  {
   "cell_type": "code",
   "execution_count": null,
   "id": "a7fb0c97",
   "metadata": {},
   "outputs": [],
   "source": [
    "from flask import Flask, render_template_string\n",
    "\n",
    "app = Flask(__name__)\n",
    "\n",
    "@app.template_filter('reverse')\n",
    "def reverse_string(s):\n",
    "    return s[::-1]\n",
    "\n",
    "@app.route('/')\n",
    "def home():\n",
    "    return render_template_string(\"{{ 'Flask'|reverse }}\")\n",
    "\n",
    "if __name__ == \"__main__\":\n",
    "    app.run(debug=True)"
   ]
  },
  {
   "cell_type": "markdown",
   "id": "ad3bc9ab",
   "metadata": {},
   "source": [
    "**Expected Output:**  \n",
    "When I open http://127.0.0.1:5000/, it shows the reversed string of \"Flask\":  \n",
    "\"ksalF\"\n"
   ]
  },
  {
   "cell_type": "markdown",
   "id": "7a4c5c18",
   "metadata": {},
   "source": [
    "### Q13. Redirect with query parameters"
   ]
  },
  {
   "cell_type": "code",
   "execution_count": null,
   "id": "1cf54e01",
   "metadata": {},
   "outputs": [],
   "source": [
    "from flask import Flask, redirect, url_for, request\n",
    "\n",
    "app = Flask(__name__)\n",
    "\n",
    "@app.route('/')\n",
    "def home():\n",
    "    return redirect(url_for('hello', name=\"John\"))\n",
    "\n",
    "@app.route('/hello')\n",
    "def hello():\n",
    "    name = request.args.get('name')\n",
    "    return f\"Hello {name}!\"\n",
    "\n",
    "if __name__ == \"__main__\":\n",
    "    app.run(debug=True)"
   ]
  },
  {
   "cell_type": "markdown",
   "id": "3bf741c2",
   "metadata": {},
   "source": [
    "**Expected Output:**  \n",
    "When I open http://127.0.0.1:5000/, it redirects to /hello?name=John and shows:  \n",
    "\"Hello John!\"\n"
   ]
  },
  {
   "cell_type": "markdown",
   "id": "90480764",
   "metadata": {},
   "source": [
    "### Q14. Return JSON responses"
   ]
  },
  {
   "cell_type": "code",
   "execution_count": null,
   "id": "6b7541fc",
   "metadata": {},
   "outputs": [],
   "source": [
    "from flask import Flask, jsonify\n",
    "\n",
    "app = Flask(__name__)\n",
    "\n",
    "@app.route('/json')\n",
    "def json_example():\n",
    "    return jsonify({\"name\": \"Alice\", \"age\": 25})\n",
    "\n",
    "if __name__ == \"__main__\":\n",
    "    app.run(debug=True)"
   ]
  },
  {
   "cell_type": "markdown",
   "id": "444b9ba4",
   "metadata": {},
   "source": [
    "**Expected Output:**  \n",
    "When I open http://127.0.0.1:5000/json, it shows JSON data:  \n",
    "{\"name\": \"Alice\", \"age\": 25}\n"
   ]
  },
  {
   "cell_type": "markdown",
   "id": "8fd2002e",
   "metadata": {},
   "source": [
    "### Q15. Capture URL parameters"
   ]
  },
  {
   "cell_type": "code",
   "execution_count": null,
   "id": "6221461c",
   "metadata": {},
   "outputs": [],
   "source": [
    "from flask import Flask\n",
    "\n",
    "app = Flask(__name__)\n",
    "\n",
    "@app.route('/user/<name>')\n",
    "def user(name):\n",
    "    return f\"Hello, {name}!\"\n",
    "\n",
    "if __name__ == \"__main__\":\n",
    "    app.run(debug=True)"
   ]
  },
  {
   "cell_type": "markdown",
   "id": "8a669ae4",
   "metadata": {},
   "source": [
    "**Expected Output:**  \n",
    "When I open http://127.0.0.1:5000/user/Yogita, it shows:  \n",
    "\"Hello, Yogita!\"  \n",
    "\n",
    "If I open http://127.0.0.1:5000/user/Alice, it shows:  \n",
    "\"Hello, Alice!\"\n"
   ]
  }
 ],
 "metadata": {
  "language_info": {
   "name": "python"
  }
 },
 "nbformat": 4,
 "nbformat_minor": 5
}
