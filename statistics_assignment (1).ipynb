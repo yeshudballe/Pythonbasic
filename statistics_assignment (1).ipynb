{
 "cells": [
  {
   "cell_type": "markdown",
   "id": "0fe2bf7c",
   "metadata": {},
   "source": [
    "### Question 1: What is a random variable in probability theory?\n",
    "\n",
    "A random variable is a function that assigns numerical values to outcomes of a random experiment. It provides a way to quantify uncertain events by mapping outcomes in a sample space to real numbers. Random variables are central in probability theory as they allow us to apply mathematical techniques to analyze randomness. For example, tossing a coin can be represented as a random variable X, where X = 1 for heads and X = 0 for tails. This abstraction makes it easier to calculate probabilities, expectations, and variances."
   ]
  },
  {
   "cell_type": "markdown",
   "id": "2eab3f4f",
   "metadata": {},
   "source": [
    "### Question 2: What are the types of random variables?\n",
    "\n",
    "Random variables are classified into two main types: **Discrete** and **Continuous**. A discrete random variable takes countable values, such as the number of heads in 10 coin tosses. It has probability mass functions (PMF) that assign probabilities to individual outcomes. A continuous random variable takes values from an uncountably infinite set, such as height or weight, and is described by probability density functions (PDF). Discrete variables are often used in counting experiments, while continuous variables are used for measurements in real-world phenomena."
   ]
  },
  {
   "cell_type": "markdown",
   "id": "2fb37e9e",
   "metadata": {},
   "source": [
    "### Question 3: Explain the difference between discrete and continuous distributions.\n",
    "\n",
    "Discrete distributions describe random variables that take specific, countable values, such as the number of defective items in a batch. Their probabilities are given by a probability mass function (PMF). Continuous distributions represent random variables that take any value within a range, like temperature or time. Probabilities are described using probability density functions (PDF), and probabilities are calculated over intervals. While discrete variables deal with sums of probabilities, continuous variables involve integrals. Both models are essential, depending on whether the data is count-based or measurement-based."
   ]
  },
  {
   "cell_type": "markdown",
   "id": "1dad125f",
   "metadata": {},
   "source": [
    "### Question 4: What is a binomial distribution, and how is it used in probability?\n",
    "\n",
    "The binomial distribution describes the probability of observing a specific number of successes in a fixed number of independent Bernoulli trials, each with the same probability of success. It is defined by two parameters: the number of trials (n) and the probability of success (p). The probability of getting exactly k successes is given by: \n",
    "P(X = k) = C(n, k) * p^k * (1-p)^(n-k). \n",
    "It is widely used in quality control, genetics, and risk analysis where outcomes are binary (success/failure)."
   ]
  },
  {
   "cell_type": "markdown",
   "id": "6814ea8e",
   "metadata": {},
   "source": [
    "### Question 5: What is the standard normal distribution, and why is it important?\n",
    "\n",
    "The standard normal distribution is a special case of the normal distribution with a mean of 0 and standard deviation of 1. It is symmetric, bell-shaped, and used as a reference in statistical analysis. Standardization allows any normal distribution to be transformed into a standard normal using z-scores. This simplifies probability calculations and hypothesis testing. It forms the basis of many statistical methods, including confidence intervals and significance tests, making it crucial for data analysis and inference."
   ]
  },
  {
   "cell_type": "markdown",
   "id": "83b052b6",
   "metadata": {},
   "source": [
    "### Question 6: What is the Central Limit Theorem (CLT), and why is it critical in statistics?\n",
    "\n",
    "The Central Limit Theorem states that, for a sufficiently large sample size, the sampling distribution of the sample mean approaches a normal distribution regardless of the population’s distribution. This theorem is critical because it allows statisticians to use normal distribution techniques for inference, even when data are not normally distributed. CLT underpins confidence intervals, hypothesis testing, and error estimation, making it one of the most important results in statistics. It bridges probability theory with real-world statistical applications."
   ]
  },
  {
   "cell_type": "markdown",
   "id": "33f28dee",
   "metadata": {},
   "source": [
    "### Question 7: What is the significance of confidence intervals in statistical analysis?\n",
    "\n",
    "Confidence intervals provide a range of values within which a population parameter is likely to fall, given a sample statistic. They quantify the uncertainty of an estimate by including a margin of error. For example, a 95% confidence interval means that if we repeated the experiment many times, 95% of the intervals would contain the true parameter. Confidence intervals are significant because they offer more information than point estimates, providing both precision and reliability in decision-making and data analysis."
   ]
  },
  {
   "cell_type": "markdown",
   "id": "6fa8f355",
   "metadata": {},
   "source": [
    "### Question 8: What is the concept of expected value in a probability distribution?\n",
    "\n",
    "The expected value is the long-run average of a random variable, representing the mean outcome if an experiment is repeated infinitely many times. For discrete variables, it is the sum of each value multiplied by its probability: E(X) = Σ [x * P(x)]. For continuous variables, it is calculated as the integral of x times its probability density function. Expected value is a measure of central tendency in probability distributions and is widely used in economics, risk management, and decision-making."
   ]
  },
  {
   "cell_type": "markdown",
   "id": "ee282f9c",
   "metadata": {},
   "source": [
    "### Question 9: Python program for normal distribution"
   ]
  },
  {
   "cell_type": "code",
   "execution_count": 1,
   "id": "f18080b0",
   "metadata": {},
   "outputs": [
    {
     "name": "stdout",
     "output_type": "stream",
     "text": [
      "Calculated Mean: 50.02439524829784\n",
      "Calculated Standard Deviation: 4.708966703254846\n"
     ]
    },
    {
     "data": {
      "image/png": "[encoded data removed]",
      "text/plain": [
       "<Figure size 640x480 with 1 Axes>"
      ]
     },
     "metadata": {},
     "output_type": "display_data"
    }
   ],
   "source": [
    "import numpy as np\n",
    "import matplotlib.pyplot as plt\n",
    "\n",
    "# Generate 1000 random numbers from normal distribution\n",
    "mean, std_dev = 50, 5\n",
    "data = np.random.normal(mean, std_dev, 1000)\n",
    "\n",
    "# Compute mean and standard deviation\n",
    "calculated_mean = np.mean(data)\n",
    "calculated_std = np.std(data)\n",
    "\n",
    "print(\"Calculated Mean:\", calculated_mean)\n",
    "print(\"Calculated Standard Deviation:\", calculated_std)\n",
    "\n",
    "# Plot histogram\n",
    "plt.hist(data, bins=30, edgecolor='black', alpha=0.7)\n",
    "plt.title(\"Normal Distribution (mean=50, std=5)\")\n",
    "plt.xlabel(\"Value\")\n",
    "plt.ylabel(\"Frequency\")\n",
    "plt.show()"
   ]
  },
  {
   "cell_type": "markdown",
   "id": "e4978b97",
   "metadata": {},
   "source": [
    "### Question 10: Sales trend and Central Limit Theorem application"
   ]
  },
  {
   "cell_type": "markdown",
   "id": "639851f3",
   "metadata": {},
   "source": [
    "To apply the Central Limit Theorem, we assume that the sample mean of daily sales follows a normal distribution when taken repeatedly from the population. By calculating the sample mean and standard error, we can construct a 95% confidence interval for average sales. This interval estimates where the true average sales lie, providing insights into long-term trends. A narrower interval suggests greater reliability of the estimate. This approach helps the company understand overall performance and make informed strategic decisions."
   ]
  },
  {
   "cell_type": "code",
   "execution_count": 3,
   "id": "a3ab2678-2e57-4971-9899-9f6520c9d9c5",
   "metadata": {},
   "outputs": [
    {
     "name": "stdout",
     "output_type": "stream",
     "text": [
      "Collecting scipy\n",
      "  Downloading scipy-1.16.1-cp313-cp313-win_amd64.whl.metadata (60 kB)\n",
      "Requirement already satisfied: numpy<2.6,>=1.25.2 in c:\\users\\thinkpad\\appdata\\local\\programs\\python\\python313\\lib\\site-packages (from scipy) (2.3.2)\n",
      "Downloading scipy-1.16.1-cp313-cp313-win_amd64.whl (38.5 MB)\n",
      "   ---------------------------------------- 0.0/38.5 MB ? eta -:--:--\n",
      "    --------------------------------------- 0.5/38.5 MB 2.2 MB/s eta 0:00:18\n",
      "   - -------------------------------------- 1.0/38.5 MB 2.7 MB/s eta 0:00:15\n",
      "   - -------------------------------------- 1.6/38.5 MB 2.7 MB/s eta 0:00:14\n",
      "   -- ------------------------------------- 2.1/38.5 MB 2.7 MB/s eta 0:00:14\n",
      "   -- ------------------------------------- 2.6/38.5 MB 2.7 MB/s eta 0:00:14\n",
      "   --- ------------------------------------ 3.1/38.5 MB 2.7 MB/s eta 0:00:14\n",
      "   --- ------------------------------------ 3.7/38.5 MB 2.7 MB/s eta 0:00:13\n",
      "   ---- ----------------------------------- 4.5/38.5 MB 2.7 MB/s eta 0:00:13\n",
      "   ----- ---------------------------------- 5.0/38.5 MB 2.6 MB/s eta 0:00:13\n",
      "   ----- ---------------------------------- 5.5/38.5 MB 2.6 MB/s eta 0:00:13\n",
      "   ------ --------------------------------- 6.0/38.5 MB 2.6 MB/s eta 0:00:13\n",
      "   ------ --------------------------------- 6.6/38.5 MB 2.6 MB/s eta 0:00:13\n",
      "   ------- -------------------------------- 7.3/38.5 MB 2.7 MB/s eta 0:00:12\n",
      "   -------- ------------------------------- 7.9/38.5 MB 2.7 MB/s eta 0:00:12\n",
      "   -------- ------------------------------- 8.4/38.5 MB 2.7 MB/s eta 0:00:12\n",
      "   --------- ------------------------------ 8.9/38.5 MB 2.7 MB/s eta 0:00:12\n",
      "   ---------- ----------------------------- 9.7/38.5 MB 2.7 MB/s eta 0:00:11\n",
      "   ---------- ----------------------------- 10.2/38.5 MB 2.7 MB/s eta 0:00:11\n",
      "   ----------- ---------------------------- 10.7/38.5 MB 2.7 MB/s eta 0:00:11\n",
      "   ----------- ---------------------------- 11.3/38.5 MB 2.7 MB/s eta 0:00:11\n",
      "   ------------ --------------------------- 11.8/38.5 MB 2.7 MB/s eta 0:00:11\n",
      "   ------------ --------------------------- 12.3/38.5 MB 2.7 MB/s eta 0:00:10\n",
      "   ------------- -------------------------- 12.8/38.5 MB 2.7 MB/s eta 0:00:10\n",
      "   ------------- -------------------------- 13.4/38.5 MB 2.7 MB/s eta 0:00:10\n",
      "   -------------- ------------------------- 13.9/38.5 MB 2.7 MB/s eta 0:00:10\n",
      "   -------------- ------------------------- 14.4/38.5 MB 2.7 MB/s eta 0:00:10\n",
      "   --------------- ------------------------ 14.9/38.5 MB 2.6 MB/s eta 0:00:09\n",
      "   ---------------- ----------------------- 15.5/38.5 MB 2.6 MB/s eta 0:00:09\n",
      "   ---------------- ----------------------- 16.0/38.5 MB 2.6 MB/s eta 0:00:09\n",
      "   ----------------- ---------------------- 16.8/38.5 MB 2.6 MB/s eta 0:00:09\n",
      "   ----------------- ---------------------- 17.0/38.5 MB 2.6 MB/s eta 0:00:09\n",
      "   ------------------ --------------------- 17.6/38.5 MB 2.6 MB/s eta 0:00:08\n",
      "   ------------------- -------------------- 18.4/38.5 MB 2.6 MB/s eta 0:00:08\n",
      "   ------------------- -------------------- 18.9/38.5 MB 2.6 MB/s eta 0:00:08\n",
      "   -------------------- ------------------- 19.4/38.5 MB 2.6 MB/s eta 0:00:08\n",
      "   -------------------- ------------------- 19.9/38.5 MB 2.7 MB/s eta 0:00:08\n",
      "   --------------------- ------------------ 20.4/38.5 MB 2.6 MB/s eta 0:00:07\n",
      "   --------------------- ------------------ 21.0/38.5 MB 2.6 MB/s eta 0:00:07\n",
      "   ---------------------- ----------------- 21.5/38.5 MB 2.6 MB/s eta 0:00:07\n",
      "   ---------------------- ----------------- 22.0/38.5 MB 2.6 MB/s eta 0:00:07\n",
      "   ----------------------- ---------------- 22.5/38.5 MB 2.6 MB/s eta 0:00:07\n",
      "   ----------------------- ---------------- 23.1/38.5 MB 2.6 MB/s eta 0:00:06\n",
      "   ------------------------ --------------- 23.6/38.5 MB 2.6 MB/s eta 0:00:06\n",
      "   ------------------------- -------------- 24.1/38.5 MB 2.6 MB/s eta 0:00:06\n",
      "   ------------------------- -------------- 24.6/38.5 MB 2.6 MB/s eta 0:00:06\n",
      "   -------------------------- ------------- 25.2/38.5 MB 2.6 MB/s eta 0:00:06\n",
      "   -------------------------- ------------- 25.7/38.5 MB 2.6 MB/s eta 0:00:05\n",
      "   --------------------------- ------------ 26.2/38.5 MB 2.6 MB/s eta 0:00:05\n",
      "   --------------------------- ------------ 26.7/38.5 MB 2.6 MB/s eta 0:00:05\n",
      "   ---------------------------- ----------- 27.3/38.5 MB 2.6 MB/s eta 0:00:05\n",
      "   ---------------------------- ----------- 27.8/38.5 MB 2.6 MB/s eta 0:00:05\n",
      "   ----------------------------- ---------- 28.3/38.5 MB 2.6 MB/s eta 0:00:04\n",
      "   ----------------------------- ---------- 28.8/38.5 MB 2.6 MB/s eta 0:00:04\n",
      "   ------------------------------ --------- 29.4/38.5 MB 2.6 MB/s eta 0:00:04\n",
      "   ------------------------------- -------- 29.9/38.5 MB 2.6 MB/s eta 0:00:04\n",
      "   ------------------------------- -------- 30.7/38.5 MB 2.6 MB/s eta 0:00:03\n",
      "   -------------------------------- ------- 31.2/38.5 MB 2.6 MB/s eta 0:00:03\n",
      "   -------------------------------- ------- 31.7/38.5 MB 2.6 MB/s eta 0:00:03\n",
      "   --------------------------------- ------ 32.2/38.5 MB 2.6 MB/s eta 0:00:03\n",
      "   ---------------------------------- ----- 32.8/38.5 MB 2.6 MB/s eta 0:00:03\n",
      "   ---------------------------------- ----- 33.3/38.5 MB 2.6 MB/s eta 0:00:02\n",
      "   ----------------------------------- ---- 34.1/38.5 MB 2.6 MB/s eta 0:00:02\n",
      "   ----------------------------------- ---- 34.6/38.5 MB 2.6 MB/s eta 0:00:02\n",
      "   ------------------------------------ --- 35.1/38.5 MB 2.6 MB/s eta 0:00:02\n",
      "   ------------------------------------- -- 35.7/38.5 MB 2.6 MB/s eta 0:00:02\n",
      "   ------------------------------------- -- 36.2/38.5 MB 2.6 MB/s eta 0:00:01\n",
      "   -------------------------------------- - 36.7/38.5 MB 2.6 MB/s eta 0:00:01\n",
      "   -------------------------------------- - 37.5/38.5 MB 2.6 MB/s eta 0:00:01\n",
      "   ---------------------------------------  38.0/38.5 MB 2.6 MB/s eta 0:00:01\n",
      "   ---------------------------------------  38.3/38.5 MB 2.6 MB/s eta 0:00:01\n",
      "   ---------------------------------------- 38.5/38.5 MB 2.6 MB/s  0:00:14\n",
      "Installing collected packages: scipy\n",
      "Successfully installed scipy-1.16.1\n"
     ]
    }
   ],
   "source": [
    "!pip install scipy\n"
   ]
  },
  {
   "cell_type": "code",
   "execution_count": 4,
   "id": "bf6085fd",
   "metadata": {},
   "outputs": [
    {
     "name": "stdout",
     "output_type": "stream",
     "text": [
      "Mean Sales: 248.25\n",
      "95% Confidence Interval: (np.float64(240.16957025147158), np.float64(256.3304297485284))\n"
     ]
    }
   ],
   "source": [
    "import numpy as np\n",
    "import scipy.stats as stats\n",
    "\n",
    "# Daily sales data\n",
    "daily_sales = [220, 245, 210, 265, 230, 250, 260, 275, 240, 255,\n",
    "               235, 260, 245, 250, 225, 270, 265, 255, 250, 260]\n",
    "\n",
    "# Calculate mean and standard error\n",
    "mean_sales = np.mean(daily_sales)\n",
    "std_error = stats.sem(daily_sales)\n",
    "\n",
    "# 95% confidence interval\n",
    "confidence_interval = stats.t.interval(0.95, len(daily_sales)-1, loc=mean_sales, scale=std_error)\n",
    "\n",
    "print(\"Mean Sales:\", mean_sales)\n",
    "print(\"95% Confidence Interval:\", confidence_interval)"
   ]
  },
  {
   "cell_type": "code",
   "execution_count": null,
   "id": "63156665-e8b9-4757-be50-c56eeb911b2a",
   "metadata": {},
   "outputs": [],
   "source": []
  }
 ],
 "metadata": {
  "kernelspec": {
   "display_name": "Python 3 (ipykernel)",
   "language": "python",
   "name": "python3"
  },
  "language_info": {
   "codemirror_mode": {
    "name": "ipython",
    "version": 3
   },
   "file_extension": ".py",
   "mimetype": "text/x-python",
   "name": "python",
   "nbconvert_exporter": "python",
   "pygments_lexer": "ipython3",
   "version": "3.13.7"
  }
 },
 "nbformat": 4,
 "nbformat_minor": 5
}
