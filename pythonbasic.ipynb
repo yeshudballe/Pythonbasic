{
  "nbformat": 4,
  "nbformat_minor": 0,
  "metadata": {
    "colab": {
      "provenance": []
    },
    "kernelspec": {
      "name": "python3",
      "display_name": "Python 3"
    },
    "language_info": {
      "name": "python"
    }
  },
  "cells": [
    {
      "cell_type": "markdown",
      "source": [
        "#Python Basic Assignment\n",
        "\n",
        "1.  What is Python, and why is it popular?\n",
        "    - Python is a high-level, interpreted programming language known for its simplicity, readability, and versatility. It was created by Guido van Rossum and first released in 1991.\n",
        "    \n",
        "    - It is popular because it's so easy to learn and read.\n",
        "\n",
        "    - It has huge community and libraries.Also it provide multiple programming paradigms.\n",
        "\n",
        "2.  What is an interpreter in Python?\n",
        "    - An interpreter in Python is a program that executes Python code line by line, converting it into machine-readable instructions during runtime. Unlike compiled languages, Python doesn’t need prior compilation. This allows for quick testing, easy debugging, and interactive coding. The interpreter processes each instruction one at a time, making Python highly readable and beginner-friendly.\n",
        "\n",
        "3. What are pre-defined keywords in Python?\n",
        "    - Pre-defined keywords in Python are reserved words that have special meanings and are used to define the syntax and structure of Python programs. These words cannot be used as variable names, function names, or identifiers. Examples include if, else, while, for, def, class, and return. Python has a fixed set of these keywords, which are recognized by the interpreter and play a crucial role in controlling the flow and logic of the code.\n",
        "\n",
        "4.  Can keywords be used as variable names?\n",
        "    - No, keywords cannot be used as variable names in Python because they are reserved for specific language functions and syntax.\n",
        "\n",
        "5.  What is mutability in Python?\n",
        "    - Mutability in Python refers to whether an object’s value can be changed after it is created. Mutable objects, such as lists, dictionaries, and sets, allow modification of their content. In contrast, immutable objects, like strings, integers, and tuples, cannot be altered once defined. Understanding mutability is important for writing efficient and bug-free Python code.\n",
        "\n",
        "6.  Why are lists mutable, but tuples are immutable?\n",
        "    - Lists are mutable because they are designed to store collections of items that may need to change, allowing elements to be added, removed, or modified. Tuples are immutable to provide data integrity, meaning their contents stay constant after creation. This immutability makes tuples faster and suitable for fixed data, like dictionary keys or constant values.\n",
        "\n",
        "7.  What is the difference between “==” and “is” operators in Python ?\n",
        "    - In Python, the == operator checks whether the values of two variables are the same, meaning it compares the data they hold. On the other hand, the is operator checks whether two variables refer to the exact same object in memory, not just the same value. For example, two separate lists with identical contents are equal using == but not identical using is. The is operator is often used when comparing objects like None, while == is used for general value comparison. Understanding this difference helps avoid bugs when dealing with mutable objects and memory references.\n",
        "\n",
        "8.  What are logical operators in Python?\n",
        "    - Logical operators in Python are used to combine multiple conditions and return a Boolean value (True or False). The main logical operators are:\n",
        "\n",
        "    1. and – Returns True if both conditions are true.\n",
        "\n",
        "    2. or – Returns True if at least one condition is true.\n",
        "\n",
        "    3. not – Reverses the result; returns True if the condition is false.\n",
        "\n",
        "     These are commonly used in decision-making statements.\n",
        "\n",
        "9. What is type casting in Python?\n",
        "    - Type casting in Python means converting one data type to another. It can be done using functions like int(), float(), and str().\n",
        "\n",
        "      Examples:\n",
        "    1. Converting integer to string:\n",
        "      str(10) → \"10\"\n",
        "\n",
        "    2.  Converting string to integer:\n",
        "      int(\"5\") → 5\n",
        "\n",
        "    3.  Converting float to integer:\n",
        "      int(3.8) → 3\n",
        "\n",
        "      These conversions are useful when handling different data types together.\n",
        "\n",
        "10.  What is the difference between implicit and explicit type casting?\n",
        "     - Implicit type casting is automatically done by Python when converting data types without user intervention, usually from a smaller to a larger type (e.g., int to float).\n",
        "     - Explicit type casting is manually done using functions like int(), float(), or str() to convert data types.\n",
        "      - Implicit\n",
        "        a = 5\n",
        "        b = 2.0\n",
        "        c = a + b  # a is automatically converted to float\n",
        "\n",
        "      - Explicit\n",
        "        x = \"10\"\n",
        "        y = int(x)  # x is explicitly cast to integer.\n",
        "\n",
        "11. What is the purpose of conditional statements in Python?\n",
        "    - Conditional statements allow Python programs to make decisions based on conditions. They help control the flow of code execution by running different blocks depending on whether a condition is true or false. The main statements are if, elif, and else.\n",
        "     \n",
        "     Example:\n",
        "              age = 18\n",
        "          if age >= 18:\n",
        "              print(\"You are an adult.\")\n",
        "          else:\n",
        "              print(\"You are a minor.\")\n",
        "      This helps programs respond to different inputs and situations, making them more interactive and intelligent.\n",
        "\n",
        "12.  How does the elif statement work?\n",
        "    - The elif (short for \"else if\") statement allows checking multiple conditions one after another. It runs only if the initial if condition is false, and the elif condition is true. You can use multiple elif statements to check various possibilities.\n",
        "\n",
        "     Example:\n",
        "            score = 75\n",
        "            if score >= 90:\n",
        "                print(\"Grade A\")\n",
        "            elif score >= 75:\n",
        "                print(\"Grade B\")\n",
        "            else:\n",
        "                print(\"Grade C\")\n",
        "\n",
        "13. What is the difference between for and while loops?\n",
        "    - A for loop is used when you know the number of iterations in advance, often iterating over a sequence like a list or range.\n",
        "      \n",
        "    - A while loop is used when the number of iterations is not known, and it continues until a condition becomes false.\n",
        "\n",
        "     Example:\n",
        "\n",
        "            # For loop\n",
        "            for i in range(5):\n",
        "                print(i)\n",
        "\n",
        "            # While loop\n",
        "            i = 0\n",
        "            while i < 5:\n",
        "                print(i)\n",
        "                i += 1\n",
        "\n",
        "      Use for when iterating over items, and while when repeating based on a condition.\n",
        "\n",
        "14. Describe a scenario where a while loop is more suitable than a for loop.\n",
        "\n",
        "    - A while loop is more suitable when you don’t know in advance how many times the loop should run. For example, reading user input until they enter a specific word:\n",
        "     \n",
        "     Example:\n",
        "          password = \"\"\n",
        "          while password != \"secret\":\n",
        "              password = input(\"Enter password: \")\n",
        "          print(\"Access granted.\")\n",
        "\n",
        "      Here, the loop continues until the user types the correct password. Since the number of attempts is unknown, a while loop is ideal. It offers flexibility for condition-based repetition, such as user interactions or real-time monitoring.    \n",
        "\n",
        "               \n",
        "\n",
        "              \n",
        "        \n",
        "            \n",
        "                             "
      ],
      "metadata": {
        "id": "fKvelq270ZKr"
      }
    },
    {
      "cell_type": "code",
      "execution_count": null,
      "metadata": {
        "colab": {
          "base_uri": "https://localhost:8080/"
        },
        "id": "00vAqNpl0DVi",
        "outputId": "9a751a94-9259-4a48-cb30-aeadee662da2"
      },
      "outputs": [
        {
          "output_type": "stream",
          "name": "stdout",
          "text": [
            "Hello, world!\n"
          ]
        }
      ],
      "source": [
        "# Write a Python program to print \"Hello, World!\"\n",
        "print(\"Hello, world!\")"
      ]
    },
    {
      "cell_type": "code",
      "source": [
        "# Write a Python program that displays your name and age.\n",
        "a = int(input(\"Enter your age: \"))\n",
        "b = input(\"Enter your name: \")\n",
        "print(f\"your name is {b}, your age is {a}\")"
      ],
      "metadata": {
        "colab": {
          "base_uri": "https://localhost:8080/"
        },
        "id": "EIrxhx0hEtvX",
        "outputId": "0d81d284-c140-4785-f314-264af8a5fc13"
      },
      "execution_count": null,
      "outputs": [
        {
          "output_type": "stream",
          "name": "stdout",
          "text": [
            "Enter your age: 21\n",
            "Enter your name: aditya\n",
            "your name is aditya, your age is 21\n"
          ]
        }
      ]
    },
    {
      "cell_type": "code",
      "source": [
        "# Write code to print all the pre-defined keywords in Python using the keyword library.\n",
        "# Step 1: Import the keyword module\n",
        "import keyword\n",
        "\n",
        "# Step 2: Get the list of all Python keywords\n",
        "all_keywords = keyword.kwlist\n",
        "\n",
        "# Step 3: Print a message first\n",
        "print(\"List of all Python keywords:\")\n",
        "\n",
        "# Step 4: Go through each keyword and print it\n",
        "for word in all_keywords:\n",
        "    print(word)\n"
      ],
      "metadata": {
        "colab": {
          "base_uri": "https://localhost:8080/"
        },
        "id": "Grak073bGKXp",
        "outputId": "09dfab8f-1901-4f6a-cea1-2dbdb783ba48"
      },
      "execution_count": null,
      "outputs": [
        {
          "output_type": "stream",
          "name": "stdout",
          "text": [
            "List of all Python keywords:\n",
            "False\n",
            "None\n",
            "True\n",
            "and\n",
            "as\n",
            "assert\n",
            "async\n",
            "await\n",
            "break\n",
            "class\n",
            "continue\n",
            "def\n",
            "del\n",
            "elif\n",
            "else\n",
            "except\n",
            "finally\n",
            "for\n",
            "from\n",
            "global\n",
            "if\n",
            "import\n",
            "in\n",
            "is\n",
            "lambda\n",
            "nonlocal\n",
            "not\n",
            "or\n",
            "pass\n",
            "raise\n",
            "return\n",
            "try\n",
            "while\n",
            "with\n",
            "yield\n"
          ]
        }
      ]
    },
    {
      "cell_type": "code",
      "source": [
        " # Write a program that checks if a given word is a Python keyword.\n",
        "# Step 1: Import the keyword module\n",
        "import keyword\n",
        "\n",
        "# Step 2: Ask the user to enter a word\n",
        "word = input(\"Enter a word to check: \")\n",
        "\n",
        "# Step 3: Check if the word is a Python keyword\n",
        "if keyword.iskeyword(word):\n",
        "    print(f\"'{word}' is a Python keyword.\")\n",
        "else:\n",
        "    print(f\"'{word}' is NOT a Python keyword.\")\n"
      ],
      "metadata": {
        "colab": {
          "base_uri": "https://localhost:8080/"
        },
        "id": "fikc4vZhG7tE",
        "outputId": "814d9630-891b-4a26-cdde-5dcac41a9a79"
      },
      "execution_count": null,
      "outputs": [
        {
          "output_type": "stream",
          "name": "stdout",
          "text": [
            "Enter a word to check: True\n",
            "'True' is a Python keyword.\n"
          ]
        }
      ]
    },
    {
      "cell_type": "code",
      "source": [
        "# Create a list and tuple in Python, and demonstrate how attempting to change an element works differently for each.\n",
        "# Create a list\n",
        "my_list = [10, 20, 30]\n",
        "print(\"Original list:\", my_list)\n",
        "\n",
        "# Change the second element (index 1)\n",
        "my_list[1] = 99\n",
        "print(\"Updated list:\", my_list)\n",
        "\n",
        "# Create a tuple\n",
        "my_tuple = (10, 20, 30)\n",
        "print(\"Original tuple:\", my_tuple)\n",
        "\n",
        "# Try to change the second element (index 1)\n",
        "# This will cause an error\n",
        "my_tuple[1] = 99\n",
        "print(\"Updated tuple:\", my_tuple)\n"
      ],
      "metadata": {
        "colab": {
          "base_uri": "https://localhost:8080/",
          "height": 245
        },
        "id": "W70eFojrLdDw",
        "outputId": "a52f8184-85ef-42a5-ec6a-af82318dd685"
      },
      "execution_count": null,
      "outputs": [
        {
          "output_type": "stream",
          "name": "stdout",
          "text": [
            "Original list: [10, 20, 30]\n",
            "Updated list: [10, 99, 30]\n",
            "Original tuple: (10, 20, 30)\n"
          ]
        },
        {
          "output_type": "error",
          "ename": "TypeError",
          "evalue": "'tuple' object does not support item assignment",
          "traceback": [
            "\u001b[0;31m---------------------------------------------------------------------------\u001b[0m",
            "\u001b[0;31mTypeError\u001b[0m                                 Traceback (most recent call last)",
            "\u001b[0;32m/tmp/ipython-input-19-2125528292.py\u001b[0m in \u001b[0;36m<cell line: 0>\u001b[0;34m()\u001b[0m\n\u001b[1;32m     13\u001b[0m \u001b[0;31m# Try to change the second element (index 1)\u001b[0m\u001b[0;34m\u001b[0m\u001b[0;34m\u001b[0m\u001b[0m\n\u001b[1;32m     14\u001b[0m \u001b[0;31m# This will cause an error\u001b[0m\u001b[0;34m\u001b[0m\u001b[0;34m\u001b[0m\u001b[0m\n\u001b[0;32m---> 15\u001b[0;31m \u001b[0mmy_tuple\u001b[0m\u001b[0;34m[\u001b[0m\u001b[0;36m1\u001b[0m\u001b[0;34m]\u001b[0m \u001b[0;34m=\u001b[0m \u001b[0;36m99\u001b[0m\u001b[0;34m\u001b[0m\u001b[0;34m\u001b[0m\u001b[0m\n\u001b[0m\u001b[1;32m     16\u001b[0m \u001b[0mprint\u001b[0m\u001b[0;34m(\u001b[0m\u001b[0;34m\"Updated tuple:\"\u001b[0m\u001b[0;34m,\u001b[0m \u001b[0mmy_tuple\u001b[0m\u001b[0;34m)\u001b[0m\u001b[0;34m\u001b[0m\u001b[0;34m\u001b[0m\u001b[0m\n",
            "\u001b[0;31mTypeError\u001b[0m: 'tuple' object does not support item assignment"
          ]
        }
      ]
    },
    {
      "cell_type": "markdown",
      "source": [
        "1. As u can see the above code runs perfectly for list because list is mutable . But throws error for tuple because tuple is immutable."
      ],
      "metadata": {
        "id": "7r0XbNASLlEi"
      }
    },
    {
      "cell_type": "code",
      "source": [
        "# Write a function to demonstrate the behavior of mutable and immutable arguments.\n",
        "# Immutable example (number)\n",
        "x = 10\n",
        "y = x      # Copy the value of x into y\n",
        "y = y + 5  # Change y\n",
        "print(\"x =\", x)  # x is still 10, not changed\n",
        "\n",
        "# Mutable example (list)\n",
        "my_list = [1, 2, 3]\n",
        "new_list = my_list   # Both point to the same list\n",
        "new_list.append(99)  # Change the list\n",
        "print(\"my_list =\", my_list)  # my_list is also changed\n"
      ],
      "metadata": {
        "colab": {
          "base_uri": "https://localhost:8080/"
        },
        "id": "zhlgiVC3L_07",
        "outputId": "fe374829-fee3-4b9a-8ae9-1c6ef15e09ef"
      },
      "execution_count": null,
      "outputs": [
        {
          "output_type": "stream",
          "name": "stdout",
          "text": [
            "x = 10\n",
            "my_list = [1, 2, 3, 99]\n"
          ]
        }
      ]
    },
    {
      "cell_type": "code",
      "source": [
        "# Write a program that performs basic arithmetic operations on two user-input numbers.\n",
        "a = int(input(\"enter a number:\"))\n",
        "b = int(input(\"enter a number:\"))\n",
        "c = a + b\n",
        "print(c)"
      ],
      "metadata": {
        "colab": {
          "base_uri": "https://localhost:8080/"
        },
        "id": "MPszyapfQcr-",
        "outputId": "9fb0c6f5-be6a-4d14-ed6c-6f9a7e6adde9"
      },
      "execution_count": null,
      "outputs": [
        {
          "output_type": "stream",
          "name": "stdout",
          "text": [
            "enter a number:52\n",
            "enter a number:63\n",
            "115\n"
          ]
        }
      ]
    },
    {
      "cell_type": "code",
      "source": [
        " # Write a program to demonstrate the use of logical operators.\n",
        " # Logical Operators: and, or, not\n",
        "\n",
        "# Let's take two numbers\n",
        "a = 10\n",
        "b = 5\n",
        "\n",
        "# Using 'and' operator\n",
        "print(\"Using 'and' operator:\")\n",
        "if a > 0 and b > 0:\n",
        "    print(\"Both a and b are positive numbers.\\n\")\n",
        "\n",
        "# Using 'or' operator\n",
        "print(\"Using 'or' operator:\")\n",
        "if a > 0 or b < 0:\n",
        "    print(\"At least one of a or b is positive.\\n\")\n",
        "\n",
        "# Using 'not' operator\n",
        "print(\"Using 'not' operator:\")\n",
        "is_sunny = False\n",
        "if not is_sunny:\n",
        "    print(\"It is not sunny today.\\n\")\n"
      ],
      "metadata": {
        "id": "OqRgK-7zQ_8t",
        "colab": {
          "base_uri": "https://localhost:8080/"
        },
        "outputId": "cde1d441-93cd-4f40-d83a-a524a1cfdb8a"
      },
      "execution_count": 3,
      "outputs": [
        {
          "output_type": "stream",
          "name": "stdout",
          "text": [
            "Using 'and' operator:\n",
            "Both a and b are positive numbers.\n",
            "\n",
            "Using 'or' operator:\n",
            "At least one of a or b is positive.\n",
            "\n",
            "Using 'not' operator:\n",
            "It is not sunny today.\n",
            "\n"
          ]
        }
      ]
    },
    {
      "cell_type": "code",
      "source": [
        "#Write a Python program to convert user input from string to integer, float, and boolean types.\n",
        "a = input(\"enter a string:\")\n",
        "a = int(a)\n",
        "print(a)\n",
        "a = float(a)\n",
        "print(a)\n",
        "a = bool(a)\n",
        "print(a)"
      ],
      "metadata": {
        "colab": {
          "base_uri": "https://localhost:8080/"
        },
        "id": "hytQu-xXusAg",
        "outputId": "81999b24-da52-46bf-b149-51a92a7275b3"
      },
      "execution_count": 16,
      "outputs": [
        {
          "output_type": "stream",
          "name": "stdout",
          "text": [
            "enter a string:2\n",
            "2\n",
            "2.0\n",
            "True\n"
          ]
        }
      ]
    },
    {
      "cell_type": "code",
      "source": [
        "#Write code to demonstrate type casting with list elements.\n",
        "xyz_list = [\"1.2\",\"cat\",\"233\",\"True\"]\n",
        "print(\"original list\", xyz_list)\n",
        "\n",
        "#now first element of the list is a float number stored as a string\n",
        "xyz_list[0] = float(xyz_list[0])\n",
        "print(\"float value of element 1 in list is :\", xyz_list[0])\n",
        "\n",
        "#now we type cast from float to int\n",
        "xyz_list[0] = int(xyz_list[0])\n",
        "print(\"integer value of element 1 is :\", xyz_list[0])"
      ],
      "metadata": {
        "colab": {
          "base_uri": "https://localhost:8080/"
        },
        "id": "Ac46dLfSzNIm",
        "outputId": "533c5ae1-2555-4c1a-9d1e-2185fbbeb511"
      },
      "execution_count": 25,
      "outputs": [
        {
          "output_type": "stream",
          "name": "stdout",
          "text": [
            "original list ['1.2', 'cat', '233', 'True']\n",
            "float value of element 1 in list is : 1.2\n",
            "integer value of element 1 is : 1\n"
          ]
        }
      ]
    },
    {
      "cell_type": "code",
      "source": [
        "#Write a program that checks if a number is positive, negative, or zero.\n",
        "a = int(input(\"enter a number:\"))\n",
        "\n",
        "if a>0:\n",
        "  print(\"positive no.\")\n",
        "elif a<0:\n",
        "  print(\"negative no.\")\n",
        "else:\n",
        "  print(\" number is zero\")"
      ],
      "metadata": {
        "colab": {
          "base_uri": "https://localhost:8080/"
        },
        "id": "Lg5KsfSYz7k2",
        "outputId": "230aa81d-8d60-437a-cb5a-84ab4227cf0d"
      },
      "execution_count": 28,
      "outputs": [
        {
          "output_type": "stream",
          "name": "stdout",
          "text": [
            "enter a number:-8\n",
            "negative no.\n"
          ]
        }
      ]
    },
    {
      "cell_type": "code",
      "source": [
        "#Write a for loop to print numbers from 1 to 10.\n",
        "for i in range(1,11):\n",
        "    print(\"numbers :\",i)"
      ],
      "metadata": {
        "colab": {
          "base_uri": "https://localhost:8080/"
        },
        "id": "Ao4_8iB10jmC",
        "outputId": "a5d6a514-8332-41b8-fa03-fac5533a9e9e"
      },
      "execution_count": 37,
      "outputs": [
        {
          "output_type": "stream",
          "name": "stdout",
          "text": [
            "numbers : 1\n",
            "numbers : 2\n",
            "numbers : 3\n",
            "numbers : 4\n",
            "numbers : 5\n",
            "numbers : 6\n",
            "numbers : 7\n",
            "numbers : 8\n",
            "numbers : 9\n",
            "numbers : 10\n"
          ]
        }
      ]
    },
    {
      "cell_type": "code",
      "source": [
        "#Write a Python program to find the sum of all even numbers between 1 and 50.\n",
        "for i in range(0,52,2):\n",
        " print(i)\n",
        "even_no_add = sum(range(0,52,2))\n",
        "print(\"sum of all even number in range 0 to 50 is :\", even_no_add)"
      ],
      "metadata": {
        "colab": {
          "base_uri": "https://localhost:8080/"
        },
        "id": "cy4_-Tfq1WAO",
        "outputId": "b248ee1b-5a11-4194-e468-f4b706fd91ca"
      },
      "execution_count": 44,
      "outputs": [
        {
          "output_type": "stream",
          "name": "stdout",
          "text": [
            "0\n",
            "2\n",
            "4\n",
            "6\n",
            "8\n",
            "10\n",
            "12\n",
            "14\n",
            "16\n",
            "18\n",
            "20\n",
            "22\n",
            "24\n",
            "26\n",
            "28\n",
            "30\n",
            "32\n",
            "34\n",
            "36\n",
            "38\n",
            "40\n",
            "42\n",
            "44\n",
            "46\n",
            "48\n",
            "50\n",
            "sum of all even number in range 0 to 50 is : 650\n"
          ]
        }
      ]
    },
    {
      "cell_type": "code",
      "source": [
        "#Write a program to reverse a string using a while loop.\n",
        "# Program to reverse a string using while loop\n",
        "\n",
        "# Input string\n",
        "text = input(\"enter a string :\")\n",
        "\n",
        "# Initialize an empty string to store the reversed version\n",
        "reversed_text = \"\"\n",
        "\n",
        "# Get the last index of the string\n",
        "i = len(text) - 1\n",
        "\n",
        "# Loop through the string in reverse order\n",
        "while i >= 0:\n",
        "    reversed_text = reversed_text + text[i]\n",
        "    i = i - 1\n",
        "\n",
        "# Print the reversed string\n",
        "print(\"Original string:\", text)\n",
        "print(\"Reversed string:\", reversed_text)\n"
      ],
      "metadata": {
        "colab": {
          "base_uri": "https://localhost:8080/"
        },
        "id": "Q7-ZL6Uu30cJ",
        "outputId": "9beef4b9-7de4-414e-eff1-ca97d002e389"
      },
      "execution_count": 46,
      "outputs": [
        {
          "output_type": "stream",
          "name": "stdout",
          "text": [
            "enter a string :varun\n",
            "Original string: varun\n",
            "Reversed string: nurav\n"
          ]
        }
      ]
    },
    {
      "cell_type": "code",
      "source": [
        "#Write a Python program to calculate the factorial of a number provided by the user using a while loop.\n",
        "# Program to calculate factorial using while loop\n",
        "\n",
        "# Get input from user\n",
        "num = int(input(\"Enter a number: \"))\n",
        "\n",
        "# Initialize variables\n",
        "factorial = 1\n",
        "i = 1\n",
        "\n",
        "# Calculate factorial\n",
        "while i <= num:\n",
        "    factorial = factorial * i\n",
        "    i = i + 1\n",
        "\n",
        "# Display the result\n",
        "print(\"Factorial of\", num, \"is\", factorial)\n"
      ],
      "metadata": {
        "colab": {
          "base_uri": "https://localhost:8080/"
        },
        "id": "QkWeg0Ha4R2D",
        "outputId": "d5d0c189-ec73-47bf-e1a5-bd58258420c8"
      },
      "execution_count": 48,
      "outputs": [
        {
          "output_type": "stream",
          "name": "stdout",
          "text": [
            "Enter a number: 10\n",
            "Factorial of 10 is 3628800\n"
          ]
        }
      ]
    }
  ]
}