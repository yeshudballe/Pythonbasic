{
 "cells": [
  {
   "cell_type": "markdown",
   "id": "c4077c1f-f2ae-4ecc-a4ef-55eeaf5dbf03",
   "metadata": {},
   "source": [
    "**Question 1: Explain the differences between AI, ML, Deep Learning (DL), and Data Science (DS).**\n",
    "\n",
    "Answer:   \n",
    "Artificial Intelligence (AI) is a broad field that focuses on creating machines capable of mimicking human intelligence. Machine Learning (ML), a subset of AI, involves training algorithms on data to make predictions or decisions without explicit programming. Deep Learning (DL) is a subfield of ML that uses neural networks with multiple layers to learn complex data patterns, excelling in tasks like image and speech recognition. Data Science (DS) is a multidisciplinary field combining statistics, data analysis, and ML to extract insights and solve business problems. Thus, AI is the broadest, with ML and DL as subsets, and DS overlaps.\n"
   ]
  },
  {
   "cell_type": "markdown",
   "id": "1775cb7e",
   "metadata": {},
   "source": [
    "**Question 2: What are the types of machine learning? Describe each with one real-world example.**\n",
    "\n",
    "**Answer:**  \n",
    "Machine Learning can be categorized into three main types: **Supervised Learning**, where models learn from labeled data (e.g., predicting house prices from features). **Unsupervised Learning**, where models find hidden patterns in unlabeled data (e.g., customer segmentation in marketing). **Reinforcement Learning**, where an agent learns by interacting with an environment and receiving feedback in the form of rewards (e.g., self-driving cars adjusting speed and direction). Each type has unique applications: supervised is most common in classification/regression tasks, unsupervised is vital for clustering or dimensionality reduction, and reinforcement powers decision-making systems requiring continuous interaction with dynamic environments.\n"
   ]
  },
  {
   "cell_type": "markdown",
   "id": "8088fec4",
   "metadata": {},
   "source": [
    "**Question 3: Define overfitting, underfitting, and the bias-variance tradeoff in machine learning.**\n",
    "\n",
    "**Answer:**  \n",
    "Overfitting occurs when a model learns training data too well, capturing noise and performing poorly on unseen data. Underfitting happens when a model is too simple to capture underlying data patterns, leading to poor performance on both training and test sets. The bias-variance tradeoff describes the balance between model complexity and generalization: high bias leads to underfitting, while high variance causes overfitting. An ideal model finds the sweet spot between bias and variance, achieving good generalization. Regularization, cross-validation, and model selection are common techniques to manage this tradeoff in practical machine learning tasks.\n"
   ]
  },
  {
   "cell_type": "markdown",
   "id": "98545989",
   "metadata": {},
   "source": [
    "**Question 4: What are outliers in a dataset, and list three common techniques for handling them.**\n",
    "\n",
    "**Answer:**  \n",
    "Outliers are data points significantly different from most observations in a dataset. They can arise due to measurement errors, rare events, or natural variability. Outliers can distort statistical analysis and affect machine learning model performance. Three common techniques for handling them are: (1) **Removal**, where extreme values are eliminated after careful analysis. (2) **Transformation**, applying log or square root functions to reduce their influence. (3) **Imputation or capping**, where outliers are replaced with mean, median, or capped at certain thresholds (e.g., IQR method). The choice depends on whether outliers are genuine anomalies or data collection errors.\n"
   ]
  },
  {
   "cell_type": "markdown",
   "id": "d1773d74",
   "metadata": {},
   "source": [
    "**Question 5: Explain the process of handling missing values and mention one imputation technique for numerical and one for categorical data.**\n",
    "\n",
    "**Answer:**  \n",
    "Handling missing values is essential to ensure dataset completeness and improve model performance. The process begins by identifying missing data, analyzing patterns, and deciding whether to drop or impute values. For **numerical data**, a common imputation technique is replacing missing values with the column mean or median, ensuring minimal bias. For **categorical data**, mode imputation (replacing with the most frequent category) is widely used. More advanced methods include KNN imputation or regression-based techniques. The method chosen depends on dataset size, importance of the feature, and whether the missingness is random or systematic.\n"
   ]
  },
  {
   "cell_type": "markdown",
   "id": "b24e000d",
   "metadata": {},
   "source": [
    "**Question 6: Write a Python program that:**  \n",
    "- Creates a synthetic imbalanced dataset with `make_classification()` from sklearn.datasets.  \n",
    "- Prints the class distribution.  \n",
    "\n",
    "**Answer (Code):**\n"
   ]
  },
  {
   "cell_type": "code",
   "execution_count": 7,
   "id": "79a4fc74-9259-4307-b1fe-0941c7d320cf",
   "metadata": {},
   "outputs": [
    {
     "name": "stdout",
     "output_type": "stream",
     "text": [
      "Requirement already satisfied: scikit-learn in c:\\users\\thinkpad\\appdata\\local\\programs\\python\\python313\\lib\\site-packages (1.7.2)\n",
      "Requirement already satisfied: numpy>=1.22.0 in c:\\users\\thinkpad\\appdata\\local\\programs\\python\\python313\\lib\\site-packages (from scikit-learn) (2.3.2)\n",
      "Requirement already satisfied: scipy>=1.8.0 in c:\\users\\thinkpad\\appdata\\local\\programs\\python\\python313\\lib\\site-packages (from scikit-learn) (1.16.1)\n",
      "Requirement already satisfied: joblib>=1.2.0 in c:\\users\\thinkpad\\appdata\\local\\programs\\python\\python313\\lib\\site-packages (from scikit-learn) (1.5.2)\n",
      "Requirement already satisfied: threadpoolctl>=3.1.0 in c:\\users\\thinkpad\\appdata\\local\\programs\\python\\python313\\lib\\site-packages (from scikit-learn) (3.6.0)\n"
     ]
    }
   ],
   "source": [
    "!pip install scikit-learn\n"
   ]
  },
  {
   "cell_type": "code",
   "execution_count": 8,
   "id": "ce660846",
   "metadata": {},
   "outputs": [
    {
     "name": "stdout",
     "output_type": "stream",
     "text": [
      "Class distribution: Counter({np.int64(0): 894, np.int64(1): 106})\n"
     ]
    }
   ],
   "source": [
    "from sklearn.datasets import make_classification\n",
    "import numpy as np\n",
    "from collections import Counter\n",
    "\n",
    "# Create imbalanced dataset\n",
    "X, y = make_classification(n_samples=1000, n_features=5, n_informative=3,\n",
    "                           n_redundant=0, n_classes=2, weights=[0.9, 0.1],\n",
    "                           random_state=42)\n",
    "\n",
    "# Print class distribution\n",
    "print(\"Class distribution:\", Counter(y))\n"
   ]
  },
  {
   "cell_type": "markdown",
   "id": "d81d8cf2",
   "metadata": {},
   "source": [
    "**Question 7: Implement one-hot encoding using pandas for the following list of colors:**  \n",
    "['Red', 'Green', 'Blue', 'Green', 'Red']  \n",
    "\n",
    "**Answer (Code):**\n"
   ]
  },
  {
   "cell_type": "code",
   "execution_count": 10,
   "id": "143cc3ad-f769-4363-a7be-719ed50c8fd9",
   "metadata": {},
   "outputs": [
    {
     "name": "stdout",
     "output_type": "stream",
     "text": [
      "Collecting pandas\n",
      "  Downloading pandas-2.3.2-cp313-cp313-win_amd64.whl.metadata (19 kB)\n",
      "Requirement already satisfied: numpy>=1.26.0 in c:\\users\\thinkpad\\appdata\\local\\programs\\python\\python313\\lib\\site-packages (from pandas) (2.3.2)\n",
      "Requirement already satisfied: python-dateutil>=2.8.2 in c:\\users\\thinkpad\\appdata\\local\\programs\\python\\python313\\lib\\site-packages (from pandas) (2.9.0.post0)\n",
      "Collecting pytz>=2020.1 (from pandas)\n",
      "  Downloading pytz-2025.2-py2.py3-none-any.whl.metadata (22 kB)\n",
      "Collecting tzdata>=2022.7 (from pandas)\n",
      "  Downloading tzdata-2025.2-py2.py3-none-any.whl.metadata (1.4 kB)\n",
      "Requirement already satisfied: six>=1.5 in c:\\users\\thinkpad\\appdata\\local\\programs\\python\\python313\\lib\\site-packages (from python-dateutil>=2.8.2->pandas) (1.17.0)\n",
      "Downloading pandas-2.3.2-cp313-cp313-win_amd64.whl (11.0 MB)\n",
      "   ---------------------------------------- 0.0/11.0 MB ? eta -:--:--\n",
      "    --------------------------------------- 0.3/11.0 MB ? eta -:--:--\n",
      "   - -------------------------------------- 0.5/11.0 MB 2.4 MB/s eta 0:00:05\n",
      "   --- ------------------------------------ 1.0/11.0 MB 1.8 MB/s eta 0:00:06\n",
      "   ----- ---------------------------------- 1.6/11.0 MB 2.0 MB/s eta 0:00:05\n",
      "   ------- -------------------------------- 2.1/11.0 MB 2.1 MB/s eta 0:00:05\n",
      "   --------- ------------------------------ 2.6/11.0 MB 2.2 MB/s eta 0:00:04\n",
      "   ----------- ---------------------------- 3.1/11.0 MB 2.3 MB/s eta 0:00:04\n",
      "   ------------- -------------------------- 3.7/11.0 MB 2.3 MB/s eta 0:00:04\n",
      "   --------------- ------------------------ 4.2/11.0 MB 2.3 MB/s eta 0:00:03\n",
      "   ----------------- ---------------------- 4.7/11.0 MB 2.3 MB/s eta 0:00:03\n",
      "   ------------------- -------------------- 5.2/11.0 MB 2.3 MB/s eta 0:00:03\n",
      "   --------------------- ------------------ 5.8/11.0 MB 2.3 MB/s eta 0:00:03\n",
      "   --------------------- ------------------ 6.0/11.0 MB 2.3 MB/s eta 0:00:03\n",
      "   ------------------------ --------------- 6.8/11.0 MB 2.3 MB/s eta 0:00:02\n",
      "   -------------------------- ------------- 7.3/11.0 MB 2.4 MB/s eta 0:00:02\n",
      "   ---------------------------- ----------- 7.9/11.0 MB 2.4 MB/s eta 0:00:02\n",
      "   ----------------------------- ---------- 8.1/11.0 MB 2.4 MB/s eta 0:00:02\n",
      "   ------------------------------- -------- 8.7/11.0 MB 2.3 MB/s eta 0:00:01\n",
      "   --------------------------------- ------ 9.2/11.0 MB 2.4 MB/s eta 0:00:01\n",
      "   ----------------------------------- ---- 9.7/11.0 MB 2.4 MB/s eta 0:00:01\n",
      "   ------------------------------------- -- 10.2/11.0 MB 2.4 MB/s eta 0:00:01\n",
      "   ---------------------------------------  10.7/11.0 MB 2.4 MB/s eta 0:00:01\n",
      "   ---------------------------------------- 11.0/11.0 MB 2.4 MB/s  0:00:04\n",
      "Downloading pytz-2025.2-py2.py3-none-any.whl (509 kB)\n",
      "Downloading tzdata-2025.2-py2.py3-none-any.whl (347 kB)\n",
      "Installing collected packages: pytz, tzdata, pandas\n",
      "\n",
      "   ---------------------------------------- 0/3 [pytz]\n",
      "   ---------------------------------------- 0/3 [pytz]\n",
      "   ---------------------------------------- 0/3 [pytz]\n",
      "   ---------------------------------------- 0/3 [pytz]\n",
      "   ------------- -------------------------- 1/3 [tzdata]\n",
      "   ------------- -------------------------- 1/3 [tzdata]\n",
      "   ------------- -------------------------- 1/3 [tzdata]\n",
      "   ------------- -------------------------- 1/3 [tzdata]\n",
      "   -------------------------- ------------- 2/3 [pandas]\n",
      "   -------------------------- ------------- 2/3 [pandas]\n",
      "   -------------------------- ------------- 2/3 [pandas]\n",
      "   -------------------------- ------------- 2/3 [pandas]\n",
      "   -------------------------- ------------- 2/3 [pandas]\n",
      "   -------------------------- ------------- 2/3 [pandas]\n",
      "   -------------------------- ------------- 2/3 [pandas]\n",
      "   -------------------------- ------------- 2/3 [pandas]\n",
      "   -------------------------- ------------- 2/3 [pandas]\n",
      "   -------------------------- ------------- 2/3 [pandas]\n",
      "   -------------------------- ------------- 2/3 [pandas]\n",
      "   -------------------------- ------------- 2/3 [pandas]\n",
      "   -------------------------- ------------- 2/3 [pandas]\n",
      "   -------------------------- ------------- 2/3 [pandas]\n",
      "   -------------------------- ------------- 2/3 [pandas]\n",
      "   -------------------------- ------------- 2/3 [pandas]\n",
      "   -------------------------- ------------- 2/3 [pandas]\n",
      "   -------------------------- ------------- 2/3 [pandas]\n",
      "   -------------------------- ------------- 2/3 [pandas]\n",
      "   -------------------------- ------------- 2/3 [pandas]\n",
      "   -------------------------- ------------- 2/3 [pandas]\n",
      "   -------------------------- ------------- 2/3 [pandas]\n",
      "   -------------------------- ------------- 2/3 [pandas]\n",
      "   -------------------------- ------------- 2/3 [pandas]\n",
      "   -------------------------- ------------- 2/3 [pandas]\n",
      "   -------------------------- ------------- 2/3 [pandas]\n",
      "   -------------------------- ------------- 2/3 [pandas]\n",
      "   -------------------------- ------------- 2/3 [pandas]\n",
      "   -------------------------- ------------- 2/3 [pandas]\n",
      "   -------------------------- ------------- 2/3 [pandas]\n",
      "   -------------------------- ------------- 2/3 [pandas]\n",
      "   -------------------------- ------------- 2/3 [pandas]\n",
      "   -------------------------- ------------- 2/3 [pandas]\n",
      "   -------------------------- ------------- 2/3 [pandas]\n",
      "   -------------------------- ------------- 2/3 [pandas]\n",
      "   -------------------------- ------------- 2/3 [pandas]\n",
      "   -------------------------- ------------- 2/3 [pandas]\n",
      "   -------------------------- ------------- 2/3 [pandas]\n",
      "   -------------------------- ------------- 2/3 [pandas]\n",
      "   -------------------------- ------------- 2/3 [pandas]\n",
      "   -------------------------- ------------- 2/3 [pandas]\n",
      "   -------------------------- ------------- 2/3 [pandas]\n",
      "   -------------------------- ------------- 2/3 [pandas]\n",
      "   -------------------------- ------------- 2/3 [pandas]\n",
      "   -------------------------- ------------- 2/3 [pandas]\n",
      "   -------------------------- ------------- 2/3 [pandas]\n",
      "   -------------------------- ------------- 2/3 [pandas]\n",
      "   -------------------------- ------------- 2/3 [pandas]\n",
      "   -------------------------- ------------- 2/3 [pandas]\n",
      "   -------------------------- ------------- 2/3 [pandas]\n",
      "   -------------------------- ------------- 2/3 [pandas]\n",
      "   -------------------------- ------------- 2/3 [pandas]\n",
      "   -------------------------- ------------- 2/3 [pandas]\n",
      "   -------------------------- ------------- 2/3 [pandas]\n",
      "   -------------------------- ------------- 2/3 [pandas]\n",
      "   -------------------------- ------------- 2/3 [pandas]\n",
      "   -------------------------- ------------- 2/3 [pandas]\n",
      "   -------------------------- ------------- 2/3 [pandas]\n",
      "   -------------------------- ------------- 2/3 [pandas]\n",
      "   -------------------------- ------------- 2/3 [pandas]\n",
      "   -------------------------- ------------- 2/3 [pandas]\n",
      "   -------------------------- ------------- 2/3 [pandas]\n",
      "   -------------------------- ------------- 2/3 [pandas]\n",
      "   -------------------------- ------------- 2/3 [pandas]\n",
      "   -------------------------- ------------- 2/3 [pandas]\n",
      "   -------------------------- ------------- 2/3 [pandas]\n",
      "   -------------------------- ------------- 2/3 [pandas]\n",
      "   -------------------------- ------------- 2/3 [pandas]\n",
      "   -------------------------- ------------- 2/3 [pandas]\n",
      "   -------------------------- ------------- 2/3 [pandas]\n",
      "   -------------------------- ------------- 2/3 [pandas]\n",
      "   ---------------------------------------- 3/3 [pandas]\n",
      "\n",
      "Successfully installed pandas-2.3.2 pytz-2025.2 tzdata-2025.2\n"
     ]
    }
   ],
   "source": [
    "!pip install pandas\n"
   ]
  },
  {
   "cell_type": "code",
   "execution_count": 11,
   "id": "3ed26da5",
   "metadata": {},
   "outputs": [
    {
     "name": "stdout",
     "output_type": "stream",
     "text": [
      "   Color_Blue  Color_Green  Color_Red\n",
      "0       False        False       True\n",
      "1       False         True      False\n",
      "2        True        False      False\n",
      "3       False         True      False\n",
      "4       False        False       True\n"
     ]
    }
   ],
   "source": [
    "import pandas as pd\n",
    "\n",
    "colors = ['Red', 'Green', 'Blue', 'Green', 'Red']\n",
    "df = pd.DataFrame(colors, columns=['Color'])\n",
    "\n",
    "# One-hot encoding\n",
    "encoded_df = pd.get_dummies(df, columns=['Color'])\n",
    "print(encoded_df)\n"
   ]
  },
  {
   "cell_type": "markdown",
   "id": "af7a2a39",
   "metadata": {},
   "source": [
    "**Question 8: Write a Python script to:**  \n",
    "- Generate 1000 samples from a normal distribution.  \n",
    "- Introduce 50 random missing values.  \n",
    "- Fill missing values with the column mean.  \n",
    "- Plot a histogram before and after imputation.  \n",
    "\n",
    "**Answer (Code):**\n"
   ]
  },
  {
   "cell_type": "code",
   "execution_count": 12,
   "id": "ff7a295e",
   "metadata": {},
   "outputs": [
    {
     "data": {
      "image/png": "[encoded data removed]",
      "text/plain": [
       "<Figure size 640x480 with 1 Axes>"
      ]
     },
     "metadata": {},
     "output_type": "display_data"
    },
    {
     "name": "stderr",
     "output_type": "stream",
     "text": [
      "C:\\Users\\ThinkPad\\AppData\\Local\\Temp\\ipykernel_16984\\4157357991.py:19: FutureWarning: A value is trying to be set on a copy of a DataFrame or Series through chained assignment using an inplace method.\n",
      "The behavior will change in pandas 3.0. This inplace method will never work because the intermediate object on which we are setting values always behaves as a copy.\n",
      "\n",
      "For example, when doing 'df[col].method(value, inplace=True)', try using 'df.method({col: value}, inplace=True)' or df[col] = df[col].method(value) instead, to perform the operation inplace on the original object.\n",
      "\n",
      "\n",
      "  df['Value'].fillna(df['Value'].mean(), inplace=True)\n"
     ]
    },
    {
     "data": {
      "image/png": "[encoded data removed]",
      "text/plain": [
       "<Figure size 640x480 with 1 Axes>"
      ]
     },
     "metadata": {},
     "output_type": "display_data"
    }
   ],
   "source": [
    "import numpy as np\n",
    "import pandas as pd\n",
    "import matplotlib.pyplot as plt\n",
    "\n",
    "# Generate normal distribution\n",
    "data = np.random.randn(1000)\n",
    "df = pd.DataFrame(data, columns=['Value'])\n",
    "\n",
    "# Introduce 50 missing values\n",
    "nan_indices = np.random.choice(df.index, 50, replace=False)\n",
    "df.loc[nan_indices, 'Value'] = np.nan\n",
    "\n",
    "# Plot before imputation\n",
    "df['Value'].hist(bins=30, alpha=0.5)\n",
    "plt.title(\"Before Imputation\")\n",
    "plt.show()\n",
    "\n",
    "# Impute with mean\n",
    "df['Value'].fillna(df['Value'].mean(), inplace=True)\n",
    "\n",
    "# Plot after imputation\n",
    "df['Value'].hist(bins=30, alpha=0.5, color='orange')\n",
    "plt.title(\"After Imputation\")\n",
    "plt.show()\n"
   ]
  },
  {
   "cell_type": "markdown",
   "id": "3cb606fe",
   "metadata": {},
   "source": [
    "**Question 9: Implement Min-Max scaling on the following list of numbers [2, 5, 10, 15, 20] using sklearn.preprocessing.MinMaxScaler. Print the scaled array.**  \n",
    "\n",
    "**Answer (Code):**\n"
   ]
  },
  {
   "cell_type": "code",
   "execution_count": 13,
   "id": "0049c195",
   "metadata": {},
   "outputs": [
    {
     "name": "stdout",
     "output_type": "stream",
     "text": [
      "Scaled Data: [0.         0.16666667 0.44444444 0.72222222 1.        ]\n"
     ]
    }
   ],
   "source": [
    "from sklearn.preprocessing import MinMaxScaler\n",
    "import numpy as np\n",
    "\n",
    "data = np.array([[2], [5], [10], [15], [20]])\n",
    "scaler = MinMaxScaler()\n",
    "scaled = scaler.fit_transform(data)\n",
    "\n",
    "print(\"Scaled Data:\", scaled.flatten())\n"
   ]
  },
  {
   "cell_type": "markdown",
   "id": "e16e4ed3",
   "metadata": {},
   "source": [
    "**Question 10: Data preparation plan for customer transaction dataset.**  \n",
    "\n",
    "**Answer :**  \n",
    "For missing ages, numerical imputation (mean/median) will be applied. For outliers in transaction amounts, techniques like IQR filtering or capping at percentile values will be used. To handle class imbalance (fraud vs. non-fraud), methods like SMOTE (oversampling) or class-weight adjustment will be applied. For categorical variables like payment method, encoding techniques such as one-hot encoding or label encoding will be used. The overall process includes: data cleaning, imputation, outlier handling, encoding, scaling, and resampling. This ensures data is balanced, complete, and suitable for training robust machine learning models.\n"
   ]
  },
  {
   "cell_type": "code",
   "execution_count": 15,
   "id": "05dfa30e-190f-4b64-87c8-9ca317835abf",
   "metadata": {},
   "outputs": [
    {
     "name": "stdout",
     "output_type": "stream",
     "text": [
      "Collecting imbalanced-learn\n",
      "  Downloading imbalanced_learn-0.14.0-py3-none-any.whl.metadata (8.8 kB)\n",
      "Requirement already satisfied: numpy<3,>=1.25.2 in c:\\users\\thinkpad\\appdata\\local\\programs\\python\\python313\\lib\\site-packages (from imbalanced-learn) (2.3.2)\n",
      "Requirement already satisfied: scipy<2,>=1.11.4 in c:\\users\\thinkpad\\appdata\\local\\programs\\python\\python313\\lib\\site-packages (from imbalanced-learn) (1.16.1)\n",
      "Requirement already satisfied: scikit-learn<2,>=1.4.2 in c:\\users\\thinkpad\\appdata\\local\\programs\\python\\python313\\lib\\site-packages (from imbalanced-learn) (1.7.2)\n",
      "Requirement already satisfied: joblib<2,>=1.2.0 in c:\\users\\thinkpad\\appdata\\local\\programs\\python\\python313\\lib\\site-packages (from imbalanced-learn) (1.5.2)\n",
      "Requirement already satisfied: threadpoolctl<4,>=2.0.0 in c:\\users\\thinkpad\\appdata\\local\\programs\\python\\python313\\lib\\site-packages (from imbalanced-learn) (3.6.0)\n",
      "Downloading imbalanced_learn-0.14.0-py3-none-any.whl (239 kB)\n",
      "Installing collected packages: imbalanced-learn\n",
      "Successfully installed imbalanced-learn-0.14.0\n"
     ]
    }
   ],
   "source": [
    "!pip install imbalanced-learn\n"
   ]
  },
  {
   "cell_type": "code",
   "execution_count": 19,
   "id": "6605e8b2-b00c-44cf-9aef-05307e3420a1",
   "metadata": {},
   "outputs": [
    {
     "name": "stdout",
     "output_type": "stream",
     "text": [
      "Resampled class distribution: {0: np.int64(3), 1: np.int64(3)}\n"
     ]
    }
   ],
   "source": [
    "import pandas as pd\n",
    "from sklearn.impute import SimpleImputer\n",
    "from sklearn.preprocessing import OneHotEncoder\n",
    "from imblearn.over_sampling import SMOTE\n",
    "\n",
    "# Example structure\n",
    "data = pd.DataFrame({\n",
    "    'Age': [25, None, 40, None, 30],\n",
    "    'TransactionAmount': [100, 5000, 120, 80, 7000],\n",
    "    'PaymentMethod': ['Card', 'Cash', 'Card', 'UPI', 'Cash'],\n",
    "    'Fraud': [0, 1, 0, 0, 1]\n",
    "})\n",
    "\n",
    "# Impute missing ages\n",
    "imputer = SimpleImputer(strategy='mean')\n",
    "data['Age'] = imputer.fit_transform(data[['Age']])\n",
    "\n",
    "# Handle outliers (capping)\n",
    "data['TransactionAmount'] = data['TransactionAmount'].clip(\n",
    "    upper=data['TransactionAmount'].quantile(0.95)\n",
    ")\n",
    "\n",
    "# Encode categorical variable\n",
    "encoder = OneHotEncoder(sparse_output=False)\n",
    "encoded = encoder.fit_transform(data[['PaymentMethod']])\n",
    "encoded_df = pd.DataFrame(encoded, columns=encoder.get_feature_names_out())\n",
    "\n",
    "# Combine\n",
    "final_df = pd.concat([data.drop('PaymentMethod', axis=1), encoded_df], axis=1)\n",
    "\n",
    "# Balance dataset using SMOTE (adjust neighbors because dataset is tiny)\n",
    "X, y = final_df.drop('Fraud', axis=1), final_df['Fraud']\n",
    "smote = SMOTE(random_state=42, k_neighbors=1)  # ✅ fixed\n",
    "X_res, y_res = smote.fit_resample(X, y)\n",
    "\n",
    "print(\"Resampled class distribution:\", dict(pd.Series(y_res).value_counts()))\n"
   ]
  },
  {
   "cell_type": "code",
   "execution_count": null,
   "id": "e4305ec1-b31a-4ca9-9fd4-8b71da2725c3",
   "metadata": {},
   "outputs": [],
   "source": []
  }
 ],
 "metadata": {
  "kernelspec": {
   "display_name": "Python 3 (ipykernel)",
   "language": "python",
   "name": "python3"
  },
  "language_info": {
   "codemirror_mode": {
    "name": "ipython",
    "version": 3
   },
   "file_extension": ".py",
   "mimetype": "text/x-python",
   "name": "python",
   "nbconvert_exporter": "python",
   "pygments_lexer": "ipython3",
   "version": "3.13.7"
  }
 },
 "nbformat": 4,
 "nbformat_minor": 5
}
