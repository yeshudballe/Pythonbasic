{
  "nbformat": 4,
  "nbformat_minor": 0,
  "metadata": {
    "colab": {
      "provenance": []
    },
    "kernelspec": {
      "name": "python3",
      "display_name": "Python 3"
    },
    "language_info": {
      "name": "python"
    }
  },
  "cells": [
    {
      "cell_type": "markdown",
      "source": [
        "1. What are data structures, and why are they important?\n",
        "  - Data structures are organized formats for storing and managing data efficiently. Examples include lists, arrays, stacks, queues, trees, and dictionaries. They allow efficient data access, modification, and storage. Choosing the right data structure improves algorithm performance and resource use. For example, a queue is best for handling real-time tasks like customer service systems. Data structures help reduce time and space complexity and make code easier to maintain and understand. In programming, especially in large applications, they are crucial for organizing data logically to improve speed, scalability, and memory management.\n",
        "\n",
        "2. Explain the difference between mutable and immutable data types with examples.\n",
        "  - Mutable data types can be changed after creation, while immutable types cannot. For example, Python lists are mutable—you can add or remove elements (list.append(1)). Tuples are immutable—once created, they cannot be altered. Strings in Python are also immutable; any modification results in a new string being created. Mutability affects how variables behave in functions—mutable types can be changed in-place, while immutable ones remain unchanged. This distinction is important in preventing unintended side effects and managing memory efficiently. Choosing the correct type helps control data integrity and program behavior.\n",
        "\n",
        "3. What are the main differences between lists and tuples in Python?\n",
        "  - Lists and tuples are both used to store collections, but they differ in mutability and performance. Lists are mutable—you can change, add, or delete elements. Tuples are immutable—once created, their elements cannot be modified. Lists use more memory and are slower than tuples for iteration. Tuples can be used as dictionary keys because they are hashable, while lists cannot. If you want to ensure that a sequence of values remains constant, use a tuple. If you need to change values frequently, use a list. Both can hold mixed data types.\n",
        "\n",
        "4. Describe how dictionaries store data.\n",
        "  - Dictionaries in Python store data as key-value pairs within curly braces ({}). Each key is unique and maps to a specific value, allowing fast access using the key (dict[\"key\"]). Internally, Python dictionaries use hash tables, which convert keys into hash codes to determine where values are stored. This allows average-case constant time complexity (O(1)) for lookups, insertions, and deletions. Keys must be immutable types like strings, numbers, or tuples. Dictionaries are useful for associating related data, such as storing a person's name, age, and address together in a single structure.\n",
        "\n",
        "5. Why might you use a set instead of a list in Python?\n",
        "  - Sets are used when you want to store unique items and don’t care about order. Unlike lists, sets automatically eliminate duplicates and offer faster lookup times due to their underlying hash table implementation. For example, converting a list to a set removes repeated values (set([1, 2, 2, 3]) → {1, 2, 3}). Sets are also useful for mathematical operations like union, intersection, and difference. They provide better performance for membership testing (in) and are ideal when your goal is fast, unordered, and unique data collection.\n",
        "\n",
        "6. What is a string in Python, and how is it different from a list?\n",
        "  - A string is an immutable sequence of characters, used to store and manipulate text. It’s enclosed in quotes like \"hello\". A list, however, is a mutable sequence that can store various data types including strings. You can modify a list’s elements (list[0] = 5), but you can’t change individual characters of a string. Strings are optimized for text operations, while lists are general-purpose collections. Both support indexing, slicing, and iteration. Strings consume less memory than lists and are more efficient for fixed textual data.\n",
        "\n",
        "7. How do tuples ensure data integrity in Python?\n",
        "  - Tuples are immutable, meaning their contents cannot be altered once created. This immutability ensures data remains unchanged, preventing accidental modification. Tuples are useful for storing data that should be constant, like coordinates or RGB color codes. Since they cannot be modified, they are safer to use in environments where data must be protected, such as function defaults or dictionary keys. Tuples also provide performance benefits and can be used to create read-only records that enforce data integrity by design.\n",
        "\n",
        "8. What is a hash table, and how does it relate to dictionaries in Python?\n",
        "  - A hash table is a data structure that maps keys to values using a hashing function. Python dictionaries are built on hash tables. When you insert a key-value pair into a dictionary, Python calculates the key’s hash code and stores the value at the computed location. This allows constant time complexity (O(1)) for lookup, insert, and delete operations in most cases. Hash tables help manage data efficiently by ensuring quick access to values based on keys, and keys must be immutable so their hash remains consistent.\n",
        "\n",
        "9. Can lists contain different data types in Python?\n",
        "  - Yes, Python lists are heterogeneous, meaning they can contain elements of different data types in the same list. For example, a list can include integers, strings, floats, and even other lists or objects ([1, \"apple\", 3.14, [2, 3]]). This flexibility makes lists highly versatile for storing diverse datasets. However, this can also lead to complexity in operations if type consistency is needed. Type checking or filtering is often required when performing mathematical or logical operations across such mixed lists.\n",
        "\n",
        "10. Explain why strings are immutable in Python.\n",
        "  - Strings in Python are immutable to ensure data security, efficient memory usage, and hashability. Once a string is created, its content cannot be changed. Any operation that seems to modify a string actually returns a new string object. This design choice helps Python optimize performance, especially in situations where strings are reused (like in loops or keys in dictionaries). It also prevents accidental modifications and makes strings safe for multithreaded programs. Immutability ensures reliability when strings are shared across different parts of code.\n",
        "\n",
        "11. What advantages do dictionaries offer over lists for certain tasks?\n",
        "  - Dictionaries offer key-based access, making them ideal for fast lookups and organized storage. While lists require linear searching (O(n)) to find an element, dictionaries provide constant-time access (O(1)) using keys. They are especially useful for storing labeled data, like a person's name, age, and location. Dictionaries also make code more readable and manageable when dealing with structured data. For example, accessing student[\"marks\"] is more intuitive than using indexed values in a list. They also eliminate the need to remember index positions.\n",
        "\n",
        "12. Describe a scenario where using a tuple would be preferable over a list.\n",
        "  - Tuples are preferable when you need to store fixed, unchangeable data. For example, if you want to store the coordinates of a point in a 2D space (like (x, y)), using a tuple ensures they remain unchanged. Tuples are also better for performance in read-only operations and can be used as keys in dictionaries, unlike lists. They are commonly used in functions to return multiple values and in settings where immutability ensures data integrity.\n",
        "\n",
        "13. How do sets handle duplicate values in Python?\n",
        "  - Sets in Python automatically remove duplicates when elements are added. For example, set([1, 2, 2, 3]) becomes {1, 2, 3}. Internally, sets use a hash table, where each element must have a unique hash. When a duplicate is inserted, the set detects the match and skips it. This makes sets ideal for filtering duplicates from lists, performing membership tests, and executing set operations like union, intersection, and difference efficiently.\n",
        "\n",
        "14. How does the “in” keyword work differently for lists and dictionaries?\n",
        "  - In lists, the in keyword checks if a value exists among the elements (3 in [1, 2, 3] → True). In dictionaries, in checks for the presence of a key, not a value ('name' in {'name': 'Alice'} → True, but 'Alice' in dict → False). This distinction is important when performing lookups or conditional checks. The operation is faster in dictionaries due to hashing, while in lists it takes linear time because every element must be compared.\n",
        "\n",
        "15. Can you modify the elements of a tuple? Explain why or why not.\n",
        "  - No, you cannot modify elements of a tuple because tuples are immutable. Once created, the items inside a tuple cannot be changed, added to, or removed. This immutability is intentional to protect data from accidental changes and to allow tuples to be used as dictionary keys or elements of sets. If you need a modifiable collection, a list should be used instead. Trying to assign a new value to a tuple element will result in a TypeError.\n",
        "\n",
        "16. What is a nested dictionary, and give an example of its use case.\n",
        "  - A nested dictionary is a dictionary that contains another dictionary as a value. This allows for storing hierarchical or grouped data. For example:\n",
        "      student = {\"name\": \"Alice\", \"marks\": {\"math\": 90, \"science\": 95}}  \n",
        "      This structure is useful in applications like storing details of multiple students, each having their own records, or representing JSON-like data structures. It allows easy access to deeply structured data using multiple keys.\n",
        "\n",
        "17. Describe the time complexity of accessing elements in a dictionary.\n",
        "  - The average-case time complexity for accessing elements in a dictionary is O(1), thanks to Python’s hash table implementation. The key is hashed, and the hash is used to compute the index where the value is stored. However, in rare cases with many hash collisions, access time can degrade to O(n). Still, dictionaries are generally very efficient for lookups, updates, and deletions, making them ideal for large datasets where speed is critical.\n",
        "\n",
        "18. In what situations are lists preferred over dictionaries?\n",
        "  - Lists are preferred when data order matters, and sequential access is needed. They’re ideal for iterating over elements, storing duplicates, or managing collections without key-value pairs, such as a queue of tasks or list of scores. Lists consume less memory than dictionaries and are simpler when you don’t need to associate values with specific labels. Also, when you want to maintain insertion order and use indexing (like accessing the third item), lists are the better choice.\n",
        "\n",
        "19. Why are dictionaries considered unordered, and how does that affect data retrieval?\n",
        "  - Historically, dictionaries were unordered—meaning their items didn’t maintain insertion order. However, from Python 3.7+, dictionaries preserve insertion order, but are still conceptually considered unordered in design since retrieval is done using keys, not position. Unlike lists, you can’t rely on index-based access. This affects scenarios where order is essential, like sorting or iteration by position. Retrieval in dictionaries depends solely on the key, making them ideal for fast lookups but not for ordered traversal.\n",
        "\n",
        "20. Explain the difference between a list and a dictionary in terms of data retrieval.\n",
        "  - Lists retrieve data using index positions, while dictionaries retrieve data using keys. For example, in a list: list[0] gives the first item, while in a dictionary: dict[\"name\"] gives the value associated with \"name\". Lists are good when order matters, and you access elements by position. Dictionaries are better for labeled data and offer faster lookups using keys. In large datasets, dictionary lookups are typically more efficient due to hash-based access.\n",
        "\n",
        "\n",
        "\n",
        "\n"
      ],
      "metadata": {
        "id": "0co-rXQF9u63"
      }
    },
    {
      "cell_type": "code",
      "execution_count": 2,
      "metadata": {
        "id": "Op8Ijgj79haE",
        "colab": {
          "base_uri": "https://localhost:8080/"
        },
        "outputId": "99376222-9cba-4a81-f793-1e26b49b3a99"
      },
      "outputs": [
        {
          "output_type": "stream",
          "name": "stdout",
          "text": [
            "Varun\n"
          ]
        }
      ],
      "source": [
        "# 1.Write a code to create a string with your name and print it.\n",
        "str1 = \"Varun\"\n",
        "print(str1)"
      ]
    },
    {
      "cell_type": "code",
      "source": [
        "# 2.Write a code to find the length of the string \"Hello World\".\n",
        "len(\"Hello World\")"
      ],
      "metadata": {
        "colab": {
          "base_uri": "https://localhost:8080/"
        },
        "id": "APWwhTelDzWz",
        "outputId": "3f42664b-660c-459c-f77a-75b9a2c6e721"
      },
      "execution_count": 4,
      "outputs": [
        {
          "output_type": "execute_result",
          "data": {
            "text/plain": [
              "11"
            ]
          },
          "metadata": {},
          "execution_count": 4
        }
      ]
    },
    {
      "cell_type": "code",
      "source": [
        "# 3.Write a code to slice the first 3 characters from the string \"Python Programming\".\n",
        "a = \"Python Programming\"\n",
        "a[:3]"
      ],
      "metadata": {
        "colab": {
          "base_uri": "https://localhost:8080/",
          "height": 35
        },
        "id": "O14mechnEVns",
        "outputId": "2e2b8c9e-0682-4ce8-ea51-a02e1da50fe4"
      },
      "execution_count": 10,
      "outputs": [
        {
          "output_type": "execute_result",
          "data": {
            "text/plain": [
              "'Pyt'"
            ],
            "application/vnd.google.colaboratory.intrinsic+json": {
              "type": "string"
            }
          },
          "metadata": {},
          "execution_count": 10
        }
      ]
    },
    {
      "cell_type": "code",
      "source": [
        "# 4.Write a code to convert the string \"hello\" to uppercase.\n",
        "a = \"hello\"\n",
        "b = a.upper()\n",
        "print(b)"
      ],
      "metadata": {
        "colab": {
          "base_uri": "https://localhost:8080/"
        },
        "id": "q0yRasn4FbOw",
        "outputId": "3662692b-0b66-4914-a268-0750022f0382"
      },
      "execution_count": 15,
      "outputs": [
        {
          "output_type": "stream",
          "name": "stdout",
          "text": [
            "HELLO\n"
          ]
        }
      ]
    },
    {
      "cell_type": "code",
      "source": [
        "# 5.Write a code to replace the word \"apple\" with \"orange\" in the string \"I like apple\".\n",
        "s = \"I like apple\"\n",
        "s.replace(\"apple\",\"orange\")"
      ],
      "metadata": {
        "colab": {
          "base_uri": "https://localhost:8080/",
          "height": 35
        },
        "id": "LJYtX70EF18k",
        "outputId": "ceabd6bb-0ee2-406c-b9e1-0bff032a550c"
      },
      "execution_count": 16,
      "outputs": [
        {
          "output_type": "execute_result",
          "data": {
            "text/plain": [
              "'I like orange'"
            ],
            "application/vnd.google.colaboratory.intrinsic+json": {
              "type": "string"
            }
          },
          "metadata": {},
          "execution_count": 16
        }
      ]
    },
    {
      "cell_type": "code",
      "source": [
        "# 6.Write a code to create a list with numbers 1 to 5 and print it.\n",
        "list1 = [1,2,3,4,5]\n",
        "print(list1)"
      ],
      "metadata": {
        "colab": {
          "base_uri": "https://localhost:8080/"
        },
        "id": "ysvj3eqgGm64",
        "outputId": "2317ac20-4bab-4fab-a939-14b5f6c697a2"
      },
      "execution_count": 17,
      "outputs": [
        {
          "output_type": "stream",
          "name": "stdout",
          "text": [
            "[1, 2, 3, 4, 5]\n"
          ]
        }
      ]
    },
    {
      "cell_type": "code",
      "source": [
        "# 7.Write a code to append the number 10 to the list [1, 2, 3, 4].\n",
        "l = [1,2,3,4]\n",
        "l.append(10)\n",
        "l\n"
      ],
      "metadata": {
        "colab": {
          "base_uri": "https://localhost:8080/"
        },
        "id": "GwvacKlRHWGb",
        "outputId": "5eaefafa-1318-40ac-ac04-64d1940541f7"
      },
      "execution_count": 20,
      "outputs": [
        {
          "output_type": "execute_result",
          "data": {
            "text/plain": [
              "[1, 2, 3, 4, 10]"
            ]
          },
          "metadata": {},
          "execution_count": 20
        }
      ]
    },
    {
      "cell_type": "code",
      "source": [
        "# 8.Write a code to remove the number 3 from the list [1, 2, 3, 4, 5].\n",
        "l = [1,2,3,4,5]\n",
        "l.remove(3)\n",
        "l\n"
      ],
      "metadata": {
        "colab": {
          "base_uri": "https://localhost:8080/"
        },
        "id": "lx0oVS_0HrBk",
        "outputId": "85d86ddf-3f09-4221-d710-23f326f4b28a"
      },
      "execution_count": 21,
      "outputs": [
        {
          "output_type": "execute_result",
          "data": {
            "text/plain": [
              "[1, 2, 4, 5]"
            ]
          },
          "metadata": {},
          "execution_count": 21
        }
      ]
    },
    {
      "cell_type": "code",
      "source": [
        "# 9.Write a code to access the second element in the list ['a', 'b', 'c', 'd'].\n",
        "l = ['a','b','c','d']\n",
        "print(l[1])"
      ],
      "metadata": {
        "colab": {
          "base_uri": "https://localhost:8080/"
        },
        "id": "ftwAiANPIXIv",
        "outputId": "efbba791-0793-4886-9a25-13c8a0f0e6cd"
      },
      "execution_count": 22,
      "outputs": [
        {
          "output_type": "stream",
          "name": "stdout",
          "text": [
            "b\n"
          ]
        }
      ]
    },
    {
      "cell_type": "code",
      "source": [
        "# 10.Write a code to reverse the list [10, 20, 30, 40, 50].\n",
        "l = [10,20,30,40,50]\n",
        "l[::-1]"
      ],
      "metadata": {
        "colab": {
          "base_uri": "https://localhost:8080/"
        },
        "id": "RtkCCoL8I5fA",
        "outputId": "e2c6d65e-d790-420a-9905-4febe4bf779e"
      },
      "execution_count": 23,
      "outputs": [
        {
          "output_type": "execute_result",
          "data": {
            "text/plain": [
              "[50, 40, 30, 20, 10]"
            ]
          },
          "metadata": {},
          "execution_count": 23
        }
      ]
    },
    {
      "cell_type": "code",
      "source": [
        "# 11. Write a code to create a tuple with the elements 100, 200, 300 and print it.\n",
        "my_tuple = (100, 200, 300)\n",
        "print(my_tuple)\n"
      ],
      "metadata": {
        "colab": {
          "base_uri": "https://localhost:8080/"
        },
        "id": "VCd0ErkdKnSU",
        "outputId": "3449f828-b420-4adc-8e13-5db2e23e715d"
      },
      "execution_count": 24,
      "outputs": [
        {
          "output_type": "stream",
          "name": "stdout",
          "text": [
            "(100, 200, 300)\n"
          ]
        }
      ]
    },
    {
      "cell_type": "code",
      "source": [
        "# 12. Write a code to access the second-to-last element of the tuple ('red', 'green', 'blue', 'yellow').\n",
        "colors = ('red', 'green', 'blue', 'yellow')\n",
        "print(colors[-2])\n"
      ],
      "metadata": {
        "colab": {
          "base_uri": "https://localhost:8080/"
        },
        "id": "MeTAXTXCM2uG",
        "outputId": "8f858b1c-2cad-4e79-a283-0fccc76d4475"
      },
      "execution_count": 25,
      "outputs": [
        {
          "output_type": "stream",
          "name": "stdout",
          "text": [
            "blue\n"
          ]
        }
      ]
    },
    {
      "cell_type": "code",
      "source": [
        "# 13.Write a code to find the minimum number in the tuple (10, 20, 5, 15).\n",
        "numbers = (10, 20, 5, 15)\n",
        "print(min(numbers))\n"
      ],
      "metadata": {
        "colab": {
          "base_uri": "https://localhost:8080/"
        },
        "id": "jbvQ8AMVNPjx",
        "outputId": "feadc08f-8dc2-42a9-da9c-7e2446972fae"
      },
      "execution_count": 26,
      "outputs": [
        {
          "output_type": "stream",
          "name": "stdout",
          "text": [
            "5\n"
          ]
        }
      ]
    },
    {
      "cell_type": "code",
      "source": [
        "# 14.Write a code to find the index of the element \"cat\" in the tuple ('dog', 'cat', 'rabbit').\n",
        "animals = ('dog', 'cat', 'rabbit')\n",
        "print(animals.index('cat'))\n"
      ],
      "metadata": {
        "colab": {
          "base_uri": "https://localhost:8080/"
        },
        "id": "k0sn8JBdNZ6u",
        "outputId": "626f21ce-fad9-41e3-c86c-45b10bc63261"
      },
      "execution_count": 27,
      "outputs": [
        {
          "output_type": "stream",
          "name": "stdout",
          "text": [
            "1\n"
          ]
        }
      ]
    },
    {
      "cell_type": "code",
      "source": [
        "# 15.Write a code to create a tuple containing three different fruits and check if \"kiwi\" is in it.\n",
        "fruits = ('apple', 'banana', 'mango')\n",
        "print(\"kiwi\" in fruits)\n"
      ],
      "metadata": {
        "colab": {
          "base_uri": "https://localhost:8080/"
        },
        "id": "DhTDUCGKNl3G",
        "outputId": "f0019f99-acfe-4444-e47f-373452e11519"
      },
      "execution_count": 28,
      "outputs": [
        {
          "output_type": "stream",
          "name": "stdout",
          "text": [
            "False\n"
          ]
        }
      ]
    },
    {
      "cell_type": "code",
      "source": [
        "# 16.Write a code to create a set with the elements 'a', 'b', 'c' and print it.\n",
        "set1 = {'a','b','c'}\n",
        "print(set1)\n"
      ],
      "metadata": {
        "colab": {
          "base_uri": "https://localhost:8080/"
        },
        "id": "isDBmf4rNyRz",
        "outputId": "94bb5a5a-8ead-4bb9-997a-9fc543790864"
      },
      "execution_count": 29,
      "outputs": [
        {
          "output_type": "stream",
          "name": "stdout",
          "text": [
            "{'b', 'c', 'a'}\n"
          ]
        }
      ]
    },
    {
      "cell_type": "code",
      "source": [
        "# 17.Write a code to clear all elements from the set {1, 2, 3, 4, 5}.\n",
        "my_set = {1, 2, 3, 4, 5}\n",
        "my_set.clear()\n",
        "my_set\n"
      ],
      "metadata": {
        "colab": {
          "base_uri": "https://localhost:8080/"
        },
        "id": "kE2WrxY4OQJO",
        "outputId": "9d5a40e6-4b3c-43db-8e36-339882cd2561"
      },
      "execution_count": 31,
      "outputs": [
        {
          "output_type": "execute_result",
          "data": {
            "text/plain": [
              "set()"
            ]
          },
          "metadata": {},
          "execution_count": 31
        }
      ]
    },
    {
      "cell_type": "code",
      "source": [
        "# 18.Write a code to remove the element 4 from the set {1, 2, 3, 4}.\n",
        "my_set = {1, 2, 3, 4}\n",
        "my_set.remove(4)\n",
        "print(my_set)\n"
      ],
      "metadata": {
        "colab": {
          "base_uri": "https://localhost:8080/"
        },
        "id": "v4PNIXZKOjXp",
        "outputId": "39341d29-d374-4db0-8d7d-f4ca019ac39c"
      },
      "execution_count": 32,
      "outputs": [
        {
          "output_type": "stream",
          "name": "stdout",
          "text": [
            "{1, 2, 3}\n"
          ]
        }
      ]
    },
    {
      "cell_type": "code",
      "source": [
        "# 19.Write a code to find the union of two sets {1, 2, 3} and {3, 4, 5}.\n",
        "set1 = {1, 2, 3}\n",
        "set2 = {3, 4, 5}\n",
        "union_set = set1 | set2\n",
        "print(union_set)\n"
      ],
      "metadata": {
        "colab": {
          "base_uri": "https://localhost:8080/"
        },
        "id": "TBLQM7MOO3-Y",
        "outputId": "5d6d0a25-a17a-4392-96b8-850cbc0d81f2"
      },
      "execution_count": 33,
      "outputs": [
        {
          "output_type": "stream",
          "name": "stdout",
          "text": [
            "{1, 2, 3, 4, 5}\n"
          ]
        }
      ]
    },
    {
      "cell_type": "code",
      "source": [
        "# 20.Write a code to find the intersection of two sets {1, 2, 3} and {2, 3, 4}.\n",
        "set1 = {1, 2, 3}\n",
        "set2 = {2, 3, 4}\n",
        "intersection_set = set1 & set2\n",
        "print(intersection_set)\n"
      ],
      "metadata": {
        "colab": {
          "base_uri": "https://localhost:8080/"
        },
        "id": "YV_gooUOPIfv",
        "outputId": "7277c4e5-afd3-4ce6-e855-341695213810"
      },
      "execution_count": 34,
      "outputs": [
        {
          "output_type": "stream",
          "name": "stdout",
          "text": [
            "{2, 3}\n"
          ]
        }
      ]
    },
    {
      "cell_type": "code",
      "source": [
        "# 21. Write a code to create a dictionary with the keys \"name\", \"age\", and \"city\", and print it.\n",
        "my_dict = {\"name\": \"Alice\", \"age\": 25, \"city\": \"Mumbai\"}\n",
        "print(my_dict)\n"
      ],
      "metadata": {
        "colab": {
          "base_uri": "https://localhost:8080/"
        },
        "id": "NWBAaCKwPT-S",
        "outputId": "825e9421-d393-4189-c8e7-10798fe24c9a"
      },
      "execution_count": 35,
      "outputs": [
        {
          "output_type": "stream",
          "name": "stdout",
          "text": [
            "{'name': 'Alice', 'age': 25, 'city': 'Mumbai'}\n"
          ]
        }
      ]
    },
    {
      "cell_type": "code",
      "source": [
        "# 22. Write a code to add a new key-value pair \"country\": \"USA\" to the dictionary {'name': 'John', 'age': 25}.\n",
        "person = {'name': 'John', 'age': 25}\n",
        "person['country'] = 'USA'\n",
        "print(person)\n"
      ],
      "metadata": {
        "colab": {
          "base_uri": "https://localhost:8080/"
        },
        "id": "k6BDhd-wQz6Y",
        "outputId": "f1c2b4db-7abb-4b9b-b800-6977eb98ee67"
      },
      "execution_count": 36,
      "outputs": [
        {
          "output_type": "stream",
          "name": "stdout",
          "text": [
            "{'name': 'John', 'age': 25, 'country': 'USA'}\n"
          ]
        }
      ]
    },
    {
      "cell_type": "code",
      "source": [
        "# 23. Write a code to access the value associated with the key \"name\" in the dictionary {'name': 'Alice', 'age': 30}.\n",
        "person = {'name': 'Alice', 'age': 30}\n",
        "print(person['name'])\n"
      ],
      "metadata": {
        "colab": {
          "base_uri": "https://localhost:8080/"
        },
        "id": "Eha7HE6tRpR-",
        "outputId": "ac0a22d5-6adf-4b53-98bb-1b13b49924a2"
      },
      "execution_count": 37,
      "outputs": [
        {
          "output_type": "stream",
          "name": "stdout",
          "text": [
            "Alice\n"
          ]
        }
      ]
    },
    {
      "cell_type": "code",
      "source": [
        "# 24.Write a code to remove the key \"age\" from the dictionary {'name': 'Bob', 'age': 22, 'city': 'New York'}.\n",
        "person = {'name': 'Bob', 'age': 22, 'city': 'New York'}\n",
        "del person['age']\n",
        "print(person)\n"
      ],
      "metadata": {
        "colab": {
          "base_uri": "https://localhost:8080/"
        },
        "id": "gMvR6-MAR0xV",
        "outputId": "01c84cae-7bab-4652-cae4-001c756c07e1"
      },
      "execution_count": 38,
      "outputs": [
        {
          "output_type": "stream",
          "name": "stdout",
          "text": [
            "{'name': 'Bob', 'city': 'New York'}\n"
          ]
        }
      ]
    },
    {
      "cell_type": "code",
      "source": [
        "# 25.Write a code to check if the key \"city\" exists in the dictionary {'name': 'Alice', 'city': 'Paris'}.\n",
        "person = {'name': 'Alice', 'city': 'Paris'}\n",
        "print('city' in person)\n"
      ],
      "metadata": {
        "colab": {
          "base_uri": "https://localhost:8080/"
        },
        "id": "7NzOeUsmR-cv",
        "outputId": "7379f7de-9095-48ec-b38a-90190a0ead88"
      },
      "execution_count": 39,
      "outputs": [
        {
          "output_type": "stream",
          "name": "stdout",
          "text": [
            "True\n"
          ]
        }
      ]
    },
    {
      "cell_type": "code",
      "source": [
        "# 26.Write a code to create a list, a tuple, and a dictionary, and print them all.\n",
        "my_list = [1, 2, 3]\n",
        "my_tuple = (4, 5, 6)\n",
        "my_dict = {\"a\": 10, \"b\": 20}\n",
        "print(my_list)\n",
        "print(my_tuple)\n",
        "print(my_dict)\n"
      ],
      "metadata": {
        "colab": {
          "base_uri": "https://localhost:8080/"
        },
        "id": "Em3W0P9zSMe2",
        "outputId": "3df4a3bf-f7b7-44e4-94ca-4f4548112e5a"
      },
      "execution_count": 40,
      "outputs": [
        {
          "output_type": "stream",
          "name": "stdout",
          "text": [
            "[1, 2, 3]\n",
            "(4, 5, 6)\n",
            "{'a': 10, 'b': 20}\n"
          ]
        }
      ]
    },
    {
      "cell_type": "code",
      "source": [
        "# 27. Write a code to create a list of 5 random numbers between 1 and 100, sort it in ascending order, and print the result.\n",
        "import random\n",
        "numbers = [random.randint(1, 100) for i in range(5)]\n",
        "numbers.sort()\n",
        "print(numbers)\n"
      ],
      "metadata": {
        "colab": {
          "base_uri": "https://localhost:8080/"
        },
        "id": "Iczy6bWGSdFe",
        "outputId": "a9b924cc-12dc-420e-9584-6fd986421a85"
      },
      "execution_count": 41,
      "outputs": [
        {
          "output_type": "stream",
          "name": "stdout",
          "text": [
            "[18, 62, 72, 97, 99]\n"
          ]
        }
      ]
    },
    {
      "cell_type": "code",
      "source": [
        "# 28. Write a code to create a list with strings and print the element at the third index.\n",
        "words = [\"apple\", \"banana\", \"cherry\", \"date\", \"kiwi\"]\n",
        "print(words[3])\n"
      ],
      "metadata": {
        "colab": {
          "base_uri": "https://localhost:8080/"
        },
        "id": "p7FrNVLESxnq",
        "outputId": "5a45ecc9-6c3e-45b0-fef6-18499fea9251"
      },
      "execution_count": 42,
      "outputs": [
        {
          "output_type": "stream",
          "name": "stdout",
          "text": [
            "date\n"
          ]
        }
      ]
    },
    {
      "cell_type": "code",
      "source": [
        "# 29.Write a code to combine two dictionaries into one and print the result.\n",
        "dict1 = {\"a\": 1, \"b\": 2}\n",
        "dict2 = {\"c\": 3, \"d\": 4}\n",
        "combined = {**dict1, **dict2}\n",
        "print(combined)\n"
      ],
      "metadata": {
        "colab": {
          "base_uri": "https://localhost:8080/"
        },
        "id": "zgjbqJikTH5R",
        "outputId": "e79d6b22-ebc8-4ded-a4a5-4e8dc828de1c"
      },
      "execution_count": 43,
      "outputs": [
        {
          "output_type": "stream",
          "name": "stdout",
          "text": [
            "{'a': 1, 'b': 2, 'c': 3, 'd': 4}\n"
          ]
        }
      ]
    },
    {
      "cell_type": "code",
      "source": [
        "# 30.Write a code to convert a list of strings into a set.\n",
        "fruits = [\"apple\", \"banana\", \"apple\", \"orange\"]\n",
        "fruit_set = set(fruits)\n",
        "print(fruit_set)\n"
      ],
      "metadata": {
        "colab": {
          "base_uri": "https://localhost:8080/"
        },
        "id": "7fn9SEKwTTqW",
        "outputId": "128cbf3f-be68-475c-c833-21d331679054"
      },
      "execution_count": 44,
      "outputs": [
        {
          "output_type": "stream",
          "name": "stdout",
          "text": [
            "{'orange', 'apple', 'banana'}\n"
          ]
        }
      ]
    },
    {
      "cell_type": "code",
      "source": [],
      "metadata": {
        "id": "F_0XUe-hTh3T"
      },
      "execution_count": null,
      "outputs": []
    }
  ]
}