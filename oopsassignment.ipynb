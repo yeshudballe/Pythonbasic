{
  "nbformat": 4,
  "nbformat_minor": 0,
  "metadata": {
    "colab": {
      "provenance": []
    },
    "kernelspec": {
      "name": "python3",
      "display_name": "Python 3"
    },
    "language_info": {
      "name": "python"
    }
  },
  "cells": [
    {
      "cell_type": "markdown",
      "source": [
        "1. What is Object-Oriented Programming (OOP)?\n",
        "  - Object-Oriented Programming (OOP) is a programming paradigm based on the concept of “objects,” which can contain data in the form of fields (attributes) and code in the form of procedures (methods). It helps in organizing complex programs, promoting reusability, scalability, and modularity. Key principles of OOP include inheritance, encapsulation, polymorphism, and abstraction. Languages like Python, Java, and C++ support OOP, enabling developers to model real-world entities and manage large applications more efficiently.\n",
        "\n",
        "2. What is a class in OOP?\n",
        "  - A class is a blueprint or template for creating objects in Object-Oriented Programming. It defines attributes (variables) and behaviors (methods) that the objects created from the class will have. For example, a class Car might include properties like color and model, and methods like start() and stop(). Classes promote code reusability and modular design. In Python, a class is defined using the class keyword, and you can create multiple objects from a single class definition.\n",
        "\n",
        "3. What is an object in OOP?\n",
        "  - An object is an instance of a class. It contains actual values for the properties defined in the class and can use the class's methods. For example, if Car is a class, then my_car = Car() creates an object named my_car. Each object has its own copy of attributes but shares the class methods. Objects allow you to model real-world entities in code and interact with data in a structured way.\n",
        "\n",
        "4. What is the difference between abstraction and encapsulation?\n",
        "  - Abstraction hides the complex implementation and shows only the necessary features to the user. For example, using a mobile phone doesn't require knowing its internal circuits. Encapsulation, on the other hand, is the process of wrapping data and methods together into a single unit (class) and restricting direct access to some components using private attributes. Abstraction focuses on what an object does, and encapsulation focuses on how it is done and secured.\n",
        "\n",
        "5. What are dunder methods in Python?\n",
        "  - Dunder methods (short for “double underscore”) are special methods in Python that start and end with double underscores, like __init__, __str__, and __add__. They are also called magic methods and are used to customize class behavior. For example, __init__ is called when an object is created, and __str__ controls how the object is displayed as a string. These methods let you define how objects interact with built-in operations.\n",
        "\n",
        "6. Explain the concept of inheritance in OOP.\n",
        "  - Inheritance is an OOP principle where a new class (child or derived class) inherits properties and methods from an existing class (parent or base class). This allows code reuse and makes the program more modular. For example, a class Dog can inherit from a class Animal and get its speak() method while adding its own features. Python supports single, multiple, and multi-level inheritance, making it flexible for building complex relationships.\n",
        "\n",
        "7. What is polymorphism in OOP?\n",
        "  - Polymorphism means “many forms.” It allows objects of different classes to respond to the same method call in different ways. For example, if different classes like Cat and Dog have their own versions of a method speak(), calling speak() on each object will execute its class-specific behavior. Polymorphism improves flexibility and maintainability by allowing the same interface to be used for different underlying data types.\n",
        "\n",
        "8. How is encapsulation achieved in Python?\n",
        "  - Encapsulation in Python is achieved by defining class attributes as private (using a single underscore _ or double underscore __). These attributes cannot be accessed directly from outside the class. Instead, getter and setter methods are used to interact with the private data. This protects internal object states from being changed unexpectedly and ensures control over how data is modified, which improves security and integrity.\n",
        "\n",
        "9. What is a constructor in Python?\n",
        "  - A constructor is a special method in a class used to initialize new objects. In Python, the constructor is defined using the __init__() method. It is automatically called when an object is created. The __init__ method typically assigns values to object properties using the self keyword. For example, def __init__(self, name): self.name = name assigns the name when the object is created, like p = Person(\"John\").\n",
        "\n",
        "10. What are class and static methods in Python?\n",
        "  - Class methods use the @classmethod decorator and take cls as the first parameter. They can modify class-level data. Static methods use the @staticmethod decorator and don’t take self or cls as a parameter. They belong to the class but don’t access or modify class or instance data. Use class methods for factory functions and static methods for utility functions that relate to the class but don’t depend on its state.\n",
        "\n",
        "11. What is method overloading in Python?\n",
        "  - Method overloading means having multiple methods with the same name but different parameters. While Python does not support traditional method overloading like Java, it can be mimicked using default parameters or variable-length arguments (*args, **kwargs). The last defined method will override any earlier ones with the same name. You can use conditional logic inside a method to behave differently based on the arguments passed. This provides flexibility but requires careful design to avoid confusion and ensure readability.\n",
        "\n",
        "12. What is method overriding in OOP?\n",
        "  - Method overriding occurs when a subclass provides a specific implementation of a method that is already defined in its superclass. The overridden method in the child class must have the same name, return type, and parameters. This is commonly used in polymorphism, where different classes implement the same method differently. For example, a base class Animal may have a speak() method, and subclasses like Dog or Cat override it to provide their unique sounds.\n",
        "\n",
        "13. What is a property decorator in Python?\n",
        "  - The @property decorator in Python is used to define a method that can be accessed like an attribute. It allows you to control access to instance variables while using simple syntax. This is useful for encapsulating logic when getting or setting values. You can also define a setter using @property_name.setter to modify values securely. This technique helps implement read-only attributes or add validation logic during attribute access without changing how it's used.\n",
        "\n",
        "14. Why is polymorphism important in OOP?\n",
        "  - Polymorphism enables objects of different classes to be treated as objects of a common superclass, allowing a unified interface. It simplifies code by allowing one method or operator to work in different ways for different types. This makes software easier to extend and maintain. For instance, calling draw() on a list of different shape objects like Circle or Square will invoke their respective draw() methods, enabling dynamic behavior without changing code structure.\n",
        "\n",
        "15. What is an abstract class in Python?\n",
        "  - An abstract class is a class that cannot be instantiated and is used as a blueprint for other classes. In Python, abstract classes are defined using the abc module and the @abstractmethod decorator. Any class inheriting from an abstract class must implement all abstract methods. This ensures a consistent interface across all subclasses and helps enforce structure when designing large applications, especially when multiple developers are involved.\n",
        "\n",
        "16. What are the advantages of OOP?\n",
        "  - OOP offers several advantages:\n",
        "\n",
        "      - Modularity: Code is organized into classes, making it reusable.\n",
        "\n",
        "      - Encapsulation: Data hiding ensures secure access.\n",
        "\n",
        "      - Inheritance: Promotes code reuse by allowing new classes to reuse features of existing ones.\n",
        "\n",
        "      - Polymorphism: Enables flexible code by allowing the same interface to behave differently.\n",
        "\n",
        "      - Scalability and Maintainability: Easier to maintain and scale due to modular design.OOP helps model real-world problems more naturally and efficiently, making software more reliable and easier to understand.\n",
        "\n",
        "17. What is the difference between a class variable and an instance variable?\n",
        "  - A class variable is shared across all instances of a class and defined outside any method using the class name. Changing it affects all objects. An instance variable, defined inside __init__() using self, is unique to each object. For example, all students may share a school_name (class variable), but each has a different name and age (instance variables). Class variables manage global class-level data, while instance variables hold individual object state.\n",
        "\n",
        "18. What is multiple inheritance in Python?\n",
        "  - Multiple inheritance means a class can inherit from more than one parent class. In Python, this is done by specifying multiple parent classes in parentheses. For example: class Child(Parent1, Parent2):. This allows a child class to access properties and methods from multiple sources. However, it can lead to the diamond problem, where Python uses the Method Resolution Order (MRO) to decide which method to call. Python’s MRO is based on the C3 linearization algorithm.\n",
        "\n",
        "19. Explain the purpose of __str__ and __repr__ methods in Python.\n",
        "  - The __str__() method defines the string representation of an object when used with print() or str(). It’s meant to be readable for users. The __repr__() method is for developers and is used to represent the object in the interpreter or with repr(). Ideally, __repr__ should return a string that can recreate the object. If __str__ is not defined, __repr__ is used as a fallback. Both help in debugging and readable output.\n",
        "\n",
        "20. What is the significance of the super() function in Python?\n",
        "  - The super() function is used to call methods of a parent class from a subclass, especially when overriding methods. It allows you to access the base class’s implementation without explicitly naming it, which is useful for maintaining and updating code. super() also supports multiple inheritance properly by following the Method Resolution Order (MRO). It’s commonly used in constructors (__init__) to initialize the parent class attributes while extending functionality in the child class.\n",
        "\n",
        "21. What is the significance of the __del__ method in Python?\n",
        "  - The __del__ method is a destructor in Python, automatically called when an object is about to be destroyed. It is used to perform cleanup actions, such as closing files or releasing resources. However, its use is limited because the exact time of destruction is not predictable due to Python’s garbage collection. It’s better to manage resources using context managers (with statement) to ensure deterministic cleanup instead of relying on __del__.\n",
        "\n",
        "22. What is the difference between @staticmethod and @classmethod in Python?\n",
        "  - A @staticmethod does not take self or cls as a parameter and cannot access instance or class data. It’s like a regular function but lives inside a class. A @classmethod takes cls as the first parameter and can access and modify class-level data. Use staticmethod for utility functions, and classmethod for factory methods or when working with class-level data. Both are used to group related functionality within a class.\n",
        "\n",
        "23. How does polymorphism work in Python with inheritance?\n",
        "  - In Python, polymorphism with inheritance allows different child classes to override the same method from a parent class. When that method is called on an object, Python determines which version to execute based on the object’s class. This enables dynamic method resolution at runtime. For example, both Dog and Cat classes can override a speak() method inherited from Animal, and calling animal.speak() will execute the appropriate version depending on the actual object type.\n",
        "\n",
        "24. What is method chaining in Python OOP?\n",
        "  - Method chaining is a technique where multiple methods are called sequentially on the same object in a single line, using dot notation. Each method must return self (the object) to enable chaining. This leads to cleaner and more readable code. For example: obj.set_name(\"John\").set_age(25).greet(). It is commonly used in builder patterns, data processing pipelines, and frameworks like Pandas or Django ORM, where method chaining simplifies complex configurations or queries.\n",
        "\n",
        "25. What is the purpose of the __call__ method in Python?\n",
        "  - The __call__ method allows an instance of a class to be called as a function. When obj() is used and obj has a __call__ method, that method gets invoked. This is useful for making objects behave like functions and is often used in decorators, callable classes, or function wrappers. It provides more flexibility by allowing the same object to store state and be used like a function with additional logic on invocation.\n",
        "\n"
      ],
      "metadata": {
        "id": "p83XkWSFVgb3"
      }
    },
    {
      "cell_type": "code",
      "source": [
        "# PRACTICAL OUESTIONS.\n",
        " # 1. Create a parent class Animal with a method speak() that prints a generic message. Create a child class Dog that overrides the speak() method to print \"Bark!\".\n",
        "class Animal:\n",
        "    def speak(self):\n",
        "        print(\"Animal speaks in a general way.\")\n",
        "\n",
        "class Dog(Animal):\n",
        "    def speak(self):\n",
        "        print(\"Bark!\")\n",
        "\n",
        "a = Animal()\n",
        "a.speak()\n",
        "\n",
        "d = Dog()\n",
        "d.speak()\n"
      ],
      "metadata": {
        "colab": {
          "base_uri": "https://localhost:8080/"
        },
        "id": "Gob4n7KFXZoO",
        "outputId": "01adf52e-b1d4-4a3d-82dc-6ba1f4730d6c"
      },
      "execution_count": 1,
      "outputs": [
        {
          "output_type": "stream",
          "name": "stdout",
          "text": [
            "Animal speaks in a general way.\n",
            "Bark!\n"
          ]
        }
      ]
    },
    {
      "cell_type": "code",
      "source": [
        "# 2. Write a program to create an abstract class Shape with a method area(). Derive classes Circle and Rectangle from it and implement the area() method in both.\n",
        "from abc import ABC, abstractmethod\n",
        "\n",
        "class Shape(ABC):\n",
        "    @abstractmethod\n",
        "    def area(self):\n",
        "        pass\n",
        "\n",
        "class Circle(Shape):\n",
        "    def __init__(self, radius):\n",
        "        self.radius = radius\n",
        "\n",
        "    def area(self):\n",
        "        return 3.14 * self.radius * self.radius\n",
        "\n",
        "class Rectangle(Shape):\n",
        "    def __init__(self, length, width):\n",
        "        self.length = length\n",
        "        self.width = width\n",
        "\n",
        "    def area(self):\n",
        "        return self.length * self.width\n",
        "\n",
        "c = Circle(5)\n",
        "print(\"Circle Area:\", c.area())\n",
        "\n",
        "r = Rectangle(4, 6)\n",
        "print(\"Rectangle Area:\", r.area())\n"
      ],
      "metadata": {
        "colab": {
          "base_uri": "https://localhost:8080/"
        },
        "id": "og1_CjpGYK2g",
        "outputId": "72aef792-35e0-4bf3-9b86-d9e1b6eade78"
      },
      "execution_count": 2,
      "outputs": [
        {
          "output_type": "stream",
          "name": "stdout",
          "text": [
            "Circle Area: 78.5\n",
            "Rectangle Area: 24\n"
          ]
        }
      ]
    },
    {
      "cell_type": "code",
      "source": [
        "# 3. Implement a multi-level inheritance scenario where a class Vehicle has an attribute type. Derive a class Car and further derive a class ElectricCar that adds a battery attribute.\n",
        "class Vehicle:\n",
        "    def __init__(self, type):\n",
        "        self.type = type\n",
        "\n",
        "class Car(Vehicle):\n",
        "    def __init__(self, type, brand):\n",
        "        super().__init__(type)\n",
        "        self.brand = brand\n",
        "\n",
        "class ElectricCar(Car):\n",
        "    def __init__(self, type, brand, battery):\n",
        "        super().__init__(type, brand)\n",
        "        self.battery = battery\n",
        "\n",
        "e = ElectricCar(\"Four Wheeler\", \"Tesla\", \"100kWh\")\n",
        "print(e.type, e.brand, e.battery)\n"
      ],
      "metadata": {
        "colab": {
          "base_uri": "https://localhost:8080/"
        },
        "id": "kCW8rN6pYZ_V",
        "outputId": "6a9fd437-974d-4145-ad18-b5393716398b"
      },
      "execution_count": 3,
      "outputs": [
        {
          "output_type": "stream",
          "name": "stdout",
          "text": [
            "Four Wheeler Tesla 100kWh\n"
          ]
        }
      ]
    },
    {
      "cell_type": "code",
      "source": [
        "# 4. Demonstrate polymorphism by creating a base class Bird with a method fly(). Create two derived classes Sparrow and Penguin that override the fly() method.\n",
        "class Bird:\n",
        "    def fly(self):\n",
        "        print(\"Bird is flying.\")\n",
        "\n",
        "class Sparrow(Bird):\n",
        "    def fly(self):\n",
        "        print(\"Sparrow flies high.\")\n",
        "\n",
        "class Penguin(Bird):\n",
        "    def fly(self):\n",
        "        print(\"Penguins can't fly.\")\n",
        "\n",
        "birds = [Sparrow(), Penguin()]\n",
        "for b in birds:\n",
        "    b.fly()\n"
      ],
      "metadata": {
        "colab": {
          "base_uri": "https://localhost:8080/"
        },
        "id": "AHCmT4z_Yl-F",
        "outputId": "72b609de-4d5f-429f-fb66-64057c3c5376"
      },
      "execution_count": 4,
      "outputs": [
        {
          "output_type": "stream",
          "name": "stdout",
          "text": [
            "Sparrow flies high.\n",
            "Penguins can't fly.\n"
          ]
        }
      ]
    },
    {
      "cell_type": "code",
      "source": [
        "# 5. Write a program to demonstrate encapsulation by creating a class BankAccount with private attributes balance and methods to deposit, withdraw, and check balance.\n",
        "class BankAccount:\n",
        "    def __init__(self):\n",
        "        self.__balance = 0\n",
        "\n",
        "    def deposit(self, amount):\n",
        "        self.__balance += amount\n",
        "\n",
        "    def withdraw(self, amount):\n",
        "        if amount <= self.__balance:\n",
        "            self.__balance -= amount\n",
        "        else:\n",
        "            print(\"Insufficient funds.\")\n",
        "\n",
        "    def check_balance(self):\n",
        "        return self.__balance\n",
        "\n",
        "acc = BankAccount()\n",
        "acc.deposit(1000)\n",
        "acc.withdraw(300)\n",
        "print(\"Balance:\", acc.check_balance())\n",
        ""
      ],
      "metadata": {
        "colab": {
          "base_uri": "https://localhost:8080/"
        },
        "id": "vW7avYppYvRO",
        "outputId": "8f15732f-2059-45cd-d83b-e0fcb5c53bf2"
      },
      "execution_count": 5,
      "outputs": [
        {
          "output_type": "stream",
          "name": "stdout",
          "text": [
            "Balance: 700\n"
          ]
        }
      ]
    },
    {
      "cell_type": "code",
      "source": [
        "# 6. Demonstrate runtime polymorphism using a method play() in a base class Instrument. Derive classes Guitar and Piano that implement their own version of play().\n",
        "class Instrument:\n",
        "    def play(self):\n",
        "        print(\"Instrument is playing.\")\n",
        "\n",
        "class Guitar(Instrument):\n",
        "    def play(self):\n",
        "        print(\"Guitar is playing.\")\n",
        "\n",
        "class Piano(Instrument):\n",
        "    def play(self):\n",
        "        print(\"Piano is playing.\")\n",
        "\n",
        "for i in [Guitar(), Piano()]:\n",
        "    i.play()\n",
        ""
      ],
      "metadata": {
        "colab": {
          "base_uri": "https://localhost:8080/"
        },
        "id": "rrSJc2bgYz7x",
        "outputId": "bedf81df-4cb0-49bc-e1fd-f9f72605a536"
      },
      "execution_count": 6,
      "outputs": [
        {
          "output_type": "stream",
          "name": "stdout",
          "text": [
            "Guitar is playing.\n",
            "Piano is playing.\n"
          ]
        }
      ]
    },
    {
      "cell_type": "code",
      "source": [
        "# 7. Create a class MathOperations with a class method add_numbers() to add two numbers and a static method subtract_numbers() to subtract two numbers.\n",
        "class MathOperations:\n",
        "    @classmethod\n",
        "    def add_numbers(cls, a, b):\n",
        "        return a + b\n",
        "\n",
        "    @staticmethod\n",
        "    def subtract_numbers(a, b):\n",
        "        return a - b\n",
        "\n",
        "print(MathOperations.add_numbers(10, 5))\n",
        "print(MathOperations.subtract_numbers(10, 5))\n",
        ""
      ],
      "metadata": {
        "colab": {
          "base_uri": "https://localhost:8080/"
        },
        "id": "hP2an5tXY3uK",
        "outputId": "790fa35b-9f2c-4392-d520-a6391fd313bb"
      },
      "execution_count": 7,
      "outputs": [
        {
          "output_type": "stream",
          "name": "stdout",
          "text": [
            "15\n",
            "5\n"
          ]
        }
      ]
    },
    {
      "cell_type": "code",
      "source": [
        "# 8. Implement a class Person with a class method to count the total number of persons created.\n",
        "class Person:\n",
        "    count = 0\n",
        "\n",
        "    def __init__(self, name):\n",
        "        self.name = name\n",
        "        Person.count += 1\n",
        "\n",
        "    @classmethod\n",
        "    def total_persons(cls):\n",
        "        return cls.count\n",
        "\n",
        "p1 = Person(\"A\")\n",
        "p2 = Person(\"B\")\n",
        "print(\"Total Persons:\", Person.total_persons())\n",
        ""
      ],
      "metadata": {
        "colab": {
          "base_uri": "https://localhost:8080/"
        },
        "id": "um1zikS0Y64o",
        "outputId": "b4e2e18a-781d-45b4-c5ba-e2283a7622c5"
      },
      "execution_count": 8,
      "outputs": [
        {
          "output_type": "stream",
          "name": "stdout",
          "text": [
            "Total Persons: 2\n"
          ]
        }
      ]
    },
    {
      "cell_type": "code",
      "source": [
        "# 9. Write a class Fraction with attributes numerator and denominator. Override the str method to display the fraction as \"numerator/denominator\".\n",
        "class Fraction:\n",
        "    def __init__(self, num, den):\n",
        "        self.num = num\n",
        "        self.den = den\n",
        "\n",
        "    def __str__(self):\n",
        "        return f\"{self.num}/{self.den}\"\n",
        "\n",
        "f = Fraction(3, 4)\n",
        "print(f)\n",
        ""
      ],
      "metadata": {
        "colab": {
          "base_uri": "https://localhost:8080/"
        },
        "id": "81R1RlBlY9vk",
        "outputId": "a5af97b1-e201-4c7c-c0c4-ececc5c9a82a"
      },
      "execution_count": 9,
      "outputs": [
        {
          "output_type": "stream",
          "name": "stdout",
          "text": [
            "3/4\n"
          ]
        }
      ]
    },
    {
      "cell_type": "code",
      "source": [
        "# 10. Demonstrate operator overloading by creating a class Vector and overriding the add method to add two vectors.\n",
        "class Vector:\n",
        "    def __init__(self, x, y):\n",
        "        self.x = x\n",
        "        self.y = y\n",
        "\n",
        "    def __add__(self, other):\n",
        "        return Vector(self.x + other.x, self.y + other.y)\n",
        "\n",
        "    def __str__(self):\n",
        "        return f\"({self.x}, {self.y})\"\n",
        "\n",
        "v1 = Vector(2, 3)\n",
        "v2 = Vector(4, 1)\n",
        "print(v1 + v2)\n",
        ""
      ],
      "metadata": {
        "colab": {
          "base_uri": "https://localhost:8080/"
        },
        "id": "qxBi3K9MZARh",
        "outputId": "13424a61-f350-4dd6-e9c5-f4b12a81ec56"
      },
      "execution_count": 10,
      "outputs": [
        {
          "output_type": "stream",
          "name": "stdout",
          "text": [
            "(6, 4)\n"
          ]
        }
      ]
    },
    {
      "cell_type": "code",
      "source": [
        "# 11. Create a class Person with attributes name and age. Add a method greet() that prints \"Hello, my name is {name} and I am {age} years old.\"\n",
        "class Person:\n",
        "    def __init__(self, name, age):\n",
        "        self.name = name\n",
        "        self.age = age\n",
        "\n",
        "    def greet(self):\n",
        "        print(f\"Hello, my name is {self.name} and I am {self.age} years old.\")\n",
        "\n",
        "p = Person(\"Yogita\", 20)\n",
        "p.greet()\n",
        ""
      ],
      "metadata": {
        "colab": {
          "base_uri": "https://localhost:8080/"
        },
        "id": "L-3dC1fHZCjG",
        "outputId": "c9a610a7-66e0-40c1-9450-27669799825b"
      },
      "execution_count": 11,
      "outputs": [
        {
          "output_type": "stream",
          "name": "stdout",
          "text": [
            "Hello, my name is Yogita and I am 20 years old.\n"
          ]
        }
      ]
    },
    {
      "cell_type": "code",
      "source": [
        "# 12. Implement a class Student with attributes name and grades. Create a method average_grade() to compute the average of the grades.\n",
        "class Student:\n",
        "    def __init__(self, name, grades):\n",
        "        self.name = name\n",
        "        self.grades = grades\n",
        "\n",
        "    def average_grade(self):\n",
        "        return sum(self.grades) / len(self.grades)\n",
        "\n",
        "s = Student(\"Ankit\", [80, 90, 85])\n",
        "print(\"Average:\", s.average_grade())\n",
        ""
      ],
      "metadata": {
        "colab": {
          "base_uri": "https://localhost:8080/"
        },
        "id": "YmOX3QuTZE_0",
        "outputId": "c58790b6-2e6c-489c-8613-15d38ea4be06"
      },
      "execution_count": 12,
      "outputs": [
        {
          "output_type": "stream",
          "name": "stdout",
          "text": [
            "Average: 85.0\n"
          ]
        }
      ]
    },
    {
      "cell_type": "code",
      "source": [
        "# 13. Create a class Rectangle with methods set_dimensions() to set the dimensions and area() to calculate the area.\n",
        "class Rectangle:\n",
        "    def set_dimensions(self, length, width):\n",
        "        self.length = length\n",
        "        self.width = width\n",
        "\n",
        "    def area(self):\n",
        "        return self.length * self.width\n",
        "\n",
        "r = Rectangle()\n",
        "r.set_dimensions(4, 5)\n",
        "print(\"Area:\", r.area())\n"
      ],
      "metadata": {
        "colab": {
          "base_uri": "https://localhost:8080/"
        },
        "id": "mJqt4i7xZHFX",
        "outputId": "04a490ea-9b47-4585-cbf6-184ac000b877"
      },
      "execution_count": 14,
      "outputs": [
        {
          "output_type": "stream",
          "name": "stdout",
          "text": [
            "Area: 20\n"
          ]
        }
      ]
    },
    {
      "cell_type": "code",
      "source": [
        "# 14. Create a class Employee with a method calculate_salary() that computes the salary based on hours worked and hourly rate. Create a derived class Manager that adds a bonus to the salary.\n",
        "class Employee:\n",
        "    def calculate_salary(self, hours, rate):\n",
        "        return hours * rate\n",
        "\n",
        "class Manager(Employee):\n",
        "    def calculate_salary(self, hours, rate, bonus):\n",
        "        return super().calculate_salary(hours, rate) + bonus\n",
        "\n",
        "m = Manager()\n",
        "print(\"Manager Salary:\", m.calculate_salary(40, 50, 1000))\n"
      ],
      "metadata": {
        "colab": {
          "base_uri": "https://localhost:8080/"
        },
        "id": "ZtMp0xdSZJQn",
        "outputId": "eb44ff9a-18a7-4096-ae20-3efcefa0f1de"
      },
      "execution_count": 15,
      "outputs": [
        {
          "output_type": "stream",
          "name": "stdout",
          "text": [
            "Manager Salary: 3000\n"
          ]
        }
      ]
    },
    {
      "cell_type": "code",
      "source": [
        "# 15. Create a class Product with attributes name, price, and quantity. Implement a method total_price() that calculates the total price of the product.\n",
        "class Product:\n",
        "    def __init__(self, name, price, quantity):\n",
        "        self.name = name\n",
        "        self.price = price\n",
        "        self.quantity = quantity\n",
        "\n",
        "    def total_price(self):\n",
        "        return self.price * self.quantity\n",
        "\n",
        "p = Product(\"Pen\", 10, 3)\n",
        "print(\"Total Price:\", p.total_price())\n"
      ],
      "metadata": {
        "colab": {
          "base_uri": "https://localhost:8080/"
        },
        "id": "VoLBacueZLnn",
        "outputId": "e63dfadb-b530-4da1-9280-aff76b108dde"
      },
      "execution_count": 16,
      "outputs": [
        {
          "output_type": "stream",
          "name": "stdout",
          "text": [
            "Total Price: 30\n"
          ]
        }
      ]
    },
    {
      "cell_type": "code",
      "source": [
        "# 16. Create a class Animal with an abstract method sound(). Create two derived classes Cow and Sheep that implement the sound() method.\n",
        "from abc import ABC, abstractmethod\n",
        "\n",
        "class Animal(ABC):\n",
        "    @abstractmethod\n",
        "    def sound(self):\n",
        "        pass\n",
        "\n",
        "class Cow(Animal):\n",
        "    def sound(self):\n",
        "        print(\"Moo\")\n",
        "\n",
        "class Sheep(Animal):\n",
        "    def sound(self):\n",
        "        print(\"Baa\")\n",
        "\n",
        "c = Cow()\n",
        "s = Sheep()\n",
        "c.sound()\n",
        "s.sound()\n",
        ""
      ],
      "metadata": {
        "colab": {
          "base_uri": "https://localhost:8080/"
        },
        "id": "Pqwp2FYKZO0M",
        "outputId": "bf934ac5-eb08-4da5-eba3-0a3ebdfcbef1"
      },
      "execution_count": 17,
      "outputs": [
        {
          "output_type": "stream",
          "name": "stdout",
          "text": [
            "Moo\n",
            "Baa\n"
          ]
        }
      ]
    },
    {
      "cell_type": "code",
      "source": [
        "# 17. Create a class Book with attributes title, author, and year_published. Add a method get_book_info() that returns a formatted string with the book's details.\n",
        "class Book:\n",
        "    def __init__(self, title, author, year):\n",
        "        self.title = title\n",
        "        self.author = author\n",
        "        self.year = year\n",
        "\n",
        "    def get_book_info(self):\n",
        "        return f\"{self.title} by {self.author}, published in {self.year}\"\n",
        "\n",
        "b = Book(\"The Alchemist\", \"Paulo Coelho\", 1988)\n",
        "print(b.get_book_info())\n",
        ""
      ],
      "metadata": {
        "colab": {
          "base_uri": "https://localhost:8080/"
        },
        "id": "Rxfz06L2ZRMj",
        "outputId": "01494234-2370-4879-88a7-0d6d95d625ce"
      },
      "execution_count": 18,
      "outputs": [
        {
          "output_type": "stream",
          "name": "stdout",
          "text": [
            "The Alchemist by Paulo Coelho, published in 1988\n"
          ]
        }
      ]
    },
    {
      "cell_type": "code",
      "source": [
        "# 18. Create a class House with attributes address and price. Create a derived class Mansion that adds an attribute number_of_rooms.\n",
        "class House:\n",
        "    def __init__(self, address, price):\n",
        "        self.address = address\n",
        "        self.price = price\n",
        "\n",
        "class Mansion(House):\n",
        "    def __init__(self, address, price, rooms):\n",
        "        super().__init__(address, price)\n",
        "        self.rooms = rooms\n",
        "\n",
        "m = Mansion(\"123 Street\", 1000000, 10)\n",
        "print(m.address, m.price, m.rooms)\n"
      ],
      "metadata": {
        "colab": {
          "base_uri": "https://localhost:8080/"
        },
        "id": "Vvo4BYIeZU5z",
        "outputId": "3eb24363-0660-4edd-e60f-5a6330e00220"
      },
      "execution_count": 19,
      "outputs": [
        {
          "output_type": "stream",
          "name": "stdout",
          "text": [
            "123 Street 1000000 10\n"
          ]
        }
      ]
    }
  ]
}